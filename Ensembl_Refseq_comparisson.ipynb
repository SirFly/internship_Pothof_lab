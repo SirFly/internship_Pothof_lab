{
 "cells": [
  {
   "cell_type": "code",
   "execution_count": 272,
   "metadata": {},
   "outputs": [],
   "source": [
    "import pandas as pd\n",
    "import re\n",
    "import numpy as np\n",
    "import matplotlib.pyplot as plt\n",
    "import seaborn as sns\n",
    "import scipy\n",
    "from matplotlib_venn import venn2\n",
    "%matplotlib inline\n",
    "from bioinfokit import analys, visuz"
   ]
  },
  {
   "cell_type": "code",
   "execution_count": 273,
   "metadata": {},
   "outputs": [],
   "source": [
    "coding_genes = pd.read_csv('../ref_genome/mm39/m39_protein_genes_GC.txt')"
   ]
  },
  {
   "cell_type": "code",
   "execution_count": 274,
   "metadata": {},
   "outputs": [
    {
     "data": {
      "text/html": [
       "<div>\n",
       "<style scoped>\n",
       "    .dataframe tbody tr th:only-of-type {\n",
       "        vertical-align: middle;\n",
       "    }\n",
       "\n",
       "    .dataframe tbody tr th {\n",
       "        vertical-align: top;\n",
       "    }\n",
       "\n",
       "    .dataframe thead th {\n",
       "        text-align: right;\n",
       "    }\n",
       "</style>\n",
       "<table border=\"1\" class=\"dataframe\">\n",
       "  <thead>\n",
       "    <tr style=\"text-align: right;\">\n",
       "      <th></th>\n",
       "      <th>Gene stable ID</th>\n",
       "      <th>Gene % GC content</th>\n",
       "      <th>Gene name</th>\n",
       "    </tr>\n",
       "  </thead>\n",
       "  <tbody>\n",
       "    <tr>\n",
       "      <th>0</th>\n",
       "      <td>ENSMUSG00000064341</td>\n",
       "      <td>37.62</td>\n",
       "      <td>mt-Nd1</td>\n",
       "    </tr>\n",
       "    <tr>\n",
       "      <th>1</th>\n",
       "      <td>ENSMUSG00000064345</td>\n",
       "      <td>35.74</td>\n",
       "      <td>mt-Nd2</td>\n",
       "    </tr>\n",
       "    <tr>\n",
       "      <th>2</th>\n",
       "      <td>ENSMUSG00000064351</td>\n",
       "      <td>39.87</td>\n",
       "      <td>mt-Co1</td>\n",
       "    </tr>\n",
       "    <tr>\n",
       "      <th>3</th>\n",
       "      <td>ENSMUSG00000064354</td>\n",
       "      <td>38.60</td>\n",
       "      <td>mt-Co2</td>\n",
       "    </tr>\n",
       "    <tr>\n",
       "      <th>4</th>\n",
       "      <td>ENSMUSG00000064356</td>\n",
       "      <td>31.86</td>\n",
       "      <td>mt-Atp8</td>\n",
       "    </tr>\n",
       "  </tbody>\n",
       "</table>\n",
       "</div>"
      ],
      "text/plain": [
       "       Gene stable ID  Gene % GC content Gene name\n",
       "0  ENSMUSG00000064341              37.62    mt-Nd1\n",
       "1  ENSMUSG00000064345              35.74    mt-Nd2\n",
       "2  ENSMUSG00000064351              39.87    mt-Co1\n",
       "3  ENSMUSG00000064354              38.60    mt-Co2\n",
       "4  ENSMUSG00000064356              31.86   mt-Atp8"
      ]
     },
     "execution_count": 274,
     "metadata": {},
     "output_type": "execute_result"
    }
   ],
   "source": [
    "coding_genes.head()"
   ]
  },
  {
   "cell_type": "code",
   "execution_count": 275,
   "metadata": {},
   "outputs": [],
   "source": [
    "coding_genes['protein_coding'] = True"
   ]
  },
  {
   "cell_type": "code",
   "execution_count": 276,
   "metadata": {},
   "outputs": [
    {
     "data": {
      "text/plain": [
       "(21885, 4)"
      ]
     },
     "execution_count": 276,
     "metadata": {},
     "output_type": "execute_result"
    }
   ],
   "source": [
    "coding_genes.shape"
   ]
  },
  {
   "cell_type": "code",
   "execution_count": null,
   "metadata": {},
   "outputs": [],
   "source": []
  },
  {
   "cell_type": "code",
   "execution_count": 277,
   "metadata": {},
   "outputs": [],
   "source": [
    "male_ensembl = pd.read_csv('../data/brain/DESeq2_out/male.csv')"
   ]
  },
  {
   "cell_type": "code",
   "execution_count": 278,
   "metadata": {},
   "outputs": [
    {
     "data": {
      "text/html": [
       "<div>\n",
       "<style scoped>\n",
       "    .dataframe tbody tr th:only-of-type {\n",
       "        vertical-align: middle;\n",
       "    }\n",
       "\n",
       "    .dataframe tbody tr th {\n",
       "        vertical-align: top;\n",
       "    }\n",
       "\n",
       "    .dataframe thead th {\n",
       "        text-align: right;\n",
       "    }\n",
       "</style>\n",
       "<table border=\"1\" class=\"dataframe\">\n",
       "  <thead>\n",
       "    <tr style=\"text-align: right;\">\n",
       "      <th></th>\n",
       "      <th>Unnamed: 0</th>\n",
       "      <th>baseMean</th>\n",
       "      <th>log2FoldChange</th>\n",
       "      <th>lfcSE</th>\n",
       "      <th>stat</th>\n",
       "      <th>pvalue</th>\n",
       "      <th>padj</th>\n",
       "    </tr>\n",
       "  </thead>\n",
       "  <tbody>\n",
       "    <tr>\n",
       "      <th>0</th>\n",
       "      <td>C4b</td>\n",
       "      <td>884.716371</td>\n",
       "      <td>-2.956498</td>\n",
       "      <td>0.212674</td>\n",
       "      <td>-13.901526</td>\n",
       "      <td>6.200554e-44</td>\n",
       "      <td>1.380367e-39</td>\n",
       "    </tr>\n",
       "    <tr>\n",
       "      <th>1</th>\n",
       "      <td>Lyz2</td>\n",
       "      <td>330.079396</td>\n",
       "      <td>-2.293038</td>\n",
       "      <td>0.243512</td>\n",
       "      <td>-9.416516</td>\n",
       "      <td>4.663037e-21</td>\n",
       "      <td>5.190426e-17</td>\n",
       "    </tr>\n",
       "    <tr>\n",
       "      <th>2</th>\n",
       "      <td>Gfap</td>\n",
       "      <td>3998.894233</td>\n",
       "      <td>-1.226660</td>\n",
       "      <td>0.159915</td>\n",
       "      <td>-7.670683</td>\n",
       "      <td>1.710823e-14</td>\n",
       "      <td>1.269545e-10</td>\n",
       "    </tr>\n",
       "    <tr>\n",
       "      <th>3</th>\n",
       "      <td>Avp</td>\n",
       "      <td>105.836367</td>\n",
       "      <td>-1.970187</td>\n",
       "      <td>0.271699</td>\n",
       "      <td>-7.251357</td>\n",
       "      <td>4.126180e-13</td>\n",
       "      <td>2.296425e-09</td>\n",
       "    </tr>\n",
       "    <tr>\n",
       "      <th>4</th>\n",
       "      <td>H2-K1</td>\n",
       "      <td>456.366097</td>\n",
       "      <td>-1.273633</td>\n",
       "      <td>0.189811</td>\n",
       "      <td>-6.710010</td>\n",
       "      <td>1.946113e-11</td>\n",
       "      <td>7.220729e-08</td>\n",
       "    </tr>\n",
       "  </tbody>\n",
       "</table>\n",
       "</div>"
      ],
      "text/plain": [
       "  Unnamed: 0     baseMean  log2FoldChange     lfcSE       stat        pvalue  \\\n",
       "0        C4b   884.716371       -2.956498  0.212674 -13.901526  6.200554e-44   \n",
       "1       Lyz2   330.079396       -2.293038  0.243512  -9.416516  4.663037e-21   \n",
       "2       Gfap  3998.894233       -1.226660  0.159915  -7.670683  1.710823e-14   \n",
       "3        Avp   105.836367       -1.970187  0.271699  -7.251357  4.126180e-13   \n",
       "4      H2-K1   456.366097       -1.273633  0.189811  -6.710010  1.946113e-11   \n",
       "\n",
       "           padj  \n",
       "0  1.380367e-39  \n",
       "1  5.190426e-17  \n",
       "2  1.269545e-10  \n",
       "3  2.296425e-09  \n",
       "4  7.220729e-08  "
      ]
     },
     "execution_count": 278,
     "metadata": {},
     "output_type": "execute_result"
    }
   ],
   "source": [
    "male_ensembl.head()"
   ]
  },
  {
   "cell_type": "code",
   "execution_count": 279,
   "metadata": {},
   "outputs": [],
   "source": [
    "male_ensembl.rename({'Unnamed: 0' : 'Gene name'}, axis = 1, inplace=True)"
   ]
  },
  {
   "cell_type": "code",
   "execution_count": 280,
   "metadata": {},
   "outputs": [
    {
     "data": {
      "text/plain": [
       "(53599, 7)"
      ]
     },
     "execution_count": 280,
     "metadata": {},
     "output_type": "execute_result"
    }
   ],
   "source": [
    "male_ensembl.shape"
   ]
  },
  {
   "cell_type": "code",
   "execution_count": 281,
   "metadata": {},
   "outputs": [
    {
     "data": {
      "text/html": [
       "<div>\n",
       "<style scoped>\n",
       "    .dataframe tbody tr th:only-of-type {\n",
       "        vertical-align: middle;\n",
       "    }\n",
       "\n",
       "    .dataframe tbody tr th {\n",
       "        vertical-align: top;\n",
       "    }\n",
       "\n",
       "    .dataframe thead th {\n",
       "        text-align: right;\n",
       "    }\n",
       "</style>\n",
       "<table border=\"1\" class=\"dataframe\">\n",
       "  <thead>\n",
       "    <tr style=\"text-align: right;\">\n",
       "      <th></th>\n",
       "      <th>Gene name</th>\n",
       "      <th>baseMean</th>\n",
       "      <th>log2FoldChange</th>\n",
       "      <th>lfcSE</th>\n",
       "      <th>stat</th>\n",
       "      <th>pvalue</th>\n",
       "      <th>padj</th>\n",
       "    </tr>\n",
       "  </thead>\n",
       "  <tbody>\n",
       "    <tr>\n",
       "      <th>0</th>\n",
       "      <td>C4b</td>\n",
       "      <td>884.716371</td>\n",
       "      <td>-2.956498</td>\n",
       "      <td>0.212674</td>\n",
       "      <td>-13.901526</td>\n",
       "      <td>6.200554e-44</td>\n",
       "      <td>1.380367e-39</td>\n",
       "    </tr>\n",
       "    <tr>\n",
       "      <th>1</th>\n",
       "      <td>Lyz2</td>\n",
       "      <td>330.079396</td>\n",
       "      <td>-2.293038</td>\n",
       "      <td>0.243512</td>\n",
       "      <td>-9.416516</td>\n",
       "      <td>4.663037e-21</td>\n",
       "      <td>5.190426e-17</td>\n",
       "    </tr>\n",
       "    <tr>\n",
       "      <th>2</th>\n",
       "      <td>Gfap</td>\n",
       "      <td>3998.894233</td>\n",
       "      <td>-1.226660</td>\n",
       "      <td>0.159915</td>\n",
       "      <td>-7.670683</td>\n",
       "      <td>1.710823e-14</td>\n",
       "      <td>1.269545e-10</td>\n",
       "    </tr>\n",
       "    <tr>\n",
       "      <th>3</th>\n",
       "      <td>Avp</td>\n",
       "      <td>105.836367</td>\n",
       "      <td>-1.970187</td>\n",
       "      <td>0.271699</td>\n",
       "      <td>-7.251357</td>\n",
       "      <td>4.126180e-13</td>\n",
       "      <td>2.296425e-09</td>\n",
       "    </tr>\n",
       "    <tr>\n",
       "      <th>4</th>\n",
       "      <td>H2-K1</td>\n",
       "      <td>456.366097</td>\n",
       "      <td>-1.273633</td>\n",
       "      <td>0.189811</td>\n",
       "      <td>-6.710010</td>\n",
       "      <td>1.946113e-11</td>\n",
       "      <td>7.220729e-08</td>\n",
       "    </tr>\n",
       "    <tr>\n",
       "      <th>...</th>\n",
       "      <td>...</td>\n",
       "      <td>...</td>\n",
       "      <td>...</td>\n",
       "      <td>...</td>\n",
       "      <td>...</td>\n",
       "      <td>...</td>\n",
       "      <td>...</td>\n",
       "    </tr>\n",
       "    <tr>\n",
       "      <th>53594</th>\n",
       "      <td>Zscan4e</td>\n",
       "      <td>3.449161</td>\n",
       "      <td>0.364434</td>\n",
       "      <td>1.215639</td>\n",
       "      <td>0.299788</td>\n",
       "      <td>7.643392e-01</td>\n",
       "      <td>NaN</td>\n",
       "    </tr>\n",
       "    <tr>\n",
       "      <th>53595</th>\n",
       "      <td>Zscan4f</td>\n",
       "      <td>0.986277</td>\n",
       "      <td>2.538435</td>\n",
       "      <td>2.553220</td>\n",
       "      <td>0.994209</td>\n",
       "      <td>3.201210e-01</td>\n",
       "      <td>NaN</td>\n",
       "    </tr>\n",
       "    <tr>\n",
       "      <th>53596</th>\n",
       "      <td>Zscan5b</td>\n",
       "      <td>5.195822</td>\n",
       "      <td>0.220797</td>\n",
       "      <td>0.970424</td>\n",
       "      <td>0.227527</td>\n",
       "      <td>8.200142e-01</td>\n",
       "      <td>NaN</td>\n",
       "    </tr>\n",
       "    <tr>\n",
       "      <th>53597</th>\n",
       "      <td>Zxda</td>\n",
       "      <td>3.454665</td>\n",
       "      <td>0.149340</td>\n",
       "      <td>1.136293</td>\n",
       "      <td>0.131427</td>\n",
       "      <td>8.954374e-01</td>\n",
       "      <td>NaN</td>\n",
       "    </tr>\n",
       "    <tr>\n",
       "      <th>53598</th>\n",
       "      <td>Zyg11a</td>\n",
       "      <td>8.905355</td>\n",
       "      <td>-0.410693</td>\n",
       "      <td>0.825718</td>\n",
       "      <td>-0.497377</td>\n",
       "      <td>6.189230e-01</td>\n",
       "      <td>NaN</td>\n",
       "    </tr>\n",
       "  </tbody>\n",
       "</table>\n",
       "<p>53599 rows × 7 columns</p>\n",
       "</div>"
      ],
      "text/plain": [
       "      Gene name     baseMean  log2FoldChange     lfcSE       stat  \\\n",
       "0           C4b   884.716371       -2.956498  0.212674 -13.901526   \n",
       "1          Lyz2   330.079396       -2.293038  0.243512  -9.416516   \n",
       "2          Gfap  3998.894233       -1.226660  0.159915  -7.670683   \n",
       "3           Avp   105.836367       -1.970187  0.271699  -7.251357   \n",
       "4         H2-K1   456.366097       -1.273633  0.189811  -6.710010   \n",
       "...         ...          ...             ...       ...        ...   \n",
       "53594   Zscan4e     3.449161        0.364434  1.215639   0.299788   \n",
       "53595   Zscan4f     0.986277        2.538435  2.553220   0.994209   \n",
       "53596   Zscan5b     5.195822        0.220797  0.970424   0.227527   \n",
       "53597      Zxda     3.454665        0.149340  1.136293   0.131427   \n",
       "53598    Zyg11a     8.905355       -0.410693  0.825718  -0.497377   \n",
       "\n",
       "             pvalue          padj  \n",
       "0      6.200554e-44  1.380367e-39  \n",
       "1      4.663037e-21  5.190426e-17  \n",
       "2      1.710823e-14  1.269545e-10  \n",
       "3      4.126180e-13  2.296425e-09  \n",
       "4      1.946113e-11  7.220729e-08  \n",
       "...             ...           ...  \n",
       "53594  7.643392e-01           NaN  \n",
       "53595  3.201210e-01           NaN  \n",
       "53596  8.200142e-01           NaN  \n",
       "53597  8.954374e-01           NaN  \n",
       "53598  6.189230e-01           NaN  \n",
       "\n",
       "[53599 rows x 7 columns]"
      ]
     },
     "execution_count": 281,
     "metadata": {},
     "output_type": "execute_result"
    }
   ],
   "source": [
    "male_ensembl"
   ]
  },
  {
   "cell_type": "code",
   "execution_count": 282,
   "metadata": {},
   "outputs": [],
   "source": [
    "#male_ensembl.dropna(axis=0, inplace=True)"
   ]
  },
  {
   "cell_type": "code",
   "execution_count": 283,
   "metadata": {},
   "outputs": [
    {
     "data": {
      "text/plain": [
       "(21821, 10)"
      ]
     },
     "execution_count": 283,
     "metadata": {},
     "output_type": "execute_result"
    }
   ],
   "source": [
    "male_ensembl.merge(coding_genes, how='inner',on='Gene name').shape # number of protein-coding genes"
   ]
  },
  {
   "cell_type": "code",
   "execution_count": 284,
   "metadata": {},
   "outputs": [],
   "source": [
    "male_ensembl = male_ensembl.merge(coding_genes, how='left',on='Gene name')"
   ]
  },
  {
   "cell_type": "code",
   "execution_count": 285,
   "metadata": {},
   "outputs": [
    {
     "data": {
      "text/plain": [
       "(53621, 10)"
      ]
     },
     "execution_count": 285,
     "metadata": {},
     "output_type": "execute_result"
    }
   ],
   "source": [
    "male_ensembl.shape"
   ]
  },
  {
   "cell_type": "code",
   "execution_count": 286,
   "metadata": {},
   "outputs": [
    {
     "data": {
      "text/html": [
       "<div>\n",
       "<style scoped>\n",
       "    .dataframe tbody tr th:only-of-type {\n",
       "        vertical-align: middle;\n",
       "    }\n",
       "\n",
       "    .dataframe tbody tr th {\n",
       "        vertical-align: top;\n",
       "    }\n",
       "\n",
       "    .dataframe thead th {\n",
       "        text-align: right;\n",
       "    }\n",
       "</style>\n",
       "<table border=\"1\" class=\"dataframe\">\n",
       "  <thead>\n",
       "    <tr style=\"text-align: right;\">\n",
       "      <th></th>\n",
       "      <th>Gene name</th>\n",
       "      <th>baseMean</th>\n",
       "      <th>log2FoldChange</th>\n",
       "      <th>lfcSE</th>\n",
       "      <th>stat</th>\n",
       "      <th>pvalue</th>\n",
       "      <th>padj</th>\n",
       "      <th>Gene stable ID</th>\n",
       "      <th>Gene % GC content</th>\n",
       "      <th>protein_coding</th>\n",
       "    </tr>\n",
       "  </thead>\n",
       "  <tbody>\n",
       "    <tr>\n",
       "      <th>0</th>\n",
       "      <td>C4b</td>\n",
       "      <td>884.716371</td>\n",
       "      <td>-2.956498</td>\n",
       "      <td>0.212674</td>\n",
       "      <td>-13.901526</td>\n",
       "      <td>6.200554e-44</td>\n",
       "      <td>1.380367e-39</td>\n",
       "      <td>ENSMUSG00000073418</td>\n",
       "      <td>54.98</td>\n",
       "      <td>True</td>\n",
       "    </tr>\n",
       "    <tr>\n",
       "      <th>1</th>\n",
       "      <td>Lyz2</td>\n",
       "      <td>330.079396</td>\n",
       "      <td>-2.293038</td>\n",
       "      <td>0.243512</td>\n",
       "      <td>-9.416516</td>\n",
       "      <td>4.663037e-21</td>\n",
       "      <td>5.190426e-17</td>\n",
       "      <td>ENSMUSG00000069516</td>\n",
       "      <td>47.08</td>\n",
       "      <td>True</td>\n",
       "    </tr>\n",
       "    <tr>\n",
       "      <th>2</th>\n",
       "      <td>Gfap</td>\n",
       "      <td>3998.894233</td>\n",
       "      <td>-1.226660</td>\n",
       "      <td>0.159915</td>\n",
       "      <td>-7.670683</td>\n",
       "      <td>1.710823e-14</td>\n",
       "      <td>1.269545e-10</td>\n",
       "      <td>ENSMUSG00000020932</td>\n",
       "      <td>50.78</td>\n",
       "      <td>True</td>\n",
       "    </tr>\n",
       "    <tr>\n",
       "      <th>3</th>\n",
       "      <td>Avp</td>\n",
       "      <td>105.836367</td>\n",
       "      <td>-1.970187</td>\n",
       "      <td>0.271699</td>\n",
       "      <td>-7.251357</td>\n",
       "      <td>4.126180e-13</td>\n",
       "      <td>2.296425e-09</td>\n",
       "      <td>ENSMUSG00000037727</td>\n",
       "      <td>58.60</td>\n",
       "      <td>True</td>\n",
       "    </tr>\n",
       "    <tr>\n",
       "      <th>4</th>\n",
       "      <td>H2-K1</td>\n",
       "      <td>456.366097</td>\n",
       "      <td>-1.273633</td>\n",
       "      <td>0.189811</td>\n",
       "      <td>-6.710010</td>\n",
       "      <td>1.946113e-11</td>\n",
       "      <td>7.220729e-08</td>\n",
       "      <td>ENSMUSG00000061232</td>\n",
       "      <td>53.80</td>\n",
       "      <td>True</td>\n",
       "    </tr>\n",
       "  </tbody>\n",
       "</table>\n",
       "</div>"
      ],
      "text/plain": [
       "  Gene name     baseMean  log2FoldChange     lfcSE       stat        pvalue  \\\n",
       "0       C4b   884.716371       -2.956498  0.212674 -13.901526  6.200554e-44   \n",
       "1      Lyz2   330.079396       -2.293038  0.243512  -9.416516  4.663037e-21   \n",
       "2      Gfap  3998.894233       -1.226660  0.159915  -7.670683  1.710823e-14   \n",
       "3       Avp   105.836367       -1.970187  0.271699  -7.251357  4.126180e-13   \n",
       "4     H2-K1   456.366097       -1.273633  0.189811  -6.710010  1.946113e-11   \n",
       "\n",
       "           padj      Gene stable ID  Gene % GC content protein_coding  \n",
       "0  1.380367e-39  ENSMUSG00000073418              54.98           True  \n",
       "1  5.190426e-17  ENSMUSG00000069516              47.08           True  \n",
       "2  1.269545e-10  ENSMUSG00000020932              50.78           True  \n",
       "3  2.296425e-09  ENSMUSG00000037727              58.60           True  \n",
       "4  7.220729e-08  ENSMUSG00000061232              53.80           True  "
      ]
     },
     "execution_count": 286,
     "metadata": {},
     "output_type": "execute_result"
    }
   ],
   "source": [
    "male_ensembl.head()"
   ]
  },
  {
   "cell_type": "code",
   "execution_count": 287,
   "metadata": {},
   "outputs": [
    {
     "data": {
      "text/plain": [
       "45.69345492873821"
      ]
     },
     "execution_count": 287,
     "metadata": {},
     "output_type": "execute_result"
    }
   ],
   "source": [
    "male_ensembl[male_ensembl.protein_coding == True][\"Gene % GC content\"].mean()"
   ]
  },
  {
   "cell_type": "code",
   "execution_count": null,
   "metadata": {},
   "outputs": [],
   "source": []
  },
  {
   "cell_type": "code",
   "execution_count": null,
   "metadata": {},
   "outputs": [],
   "source": []
  },
  {
   "cell_type": "code",
   "execution_count": 340,
   "metadata": {},
   "outputs": [],
   "source": [
    "male_Refseq = pd.read_csv('../data/brain/DESeq2_out/male_Refseq.csv')"
   ]
  },
  {
   "cell_type": "code",
   "execution_count": 341,
   "metadata": {},
   "outputs": [
    {
     "data": {
      "text/html": [
       "<div>\n",
       "<style scoped>\n",
       "    .dataframe tbody tr th:only-of-type {\n",
       "        vertical-align: middle;\n",
       "    }\n",
       "\n",
       "    .dataframe tbody tr th {\n",
       "        vertical-align: top;\n",
       "    }\n",
       "\n",
       "    .dataframe thead th {\n",
       "        text-align: right;\n",
       "    }\n",
       "</style>\n",
       "<table border=\"1\" class=\"dataframe\">\n",
       "  <thead>\n",
       "    <tr style=\"text-align: right;\">\n",
       "      <th></th>\n",
       "      <th>Unnamed: 0</th>\n",
       "      <th>baseMean</th>\n",
       "      <th>log2FoldChange</th>\n",
       "      <th>lfcSE</th>\n",
       "      <th>stat</th>\n",
       "      <th>pvalue</th>\n",
       "      <th>padj</th>\n",
       "    </tr>\n",
       "  </thead>\n",
       "  <tbody>\n",
       "    <tr>\n",
       "      <th>0</th>\n",
       "      <td>C4b</td>\n",
       "      <td>858.563029</td>\n",
       "      <td>-2.877721</td>\n",
       "      <td>0.310608</td>\n",
       "      <td>-9.264796</td>\n",
       "      <td>1.954513e-20</td>\n",
       "      <td>6.315813e-16</td>\n",
       "    </tr>\n",
       "    <tr>\n",
       "      <th>1</th>\n",
       "      <td>Lyz2</td>\n",
       "      <td>322.011325</td>\n",
       "      <td>-2.160588</td>\n",
       "      <td>0.319980</td>\n",
       "      <td>-6.752265</td>\n",
       "      <td>1.455548e-11</td>\n",
       "      <td>2.351729e-07</td>\n",
       "    </tr>\n",
       "    <tr>\n",
       "      <th>2</th>\n",
       "      <td>Avp</td>\n",
       "      <td>102.834011</td>\n",
       "      <td>-1.862339</td>\n",
       "      <td>0.350985</td>\n",
       "      <td>-5.306030</td>\n",
       "      <td>1.120387e-07</td>\n",
       "      <td>1.206806e-03</td>\n",
       "    </tr>\n",
       "    <tr>\n",
       "      <th>3</th>\n",
       "      <td>Lgals3</td>\n",
       "      <td>50.738030</td>\n",
       "      <td>-1.794112</td>\n",
       "      <td>0.370047</td>\n",
       "      <td>-4.848334</td>\n",
       "      <td>1.245026e-06</td>\n",
       "      <td>1.005795e-02</td>\n",
       "    </tr>\n",
       "    <tr>\n",
       "      <th>4</th>\n",
       "      <td>Lcn2</td>\n",
       "      <td>19.175035</td>\n",
       "      <td>-3.442883</td>\n",
       "      <td>0.749815</td>\n",
       "      <td>-4.591643</td>\n",
       "      <td>4.397695e-06</td>\n",
       "      <td>2.842142e-02</td>\n",
       "    </tr>\n",
       "    <tr>\n",
       "      <th>...</th>\n",
       "      <td>...</td>\n",
       "      <td>...</td>\n",
       "      <td>...</td>\n",
       "      <td>...</td>\n",
       "      <td>...</td>\n",
       "      <td>...</td>\n",
       "      <td>...</td>\n",
       "    </tr>\n",
       "    <tr>\n",
       "      <th>39745</th>\n",
       "      <td>Zfp91</td>\n",
       "      <td>0.000000</td>\n",
       "      <td>NaN</td>\n",
       "      <td>NaN</td>\n",
       "      <td>NaN</td>\n",
       "      <td>NaN</td>\n",
       "      <td>NaN</td>\n",
       "    </tr>\n",
       "    <tr>\n",
       "      <th>39746</th>\n",
       "      <td>Zfp965</td>\n",
       "      <td>0.000000</td>\n",
       "      <td>NaN</td>\n",
       "      <td>NaN</td>\n",
       "      <td>NaN</td>\n",
       "      <td>NaN</td>\n",
       "      <td>NaN</td>\n",
       "    </tr>\n",
       "    <tr>\n",
       "      <th>39747</th>\n",
       "      <td>Zfp972</td>\n",
       "      <td>0.000000</td>\n",
       "      <td>NaN</td>\n",
       "      <td>NaN</td>\n",
       "      <td>NaN</td>\n",
       "      <td>NaN</td>\n",
       "      <td>NaN</td>\n",
       "    </tr>\n",
       "    <tr>\n",
       "      <th>39748</th>\n",
       "      <td>Zfp988</td>\n",
       "      <td>0.000000</td>\n",
       "      <td>NaN</td>\n",
       "      <td>NaN</td>\n",
       "      <td>NaN</td>\n",
       "      <td>NaN</td>\n",
       "      <td>NaN</td>\n",
       "    </tr>\n",
       "    <tr>\n",
       "      <th>39749</th>\n",
       "      <td>Zrsr1</td>\n",
       "      <td>0.000000</td>\n",
       "      <td>NaN</td>\n",
       "      <td>NaN</td>\n",
       "      <td>NaN</td>\n",
       "      <td>NaN</td>\n",
       "      <td>NaN</td>\n",
       "    </tr>\n",
       "  </tbody>\n",
       "</table>\n",
       "<p>39750 rows × 7 columns</p>\n",
       "</div>"
      ],
      "text/plain": [
       "      Unnamed: 0    baseMean  log2FoldChange     lfcSE      stat  \\\n",
       "0            C4b  858.563029       -2.877721  0.310608 -9.264796   \n",
       "1           Lyz2  322.011325       -2.160588  0.319980 -6.752265   \n",
       "2            Avp  102.834011       -1.862339  0.350985 -5.306030   \n",
       "3         Lgals3   50.738030       -1.794112  0.370047 -4.848334   \n",
       "4           Lcn2   19.175035       -3.442883  0.749815 -4.591643   \n",
       "...          ...         ...             ...       ...       ...   \n",
       "39745      Zfp91    0.000000             NaN       NaN       NaN   \n",
       "39746     Zfp965    0.000000             NaN       NaN       NaN   \n",
       "39747     Zfp972    0.000000             NaN       NaN       NaN   \n",
       "39748     Zfp988    0.000000             NaN       NaN       NaN   \n",
       "39749      Zrsr1    0.000000             NaN       NaN       NaN   \n",
       "\n",
       "             pvalue          padj  \n",
       "0      1.954513e-20  6.315813e-16  \n",
       "1      1.455548e-11  2.351729e-07  \n",
       "2      1.120387e-07  1.206806e-03  \n",
       "3      1.245026e-06  1.005795e-02  \n",
       "4      4.397695e-06  2.842142e-02  \n",
       "...             ...           ...  \n",
       "39745           NaN           NaN  \n",
       "39746           NaN           NaN  \n",
       "39747           NaN           NaN  \n",
       "39748           NaN           NaN  \n",
       "39749           NaN           NaN  \n",
       "\n",
       "[39750 rows x 7 columns]"
      ]
     },
     "execution_count": 341,
     "metadata": {},
     "output_type": "execute_result"
    }
   ],
   "source": [
    "male_Refseq"
   ]
  },
  {
   "cell_type": "code",
   "execution_count": 342,
   "metadata": {},
   "outputs": [
    {
     "data": {
      "text/plain": [
       "(39750, 7)"
      ]
     },
     "execution_count": 342,
     "metadata": {},
     "output_type": "execute_result"
    }
   ],
   "source": [
    "male_Refseq.shape"
   ]
  },
  {
   "cell_type": "code",
   "execution_count": 343,
   "metadata": {},
   "outputs": [],
   "source": [
    "male_Refseq.dropna(axis=0, inplace=True)"
   ]
  },
  {
   "cell_type": "code",
   "execution_count": 344,
   "metadata": {},
   "outputs": [
    {
     "data": {
      "text/plain": [
       "(32314, 7)"
      ]
     },
     "execution_count": 344,
     "metadata": {},
     "output_type": "execute_result"
    }
   ],
   "source": [
    "male_Refseq.shape"
   ]
  },
  {
   "cell_type": "code",
   "execution_count": 345,
   "metadata": {},
   "outputs": [],
   "source": [
    "male_Refseq.rename({'Unnamed: 0' : 'Gene name'}, axis = 1, inplace=True)"
   ]
  },
  {
   "cell_type": "code",
   "execution_count": 346,
   "metadata": {},
   "outputs": [
    {
     "data": {
      "text/plain": [
       "(20117, 10)"
      ]
     },
     "execution_count": 346,
     "metadata": {},
     "output_type": "execute_result"
    }
   ],
   "source": [
    "male_Refseq.merge(coding_genes, how='inner',on='Gene name').shape"
   ]
  },
  {
   "cell_type": "code",
   "execution_count": 347,
   "metadata": {},
   "outputs": [
    {
     "data": {
      "text/plain": [
       "(32314, 7)"
      ]
     },
     "execution_count": 347,
     "metadata": {},
     "output_type": "execute_result"
    }
   ],
   "source": [
    "male_Refseq.shape"
   ]
  },
  {
   "cell_type": "code",
   "execution_count": 348,
   "metadata": {},
   "outputs": [],
   "source": [
    "male_Refseq = male_Refseq.merge(coding_genes, how='left',on='Gene name')"
   ]
  },
  {
   "cell_type": "code",
   "execution_count": 349,
   "metadata": {},
   "outputs": [
    {
     "data": {
      "text/html": [
       "<div>\n",
       "<style scoped>\n",
       "    .dataframe tbody tr th:only-of-type {\n",
       "        vertical-align: middle;\n",
       "    }\n",
       "\n",
       "    .dataframe tbody tr th {\n",
       "        vertical-align: top;\n",
       "    }\n",
       "\n",
       "    .dataframe thead th {\n",
       "        text-align: right;\n",
       "    }\n",
       "</style>\n",
       "<table border=\"1\" class=\"dataframe\">\n",
       "  <thead>\n",
       "    <tr style=\"text-align: right;\">\n",
       "      <th></th>\n",
       "      <th>Gene name</th>\n",
       "      <th>baseMean</th>\n",
       "      <th>log2FoldChange</th>\n",
       "      <th>lfcSE</th>\n",
       "      <th>stat</th>\n",
       "      <th>pvalue</th>\n",
       "      <th>padj</th>\n",
       "      <th>Gene stable ID</th>\n",
       "      <th>Gene % GC content</th>\n",
       "      <th>protein_coding</th>\n",
       "    </tr>\n",
       "  </thead>\n",
       "  <tbody>\n",
       "    <tr>\n",
       "      <th>0</th>\n",
       "      <td>C4b</td>\n",
       "      <td>858.563029</td>\n",
       "      <td>-2.877721</td>\n",
       "      <td>0.310608</td>\n",
       "      <td>-9.264796</td>\n",
       "      <td>1.954513e-20</td>\n",
       "      <td>6.315813e-16</td>\n",
       "      <td>ENSMUSG00000073418</td>\n",
       "      <td>54.98</td>\n",
       "      <td>True</td>\n",
       "    </tr>\n",
       "    <tr>\n",
       "      <th>1</th>\n",
       "      <td>Lyz2</td>\n",
       "      <td>322.011325</td>\n",
       "      <td>-2.160588</td>\n",
       "      <td>0.319980</td>\n",
       "      <td>-6.752265</td>\n",
       "      <td>1.455548e-11</td>\n",
       "      <td>2.351729e-07</td>\n",
       "      <td>ENSMUSG00000069516</td>\n",
       "      <td>47.08</td>\n",
       "      <td>True</td>\n",
       "    </tr>\n",
       "    <tr>\n",
       "      <th>2</th>\n",
       "      <td>Avp</td>\n",
       "      <td>102.834011</td>\n",
       "      <td>-1.862339</td>\n",
       "      <td>0.350985</td>\n",
       "      <td>-5.306030</td>\n",
       "      <td>1.120387e-07</td>\n",
       "      <td>1.206806e-03</td>\n",
       "      <td>ENSMUSG00000037727</td>\n",
       "      <td>58.60</td>\n",
       "      <td>True</td>\n",
       "    </tr>\n",
       "    <tr>\n",
       "      <th>3</th>\n",
       "      <td>Lgals3</td>\n",
       "      <td>50.738030</td>\n",
       "      <td>-1.794112</td>\n",
       "      <td>0.370047</td>\n",
       "      <td>-4.848334</td>\n",
       "      <td>1.245026e-06</td>\n",
       "      <td>1.005795e-02</td>\n",
       "      <td>ENSMUSG00000050335</td>\n",
       "      <td>46.72</td>\n",
       "      <td>True</td>\n",
       "    </tr>\n",
       "    <tr>\n",
       "      <th>4</th>\n",
       "      <td>Lcn2</td>\n",
       "      <td>19.175035</td>\n",
       "      <td>-3.442883</td>\n",
       "      <td>0.749815</td>\n",
       "      <td>-4.591643</td>\n",
       "      <td>4.397695e-06</td>\n",
       "      <td>2.842142e-02</td>\n",
       "      <td>ENSMUSG00000026822</td>\n",
       "      <td>54.70</td>\n",
       "      <td>True</td>\n",
       "    </tr>\n",
       "  </tbody>\n",
       "</table>\n",
       "</div>"
      ],
      "text/plain": [
       "  Gene name    baseMean  log2FoldChange     lfcSE      stat        pvalue  \\\n",
       "0       C4b  858.563029       -2.877721  0.310608 -9.264796  1.954513e-20   \n",
       "1      Lyz2  322.011325       -2.160588  0.319980 -6.752265  1.455548e-11   \n",
       "2       Avp  102.834011       -1.862339  0.350985 -5.306030  1.120387e-07   \n",
       "3    Lgals3   50.738030       -1.794112  0.370047 -4.848334  1.245026e-06   \n",
       "4      Lcn2   19.175035       -3.442883  0.749815 -4.591643  4.397695e-06   \n",
       "\n",
       "           padj      Gene stable ID  Gene % GC content protein_coding  \n",
       "0  6.315813e-16  ENSMUSG00000073418              54.98           True  \n",
       "1  2.351729e-07  ENSMUSG00000069516              47.08           True  \n",
       "2  1.206806e-03  ENSMUSG00000037727              58.60           True  \n",
       "3  1.005795e-02  ENSMUSG00000050335              46.72           True  \n",
       "4  2.842142e-02  ENSMUSG00000026822              54.70           True  "
      ]
     },
     "execution_count": 349,
     "metadata": {},
     "output_type": "execute_result"
    }
   ],
   "source": [
    "male_Refseq.head()"
   ]
  },
  {
   "cell_type": "code",
   "execution_count": 298,
   "metadata": {},
   "outputs": [
    {
     "data": {
      "text/plain": [
       "45.66644280956409"
      ]
     },
     "execution_count": 298,
     "metadata": {},
     "output_type": "execute_result"
    }
   ],
   "source": [
    "male_Refseq[male_Refseq.protein_coding == True]['Gene % GC content'].mean()"
   ]
  },
  {
   "cell_type": "code",
   "execution_count": 300,
   "metadata": {},
   "outputs": [
    {
     "data": {
      "text/plain": [
       "baseMean             0.887942\n",
       "log2FoldChange       0.676904\n",
       "lfcSE                0.820088\n",
       "stat                 0.764722\n",
       "pvalue               0.530700\n",
       "padj                 0.442189\n",
       "Gene % GC content    0.999506\n",
       "dtype: float64"
      ]
     },
     "execution_count": 300,
     "metadata": {},
     "output_type": "execute_result"
    }
   ],
   "source": [
    "male_Refseq.set_index('Gene name').corrwith(male_ensembl.set_index('Gene name'), axis = 0)"
   ]
  },
  {
   "cell_type": "code",
   "execution_count": 301,
   "metadata": {},
   "outputs": [],
   "source": [
    "diff_male_ensembl = male_ensembl[((male_ensembl.padj < 0.1) & (male_ensembl.log2FoldChange > 0.14)) | \n",
    "                                (male_ensembl.padj < 0.1) & (male_ensembl.log2FoldChange < - 0.42)]"
   ]
  },
  {
   "cell_type": "code",
   "execution_count": 302,
   "metadata": {},
   "outputs": [],
   "source": [
    "diff_male_Refseq = male_Refseq[((male_Refseq.padj < 0.1) & (male_Refseq.log2FoldChange > 0.14)) | \n",
    "                                (male_Refseq.padj < 0.1) & (male_Refseq.log2FoldChange < - 0.42)]"
   ]
  },
  {
   "cell_type": "code",
   "execution_count": 305,
   "metadata": {},
   "outputs": [
    {
     "data": {
      "text/plain": [
       "(82, 10)"
      ]
     },
     "execution_count": 305,
     "metadata": {},
     "output_type": "execute_result"
    }
   ],
   "source": [
    "diff_male_ensembl[(diff_male_ensembl.protein_coding == True) & \n",
    "                 (diff_male_ensembl.log2FoldChange < 0.14)].shape"
   ]
  },
  {
   "cell_type": "code",
   "execution_count": 307,
   "metadata": {},
   "outputs": [
    {
     "data": {
      "text/plain": [
       "(1, 10)"
      ]
     },
     "execution_count": 307,
     "metadata": {},
     "output_type": "execute_result"
    }
   ],
   "source": [
    "diff_male_Refseq[(diff_male_Refseq.protein_coding == True) & \n",
    "                 (diff_male_Refseq.log2FoldChange > 0.14)].shape"
   ]
  },
  {
   "cell_type": "code",
   "execution_count": null,
   "metadata": {},
   "outputs": [],
   "source": []
  },
  {
   "cell_type": "code",
   "execution_count": 184,
   "metadata": {},
   "outputs": [
    {
     "data": {
      "text/html": [
       "<div>\n",
       "<style scoped>\n",
       "    .dataframe tbody tr th:only-of-type {\n",
       "        vertical-align: middle;\n",
       "    }\n",
       "\n",
       "    .dataframe tbody tr th {\n",
       "        vertical-align: top;\n",
       "    }\n",
       "\n",
       "    .dataframe thead th {\n",
       "        text-align: right;\n",
       "    }\n",
       "</style>\n",
       "<table border=\"1\" class=\"dataframe\">\n",
       "  <thead>\n",
       "    <tr style=\"text-align: right;\">\n",
       "      <th></th>\n",
       "      <th>Gene name</th>\n",
       "      <th>baseMean</th>\n",
       "      <th>log2FoldChange</th>\n",
       "      <th>lfcSE</th>\n",
       "      <th>stat</th>\n",
       "      <th>pvalue</th>\n",
       "      <th>padj</th>\n",
       "      <th>Gene stable ID</th>\n",
       "      <th>Gene % GC content</th>\n",
       "      <th>protein_coding</th>\n",
       "    </tr>\n",
       "  </thead>\n",
       "  <tbody>\n",
       "    <tr>\n",
       "      <th>0</th>\n",
       "      <td>C4b</td>\n",
       "      <td>858.563029</td>\n",
       "      <td>-2.877721</td>\n",
       "      <td>0.310608</td>\n",
       "      <td>-9.264796</td>\n",
       "      <td>1.954513e-20</td>\n",
       "      <td>6.315813e-16</td>\n",
       "      <td>ENSMUSG00000073418</td>\n",
       "      <td>54.98</td>\n",
       "      <td>True</td>\n",
       "    </tr>\n",
       "    <tr>\n",
       "      <th>1</th>\n",
       "      <td>Lyz2</td>\n",
       "      <td>322.011325</td>\n",
       "      <td>-2.160588</td>\n",
       "      <td>0.319980</td>\n",
       "      <td>-6.752265</td>\n",
       "      <td>1.455548e-11</td>\n",
       "      <td>2.351729e-07</td>\n",
       "      <td>ENSMUSG00000069516</td>\n",
       "      <td>47.08</td>\n",
       "      <td>True</td>\n",
       "    </tr>\n",
       "  </tbody>\n",
       "</table>\n",
       "</div>"
      ],
      "text/plain": [
       "  Gene name    baseMean  log2FoldChange     lfcSE      stat        pvalue  \\\n",
       "0       C4b  858.563029       -2.877721  0.310608 -9.264796  1.954513e-20   \n",
       "1      Lyz2  322.011325       -2.160588  0.319980 -6.752265  1.455548e-11   \n",
       "\n",
       "           padj      Gene stable ID  Gene % GC content protein_coding  \n",
       "0  6.315813e-16  ENSMUSG00000073418              54.98           True  \n",
       "1  2.351729e-07  ENSMUSG00000069516              47.08           True  "
      ]
     },
     "execution_count": 184,
     "metadata": {},
     "output_type": "execute_result"
    }
   ],
   "source": [
    "male_Refseq.head(2)"
   ]
  },
  {
   "cell_type": "code",
   "execution_count": 222,
   "metadata": {},
   "outputs": [],
   "source": [
    "visuz.gene_exp.volcano(df=male_ensembl[male_ensembl.protein_coding == True], \n",
    "                       lfc='log2FoldChange', pv='padj', lfc_thr=(0.14, 0.42), pv_thr=(0.1, 0.1),\n",
    "                      plotlegend=True, legendpos='upper right',\n",
    "                      color=(\"red\", \"grey\", \"green\"), sign_line=True, figname='ensembl_volcano')"
   ]
  },
  {
   "cell_type": "code",
   "execution_count": 223,
   "metadata": {},
   "outputs": [],
   "source": [
    "visuz.gene_exp.volcano(df=male_Refseq[male_Refseq.protein_coding == True], \n",
    "                       lfc='log2FoldChange', pv='padj', lfc_thr=(0.14, 0.42), pv_thr=(0.1, 0.1),\n",
    "                      plotlegend=True, legendpos='upper right',\n",
    "                      color=(\"red\", \"grey\", \"green\"), sign_line=True, figname='Refseq_volcano')"
   ]
  },
  {
   "cell_type": "code",
   "execution_count": 399,
   "metadata": {},
   "outputs": [
    {
     "data": {
      "text/plain": [
       "Text(0.5, 1.0, 'Differentially expressed protein-coding genes in male mice \\n (according to different annotations, GRCm39)')"
      ]
     },
     "execution_count": 399,
     "metadata": {},
     "output_type": "execute_result"
    },
    {
     "data": {
      "image/png": "[encoded data removed]",
      "text/plain": [
       "<Figure size 432x288 with 1 Axes>"
      ]
     },
     "metadata": {},
     "output_type": "display_data"
    }
   ],
   "source": [
    "venn2([set(diff_male_ensembl[diff_male_ensembl.protein_coding == True]['Gene name']), \n",
    "       set(diff_male_Refseq[diff_male_Refseq.protein_coding == True]['Gene name'])], \n",
    "      set_labels = ('Ensembl', 'Refseq'))\n",
    "plt.title(\"Differentially expressed protein-coding genes in male mice \\n (according to different annotations, GRCm39)\")"
   ]
  },
  {
   "cell_type": "code",
   "execution_count": 406,
   "metadata": {},
   "outputs": [],
   "source": [
    "Ensembl_unique = diff_male_ensembl[diff_male_ensembl.protein_coding == True]['Gene name'][~diff_male_ensembl[diff_male_ensembl.protein_coding == True]['Gene name'].isin(diff_male_Refseq[diff_male_Refseq.protein_coding == True]['Gene name'].values)]"
   ]
  },
  {
   "cell_type": "code",
   "execution_count": 407,
   "metadata": {},
   "outputs": [
    {
     "data": {
      "text/plain": [
       "4       H2-K1\n",
       "6        Ctss\n",
       "10      Gpnmb\n",
       "11      H2-D1\n",
       "12      Ifi27\n",
       "        ...  \n",
       "105      Rgs4\n",
       "106    Cyp2a5\n",
       "107     Dusp4\n",
       "109      Islr\n",
       "110    Adam33\n",
       "Name: Gene name, Length: 95, dtype: object"
      ]
     },
     "execution_count": 407,
     "metadata": {},
     "output_type": "execute_result"
    }
   ],
   "source": [
    "Ensembl_unique"
   ]
  },
  {
   "cell_type": "code",
   "execution_count": 408,
   "metadata": {},
   "outputs": [],
   "source": [
    "with open(\"../data/brain/diff_expression_ensembl_not_in_refseq.txt\", \"w\") as txt_file:\n",
    "    for line in Ensembl_unique:\n",
    "        txt_file.write(str(line) + \"\\n\")"
   ]
  },
  {
   "cell_type": "code",
   "execution_count": null,
   "metadata": {},
   "outputs": [],
   "source": []
  },
  {
   "cell_type": "code",
   "execution_count": 411,
   "metadata": {},
   "outputs": [
    {
     "data": {
      "text/html": [
       "<div>\n",
       "<style scoped>\n",
       "    .dataframe tbody tr th:only-of-type {\n",
       "        vertical-align: middle;\n",
       "    }\n",
       "\n",
       "    .dataframe tbody tr th {\n",
       "        vertical-align: top;\n",
       "    }\n",
       "\n",
       "    .dataframe thead th {\n",
       "        text-align: right;\n",
       "    }\n",
       "</style>\n",
       "<table border=\"1\" class=\"dataframe\">\n",
       "  <thead>\n",
       "    <tr style=\"text-align: right;\">\n",
       "      <th></th>\n",
       "      <th>Gene name</th>\n",
       "      <th>baseMean</th>\n",
       "      <th>log2FoldChange</th>\n",
       "      <th>lfcSE</th>\n",
       "      <th>stat</th>\n",
       "      <th>pvalue</th>\n",
       "      <th>padj</th>\n",
       "      <th>Gene stable ID</th>\n",
       "      <th>Gene % GC content</th>\n",
       "      <th>protein_coding</th>\n",
       "    </tr>\n",
       "  </thead>\n",
       "  <tbody>\n",
       "    <tr>\n",
       "      <th>22</th>\n",
       "      <td>Lcn2</td>\n",
       "      <td>18.318277</td>\n",
       "      <td>-3.329223</td>\n",
       "      <td>0.686806</td>\n",
       "      <td>-4.847402</td>\n",
       "      <td>0.000001</td>\n",
       "      <td>0.001211</td>\n",
       "      <td>ENSMUSG00000026822</td>\n",
       "      <td>54.7</td>\n",
       "      <td>True</td>\n",
       "    </tr>\n",
       "  </tbody>\n",
       "</table>\n",
       "</div>"
      ],
      "text/plain": [
       "   Gene name   baseMean  log2FoldChange     lfcSE      stat    pvalue  \\\n",
       "22      Lcn2  18.318277       -3.329223  0.686806 -4.847402  0.000001   \n",
       "\n",
       "        padj      Gene stable ID  Gene % GC content protein_coding  \n",
       "22  0.001211  ENSMUSG00000026822               54.7           True  "
      ]
     },
     "execution_count": 411,
     "metadata": {},
     "output_type": "execute_result"
    }
   ],
   "source": [
    "diff_male_ensembl[diff_male_ensembl['Gene name'] == 'Lcn2']"
   ]
  },
  {
   "cell_type": "code",
   "execution_count": null,
   "metadata": {},
   "outputs": [],
   "source": []
  },
  {
   "cell_type": "code",
   "execution_count": 401,
   "metadata": {},
   "outputs": [
    {
     "data": {
      "text/plain": [
       "Text(0.5, 1.0, 'Upregulated protein-coding genes in male mice \\n (according to different annotations, GRCm39)')"
      ]
     },
     "execution_count": 401,
     "metadata": {},
     "output_type": "execute_result"
    },
    {
     "data": {
      "image/png": "[encoded data removed]",
      "text/plain": [
       "<Figure size 432x288 with 1 Axes>"
      ]
     },
     "metadata": {},
     "output_type": "display_data"
    }
   ],
   "source": [
    "venn2([set(male_ensembl_up[male_ensembl_up.protein_coding == True]['Gene name']), \n",
    "       set(male_Refseq_up[male_Refseq_up.protein_coding == True]['Gene name'])], \n",
    "      set_labels = ('Ensembl', 'Refseq'))\n",
    "plt.title(\"Upregulated protein-coding genes in male mice \\n (according to different annotations, GRCm39)\")"
   ]
  },
  {
   "cell_type": "code",
   "execution_count": 403,
   "metadata": {},
   "outputs": [
    {
     "data": {
      "text/plain": [
       "Text(0.5, 1.0, 'Down-regalated protein-coding genes in male mice \\n (according to different annotations, GRCm39)')"
      ]
     },
     "execution_count": 403,
     "metadata": {},
     "output_type": "execute_result"
    },
    {
     "data": {
      "image/png": "[encoded data removed]",
      "text/plain": [
       "<Figure size 432x288 with 1 Axes>"
      ]
     },
     "metadata": {},
     "output_type": "display_data"
    }
   ],
   "source": [
    "venn2([set(male_ensembl_down[male_ensembl_down.protein_coding == True]['Gene name']), \n",
    "       set(male_Refseq_down[male_Refseq_down.protein_coding == True]['Gene name'])], \n",
    "      set_labels = ('Ensembl', 'Refseq'))\n",
    "plt.title(\"Down-regalated protein-coding genes in male mice \\n (according to different annotations, GRCm39)\")"
   ]
  },
  {
   "cell_type": "code",
   "execution_count": null,
   "metadata": {},
   "outputs": [],
   "source": []
  },
  {
   "cell_type": "code",
   "execution_count": null,
   "metadata": {},
   "outputs": [],
   "source": []
  },
  {
   "cell_type": "code",
   "execution_count": null,
   "metadata": {},
   "outputs": [],
   "source": []
  },
  {
   "cell_type": "code",
   "execution_count": null,
   "metadata": {},
   "outputs": [],
   "source": []
  },
  {
   "cell_type": "code",
   "execution_count": 320,
   "metadata": {},
   "outputs": [],
   "source": [
    "gene_info_refseq = pd.read_csv('../ref_genome/mm39/RefSeq/mm39_mouse_Refseq_total_info_length.txt', sep = '\\t')"
   ]
  },
  {
   "cell_type": "code",
   "execution_count": 334,
   "metadata": {},
   "outputs": [
    {
     "data": {
      "text/html": [
       "<div>\n",
       "<style scoped>\n",
       "    .dataframe tbody tr th:only-of-type {\n",
       "        vertical-align: middle;\n",
       "    }\n",
       "\n",
       "    .dataframe tbody tr th {\n",
       "        vertical-align: top;\n",
       "    }\n",
       "\n",
       "    .dataframe thead th {\n",
       "        text-align: right;\n",
       "    }\n",
       "</style>\n",
       "<table border=\"1\" class=\"dataframe\">\n",
       "  <thead>\n",
       "    <tr style=\"text-align: right;\">\n",
       "      <th></th>\n",
       "      <th>name</th>\n",
       "      <th>chrom</th>\n",
       "      <th>txStart</th>\n",
       "      <th>txEnd</th>\n",
       "      <th>name2</th>\n",
       "      <th>length</th>\n",
       "      <th>median_start</th>\n",
       "      <th>median_end</th>\n",
       "      <th>max_length</th>\n",
       "      <th>length_from_median_coord</th>\n",
       "      <th>adjusted_length</th>\n",
       "    </tr>\n",
       "  </thead>\n",
       "  <tbody>\n",
       "    <tr>\n",
       "      <th>0</th>\n",
       "      <td>NM_001159711.1</td>\n",
       "      <td>chr1</td>\n",
       "      <td>16758679</td>\n",
       "      <td>16779829</td>\n",
       "      <td>Ly96</td>\n",
       "      <td>21150</td>\n",
       "      <td>16758679.0</td>\n",
       "      <td>16779829.0</td>\n",
       "      <td>21150.0</td>\n",
       "      <td>21150</td>\n",
       "      <td>21151.0</td>\n",
       "    </tr>\n",
       "    <tr>\n",
       "      <th>1</th>\n",
       "      <td>NM_016923.2</td>\n",
       "      <td>chr1</td>\n",
       "      <td>16758679</td>\n",
       "      <td>16779829</td>\n",
       "      <td>Ly96</td>\n",
       "      <td>21150</td>\n",
       "      <td>16758679.0</td>\n",
       "      <td>16779829.0</td>\n",
       "      <td>21150.0</td>\n",
       "      <td>21150</td>\n",
       "      <td>21151.0</td>\n",
       "    </tr>\n",
       "    <tr>\n",
       "      <th>2</th>\n",
       "      <td>NM_175642.4</td>\n",
       "      <td>chr1</td>\n",
       "      <td>25106556</td>\n",
       "      <td>25868788</td>\n",
       "      <td>Adgrb3</td>\n",
       "      <td>762232</td>\n",
       "      <td>25106630.0</td>\n",
       "      <td>25868709.5</td>\n",
       "      <td>762708.0</td>\n",
       "      <td>762079</td>\n",
       "      <td>762080.5</td>\n",
       "    </tr>\n",
       "    <tr>\n",
       "      <th>3</th>\n",
       "      <td>XM_036163221.1</td>\n",
       "      <td>chr1</td>\n",
       "      <td>25106630</td>\n",
       "      <td>25865100</td>\n",
       "      <td>Adgrb3</td>\n",
       "      <td>758470</td>\n",
       "      <td>25106630.0</td>\n",
       "      <td>25868709.5</td>\n",
       "      <td>762708.0</td>\n",
       "      <td>762079</td>\n",
       "      <td>762080.5</td>\n",
       "    </tr>\n",
       "    <tr>\n",
       "      <th>4</th>\n",
       "      <td>XM_017319555.3</td>\n",
       "      <td>chr1</td>\n",
       "      <td>25106630</td>\n",
       "      <td>25865561</td>\n",
       "      <td>Adgrb3</td>\n",
       "      <td>758931</td>\n",
       "      <td>25106630.0</td>\n",
       "      <td>25868709.5</td>\n",
       "      <td>762708.0</td>\n",
       "      <td>762079</td>\n",
       "      <td>762080.5</td>\n",
       "    </tr>\n",
       "  </tbody>\n",
       "</table>\n",
       "</div>"
      ],
      "text/plain": [
       "             name chrom   txStart     txEnd   name2  length  median_start  \\\n",
       "0  NM_001159711.1  chr1  16758679  16779829    Ly96   21150    16758679.0   \n",
       "1     NM_016923.2  chr1  16758679  16779829    Ly96   21150    16758679.0   \n",
       "2     NM_175642.4  chr1  25106556  25868788  Adgrb3  762232    25106630.0   \n",
       "3  XM_036163221.1  chr1  25106630  25865100  Adgrb3  758470    25106630.0   \n",
       "4  XM_017319555.3  chr1  25106630  25865561  Adgrb3  758931    25106630.0   \n",
       "\n",
       "   median_end  max_length  length_from_median_coord  adjusted_length  \n",
       "0  16779829.0     21150.0                     21150          21151.0  \n",
       "1  16779829.0     21150.0                     21150          21151.0  \n",
       "2  25868709.5    762708.0                    762079         762080.5  \n",
       "3  25868709.5    762708.0                    762079         762080.5  \n",
       "4  25868709.5    762708.0                    762079         762080.5  "
      ]
     },
     "execution_count": 334,
     "metadata": {},
     "output_type": "execute_result"
    }
   ],
   "source": [
    "gene_info_refseq.head()"
   ]
  },
  {
   "cell_type": "code",
   "execution_count": 322,
   "metadata": {},
   "outputs": [],
   "source": [
    "gene_info_refseq['adjusted_length'] = abs(gene_info_refseq.median_start - gene_info_refseq.median_end) + 1"
   ]
  },
  {
   "cell_type": "code",
   "execution_count": 335,
   "metadata": {},
   "outputs": [],
   "source": [
    "gene_info_refseq = gene_info_refseq[['name2', 'max_length', 'length_from_median_coord']].drop_duplicates()"
   ]
  },
  {
   "cell_type": "code",
   "execution_count": 350,
   "metadata": {},
   "outputs": [
    {
     "data": {
      "text/plain": [
       "(32334, 10)"
      ]
     },
     "execution_count": 350,
     "metadata": {},
     "output_type": "execute_result"
    }
   ],
   "source": [
    "male_Refseq.shape"
   ]
  },
  {
   "cell_type": "code",
   "execution_count": 351,
   "metadata": {},
   "outputs": [],
   "source": [
    "male_Refseq = male_Refseq.merge(gene_info_refseq, how='left', right_on='name2', left_on='Gene name')"
   ]
  },
  {
   "cell_type": "code",
   "execution_count": 355,
   "metadata": {},
   "outputs": [
    {
     "data": {
      "text/plain": [
       "51054.25053437391"
      ]
     },
     "execution_count": 355,
     "metadata": {},
     "output_type": "execute_result"
    }
   ],
   "source": [
    "male_Refseq[male_Refseq.protein_coding == True].max_length.mean()"
   ]
  },
  {
   "cell_type": "code",
   "execution_count": null,
   "metadata": {},
   "outputs": [],
   "source": []
  },
  {
   "cell_type": "code",
   "execution_count": 366,
   "metadata": {},
   "outputs": [],
   "source": [
    "gene_info_ensembl = pd.read_csv('../ref_genome/m39_gene_lengths_protein_coding.csv')"
   ]
  },
  {
   "cell_type": "code",
   "execution_count": 367,
   "metadata": {},
   "outputs": [],
   "source": [
    "gene_info_ensembl = gene_info_ensembl[['Gene name', 'length_of_the_longest_tr_coord', 'Adjusted_gene_length']]"
   ]
  },
  {
   "cell_type": "code",
   "execution_count": 368,
   "metadata": {},
   "outputs": [
    {
     "data": {
      "text/html": [
       "<div>\n",
       "<style scoped>\n",
       "    .dataframe tbody tr th:only-of-type {\n",
       "        vertical-align: middle;\n",
       "    }\n",
       "\n",
       "    .dataframe tbody tr th {\n",
       "        vertical-align: top;\n",
       "    }\n",
       "\n",
       "    .dataframe thead th {\n",
       "        text-align: right;\n",
       "    }\n",
       "</style>\n",
       "<table border=\"1\" class=\"dataframe\">\n",
       "  <thead>\n",
       "    <tr style=\"text-align: right;\">\n",
       "      <th></th>\n",
       "      <th>Gene name</th>\n",
       "      <th>length_of_the_longest_tr_coord</th>\n",
       "      <th>Adjusted_gene_length</th>\n",
       "    </tr>\n",
       "  </thead>\n",
       "  <tbody>\n",
       "    <tr>\n",
       "      <th>0</th>\n",
       "      <td>mt-Nd1</td>\n",
       "      <td>957.0</td>\n",
       "      <td>957.0</td>\n",
       "    </tr>\n",
       "    <tr>\n",
       "      <th>1</th>\n",
       "      <td>mt-Nd2</td>\n",
       "      <td>1038.0</td>\n",
       "      <td>1038.0</td>\n",
       "    </tr>\n",
       "    <tr>\n",
       "      <th>2</th>\n",
       "      <td>mt-Co1</td>\n",
       "      <td>1545.0</td>\n",
       "      <td>1545.0</td>\n",
       "    </tr>\n",
       "    <tr>\n",
       "      <th>3</th>\n",
       "      <td>mt-Co2</td>\n",
       "      <td>684.0</td>\n",
       "      <td>684.0</td>\n",
       "    </tr>\n",
       "    <tr>\n",
       "      <th>4</th>\n",
       "      <td>mt-Atp8</td>\n",
       "      <td>204.0</td>\n",
       "      <td>204.0</td>\n",
       "    </tr>\n",
       "  </tbody>\n",
       "</table>\n",
       "</div>"
      ],
      "text/plain": [
       "  Gene name  length_of_the_longest_tr_coord  Adjusted_gene_length\n",
       "0    mt-Nd1                           957.0                 957.0\n",
       "1    mt-Nd2                          1038.0                1038.0\n",
       "2    mt-Co1                          1545.0                1545.0\n",
       "3    mt-Co2                           684.0                 684.0\n",
       "4   mt-Atp8                           204.0                 204.0"
      ]
     },
     "execution_count": 368,
     "metadata": {},
     "output_type": "execute_result"
    }
   ],
   "source": [
    "gene_info_ensembl.head()"
   ]
  },
  {
   "cell_type": "code",
   "execution_count": 365,
   "metadata": {},
   "outputs": [
    {
     "data": {
      "text/html": [
       "<div>\n",
       "<style scoped>\n",
       "    .dataframe tbody tr th:only-of-type {\n",
       "        vertical-align: middle;\n",
       "    }\n",
       "\n",
       "    .dataframe tbody tr th {\n",
       "        vertical-align: top;\n",
       "    }\n",
       "\n",
       "    .dataframe thead th {\n",
       "        text-align: right;\n",
       "    }\n",
       "</style>\n",
       "<table border=\"1\" class=\"dataframe\">\n",
       "  <thead>\n",
       "    <tr style=\"text-align: right;\">\n",
       "      <th></th>\n",
       "      <th>Gene name</th>\n",
       "      <th>baseMean</th>\n",
       "      <th>log2FoldChange</th>\n",
       "      <th>lfcSE</th>\n",
       "      <th>stat</th>\n",
       "      <th>pvalue</th>\n",
       "      <th>padj</th>\n",
       "      <th>Gene stable ID</th>\n",
       "      <th>Gene % GC content</th>\n",
       "      <th>protein_coding</th>\n",
       "    </tr>\n",
       "  </thead>\n",
       "  <tbody>\n",
       "    <tr>\n",
       "      <th>0</th>\n",
       "      <td>C4b</td>\n",
       "      <td>884.716371</td>\n",
       "      <td>-2.956498</td>\n",
       "      <td>0.212674</td>\n",
       "      <td>-13.901526</td>\n",
       "      <td>6.200554e-44</td>\n",
       "      <td>1.380367e-39</td>\n",
       "      <td>ENSMUSG00000073418</td>\n",
       "      <td>54.98</td>\n",
       "      <td>True</td>\n",
       "    </tr>\n",
       "    <tr>\n",
       "      <th>1</th>\n",
       "      <td>Lyz2</td>\n",
       "      <td>330.079396</td>\n",
       "      <td>-2.293038</td>\n",
       "      <td>0.243512</td>\n",
       "      <td>-9.416516</td>\n",
       "      <td>4.663037e-21</td>\n",
       "      <td>5.190426e-17</td>\n",
       "      <td>ENSMUSG00000069516</td>\n",
       "      <td>47.08</td>\n",
       "      <td>True</td>\n",
       "    </tr>\n",
       "    <tr>\n",
       "      <th>2</th>\n",
       "      <td>Gfap</td>\n",
       "      <td>3998.894233</td>\n",
       "      <td>-1.226660</td>\n",
       "      <td>0.159915</td>\n",
       "      <td>-7.670683</td>\n",
       "      <td>1.710823e-14</td>\n",
       "      <td>1.269545e-10</td>\n",
       "      <td>ENSMUSG00000020932</td>\n",
       "      <td>50.78</td>\n",
       "      <td>True</td>\n",
       "    </tr>\n",
       "    <tr>\n",
       "      <th>3</th>\n",
       "      <td>Avp</td>\n",
       "      <td>105.836367</td>\n",
       "      <td>-1.970187</td>\n",
       "      <td>0.271699</td>\n",
       "      <td>-7.251357</td>\n",
       "      <td>4.126180e-13</td>\n",
       "      <td>2.296425e-09</td>\n",
       "      <td>ENSMUSG00000037727</td>\n",
       "      <td>58.60</td>\n",
       "      <td>True</td>\n",
       "    </tr>\n",
       "    <tr>\n",
       "      <th>4</th>\n",
       "      <td>H2-K1</td>\n",
       "      <td>456.366097</td>\n",
       "      <td>-1.273633</td>\n",
       "      <td>0.189811</td>\n",
       "      <td>-6.710010</td>\n",
       "      <td>1.946113e-11</td>\n",
       "      <td>7.220729e-08</td>\n",
       "      <td>ENSMUSG00000061232</td>\n",
       "      <td>53.80</td>\n",
       "      <td>True</td>\n",
       "    </tr>\n",
       "  </tbody>\n",
       "</table>\n",
       "</div>"
      ],
      "text/plain": [
       "  Gene name     baseMean  log2FoldChange     lfcSE       stat        pvalue  \\\n",
       "0       C4b   884.716371       -2.956498  0.212674 -13.901526  6.200554e-44   \n",
       "1      Lyz2   330.079396       -2.293038  0.243512  -9.416516  4.663037e-21   \n",
       "2      Gfap  3998.894233       -1.226660  0.159915  -7.670683  1.710823e-14   \n",
       "3       Avp   105.836367       -1.970187  0.271699  -7.251357  4.126180e-13   \n",
       "4     H2-K1   456.366097       -1.273633  0.189811  -6.710010  1.946113e-11   \n",
       "\n",
       "           padj      Gene stable ID  Gene % GC content protein_coding  \n",
       "0  1.380367e-39  ENSMUSG00000073418              54.98           True  \n",
       "1  5.190426e-17  ENSMUSG00000069516              47.08           True  \n",
       "2  1.269545e-10  ENSMUSG00000020932              50.78           True  \n",
       "3  2.296425e-09  ENSMUSG00000037727              58.60           True  \n",
       "4  7.220729e-08  ENSMUSG00000061232              53.80           True  "
      ]
     },
     "execution_count": 365,
     "metadata": {},
     "output_type": "execute_result"
    }
   ],
   "source": [
    "male_ensembl.head()"
   ]
  },
  {
   "cell_type": "code",
   "execution_count": 369,
   "metadata": {},
   "outputs": [],
   "source": [
    "male_ensembl = male_ensembl.merge(gene_info_ensembl, how='left', right_on='Gene name', left_on='Gene name')"
   ]
  },
  {
   "cell_type": "code",
   "execution_count": 372,
   "metadata": {},
   "outputs": [
    {
     "data": {
      "text/plain": [
       "48605.38012712058"
      ]
     },
     "execution_count": 372,
     "metadata": {},
     "output_type": "execute_result"
    }
   ],
   "source": [
    "male_ensembl[male_ensembl.protein_coding == True].length_of_the_longest_tr_coord.mean()"
   ]
  },
  {
   "cell_type": "code",
   "execution_count": null,
   "metadata": {},
   "outputs": [],
   "source": []
  },
  {
   "cell_type": "code",
   "execution_count": 373,
   "metadata": {},
   "outputs": [],
   "source": [
    "male_ensembl_up = male_ensembl[(male_ensembl.padj < 0.1) & (male_ensembl.log2FoldChange > 0.14)]\n",
    "\n",
    "male_ensembl_down = male_ensembl[(male_ensembl.padj < 0.1) & (male_ensembl.log2FoldChange < - 0.42)]"
   ]
  },
  {
   "cell_type": "code",
   "execution_count": 375,
   "metadata": {},
   "outputs": [],
   "source": [
    "male_Refseq_up = male_Refseq[(male_Refseq.padj < 0.1) & (male_Refseq.log2FoldChange > 0.14)]\n",
    "\n",
    "male_Refseq_down = male_Refseq[(male_Refseq.padj < 0.1) & (male_Refseq.log2FoldChange < - 0.42)]"
   ]
  },
  {
   "cell_type": "code",
   "execution_count": 378,
   "metadata": {},
   "outputs": [
    {
     "data": {
      "text/html": [
       "<div>\n",
       "<style scoped>\n",
       "    .dataframe tbody tr th:only-of-type {\n",
       "        vertical-align: middle;\n",
       "    }\n",
       "\n",
       "    .dataframe tbody tr th {\n",
       "        vertical-align: top;\n",
       "    }\n",
       "\n",
       "    .dataframe thead th {\n",
       "        text-align: right;\n",
       "    }\n",
       "</style>\n",
       "<table border=\"1\" class=\"dataframe\">\n",
       "  <thead>\n",
       "    <tr style=\"text-align: right;\">\n",
       "      <th></th>\n",
       "      <th>Gene name</th>\n",
       "      <th>baseMean</th>\n",
       "      <th>log2FoldChange</th>\n",
       "      <th>lfcSE</th>\n",
       "      <th>stat</th>\n",
       "      <th>pvalue</th>\n",
       "      <th>padj</th>\n",
       "      <th>Gene stable ID</th>\n",
       "      <th>Gene % GC content</th>\n",
       "      <th>protein_coding</th>\n",
       "      <th>length_of_the_longest_tr_coord</th>\n",
       "      <th>Adjusted_gene_length</th>\n",
       "    </tr>\n",
       "  </thead>\n",
       "  <tbody>\n",
       "    <tr>\n",
       "      <th>15</th>\n",
       "      <td>Sox11</td>\n",
       "      <td>261.477393</td>\n",
       "      <td>0.871674</td>\n",
       "      <td>0.169344</td>\n",
       "      <td>5.147356</td>\n",
       "      <td>2.641831e-07</td>\n",
       "      <td>0.000383</td>\n",
       "      <td>ENSMUSG00000063632</td>\n",
       "      <td>46.48</td>\n",
       "      <td>True</td>\n",
       "      <td>8311.0</td>\n",
       "      <td>8311.0</td>\n",
       "    </tr>\n",
       "    <tr>\n",
       "      <th>26</th>\n",
       "      <td>Gpr17</td>\n",
       "      <td>295.851802</td>\n",
       "      <td>1.179157</td>\n",
       "      <td>0.256213</td>\n",
       "      <td>4.602259</td>\n",
       "      <td>4.179321e-06</td>\n",
       "      <td>0.003446</td>\n",
       "      <td>ENSMUSG00000052229</td>\n",
       "      <td>52.88</td>\n",
       "      <td>True</td>\n",
       "      <td>6640.0</td>\n",
       "      <td>6640.0</td>\n",
       "    </tr>\n",
       "    <tr>\n",
       "      <th>28</th>\n",
       "      <td>Nr4a1</td>\n",
       "      <td>974.623782</td>\n",
       "      <td>0.980626</td>\n",
       "      <td>0.216492</td>\n",
       "      <td>4.529624</td>\n",
       "      <td>5.908874e-06</td>\n",
       "      <td>0.004536</td>\n",
       "      <td>ENSMUSG00000023034</td>\n",
       "      <td>54.50</td>\n",
       "      <td>True</td>\n",
       "      <td>20527.0</td>\n",
       "      <td>7476.0</td>\n",
       "    </tr>\n",
       "    <tr>\n",
       "      <th>29</th>\n",
       "      <td>Egr4</td>\n",
       "      <td>374.002486</td>\n",
       "      <td>0.936623</td>\n",
       "      <td>0.207128</td>\n",
       "      <td>4.521961</td>\n",
       "      <td>6.126934e-06</td>\n",
       "      <td>0.004547</td>\n",
       "      <td>ENSMUSG00000071341</td>\n",
       "      <td>68.29</td>\n",
       "      <td>True</td>\n",
       "      <td>2469.0</td>\n",
       "      <td>2469.0</td>\n",
       "    </tr>\n",
       "    <tr>\n",
       "      <th>36</th>\n",
       "      <td>Arc</td>\n",
       "      <td>2305.863940</td>\n",
       "      <td>1.019709</td>\n",
       "      <td>0.232300</td>\n",
       "      <td>4.389614</td>\n",
       "      <td>1.135520e-05</td>\n",
       "      <td>0.006652</td>\n",
       "      <td>ENSMUSG00000022602</td>\n",
       "      <td>58.80</td>\n",
       "      <td>True</td>\n",
       "      <td>3488.0</td>\n",
       "      <td>3487.0</td>\n",
       "    </tr>\n",
       "  </tbody>\n",
       "</table>\n",
       "</div>"
      ],
      "text/plain": [
       "   Gene name     baseMean  log2FoldChange     lfcSE      stat        pvalue  \\\n",
       "15     Sox11   261.477393        0.871674  0.169344  5.147356  2.641831e-07   \n",
       "26     Gpr17   295.851802        1.179157  0.256213  4.602259  4.179321e-06   \n",
       "28     Nr4a1   974.623782        0.980626  0.216492  4.529624  5.908874e-06   \n",
       "29      Egr4   374.002486        0.936623  0.207128  4.521961  6.126934e-06   \n",
       "36       Arc  2305.863940        1.019709  0.232300  4.389614  1.135520e-05   \n",
       "\n",
       "        padj      Gene stable ID  Gene % GC content protein_coding  \\\n",
       "15  0.000383  ENSMUSG00000063632              46.48           True   \n",
       "26  0.003446  ENSMUSG00000052229              52.88           True   \n",
       "28  0.004536  ENSMUSG00000023034              54.50           True   \n",
       "29  0.004547  ENSMUSG00000071341              68.29           True   \n",
       "36  0.006652  ENSMUSG00000022602              58.80           True   \n",
       "\n",
       "    length_of_the_longest_tr_coord  Adjusted_gene_length  \n",
       "15                          8311.0                8311.0  \n",
       "26                          6640.0                6640.0  \n",
       "28                         20527.0                7476.0  \n",
       "29                          2469.0                2469.0  \n",
       "36                          3488.0                3487.0  "
      ]
     },
     "execution_count": 378,
     "metadata": {},
     "output_type": "execute_result"
    }
   ],
   "source": [
    "male_ensembl_up.head()"
   ]
  },
  {
   "cell_type": "code",
   "execution_count": 380,
   "metadata": {},
   "outputs": [
    {
     "data": {
      "text/plain": [
       "(-2000.0, 100000.0)"
      ]
     },
     "execution_count": 380,
     "metadata": {},
     "output_type": "execute_result"
    },
    {
     "data": {
      "image/png": "[encoded data removed]",
      "text/plain": [
       "<Figure size 432x576 with 2 Axes>"
      ]
     },
     "metadata": {
      "needs_background": "light"
     },
     "output_type": "display_data"
    }
   ],
   "source": [
    "fig, axs = plt.subplots(2, 1, figsize=(6, 8))\n",
    "\n",
    "\n",
    "box0 = axs[0].boxplot([male_ensembl[male_ensembl.protein_coding == True].length_of_the_longest_tr_coord, \n",
    "                      male_ensembl_up[male_ensembl_up.protein_coding == True].length_of_the_longest_tr_coord,\n",
    "                      male_ensembl_down[male_ensembl_down.protein_coding == True].length_of_the_longest_tr_coord], \n",
    "                      showfliers=False, showmeans=True, \n",
    "                     labels=['total', 'upregulated', 'downregulated'])\n",
    "\n",
    "axs[0].set_ylabel('Gene length (length of the longest transcript)')\n",
    "axs[0].set_xlabel('Male mice protein-coding genes (Ensembl)')\n",
    "\n",
    "\n",
    "box1 = axs[1].boxplot([male_ensembl[male_ensembl.protein_coding == True].Adjusted_gene_length, \n",
    "                      male_ensembl_up[male_ensembl_up.protein_coding == True].Adjusted_gene_length,\n",
    "                      male_ensembl_down[male_ensembl_down.protein_coding == True].Adjusted_gene_length], \n",
    "                      showfliers=False, showmeans=True, \n",
    "                     labels=['total', 'upregulated', 'downregulated'])\n",
    "\n",
    "axs[1].set_xlabel('Male mice protein-coding genes (Ensembl)')\n",
    "axs[1].set_ylabel('Adjusted gene length')\n",
    "axs[1].set_ylim(-2000,100000)"
   ]
  },
  {
   "cell_type": "code",
   "execution_count": 396,
   "metadata": {},
   "outputs": [
    {
     "data": {
      "text/plain": [
       "Text(0.5, 1.0, 'Ensembl annotation')"
      ]
     },
     "execution_count": 396,
     "metadata": {},
     "output_type": "execute_result"
    },
    {
     "data": {
      "image/png": "[encoded data removed]",
      "text/plain": [
       "<Figure size 216x288 with 1 Axes>"
      ]
     },
     "metadata": {
      "needs_background": "light"
     },
     "output_type": "display_data"
    }
   ],
   "source": [
    "fig, axs = plt.subplots(1, 1, figsize=(3, 4))\n",
    "\n",
    "axs.boxplot([male_ensembl[male_ensembl.protein_coding == True].length_of_the_longest_tr_coord, \n",
    "             male_ensembl[male_ensembl.protein_coding == True].Adjusted_gene_length], \n",
    "            showfliers=False, showmeans=True, \n",
    "                     labels=['longest transcript', 'adjusted'])\n",
    "\n",
    "axs.set_ylabel('Gene length')\n",
    "axs.set_xlabel('Gene length definition')\n",
    "axs.set_title('Ensembl annotation')"
   ]
  },
  {
   "cell_type": "code",
   "execution_count": 397,
   "metadata": {},
   "outputs": [
    {
     "name": "stdout",
     "output_type": "stream",
     "text": [
      "7.842797448884643e-125\n"
     ]
    }
   ],
   "source": [
    "stat, p = scipy.stats.mannwhitneyu(male_ensembl[male_ensembl.protein_coding == True].length_of_the_longest_tr_coord.values, \n",
    "                                   male_ensembl[male_ensembl.protein_coding == True].Adjusted_gene_length.values, \n",
    "                                   alternative='two-sided')\n",
    "print(p)"
   ]
  },
  {
   "cell_type": "code",
   "execution_count": 389,
   "metadata": {},
   "outputs": [
    {
     "data": {
      "text/plain": [
       "Text(0.5, 1.0, 'Lengths of differentially expressed genes \\n (male mice, Ensembl)')"
      ]
     },
     "execution_count": 389,
     "metadata": {},
     "output_type": "execute_result"
    },
    {
     "data": {
      "image/png": "[encoded data removed]",
      "text/plain": [
       "<Figure size 504x288 with 1 Axes>"
      ]
     },
     "metadata": {
      "needs_background": "light"
     },
     "output_type": "display_data"
    }
   ],
   "source": [
    "fig, axs = plt.subplots(1, 1, figsize=(7, 4))\n",
    "\n",
    "axs.boxplot([male_ensembl_up[male_ensembl_up.protein_coding == True].length_of_the_longest_tr_coord, \n",
    "             male_ensembl_down[male_ensembl_down.protein_coding == True].length_of_the_longest_tr_coord, \n",
    "             male_ensembl_up[male_ensembl_up.protein_coding == True].Adjusted_gene_length,\n",
    "            male_ensembl_down[male_ensembl_down.protein_coding == True].Adjusted_gene_length], showfliers=False, showmeans=True, \n",
    "                     labels=['up longest tr', 'down longest tr', 'up adjusted', 'down adjusted'])\n",
    "\n",
    "axs.set_ylabel('Gene length')\n",
    "axs.set_title('Lengths of differentially expressed genes \\n (male mice, Ensembl)')"
   ]
  },
  {
   "cell_type": "code",
   "execution_count": 392,
   "metadata": {},
   "outputs": [
    {
     "name": "stdout",
     "output_type": "stream",
     "text": [
      "0.2316313567568674\n"
     ]
    }
   ],
   "source": [
    "stat, p = scipy.stats.mannwhitneyu(male_ensembl_up[male_ensembl_up.protein_coding == True].length_of_the_longest_tr_coord.values, \n",
    "                                   male_ensembl_up[male_ensembl_up.protein_coding == True].Adjusted_gene_length.values, \n",
    "                                   alternative='two-sided')\n",
    "print(p)"
   ]
  },
  {
   "cell_type": "code",
   "execution_count": 393,
   "metadata": {},
   "outputs": [
    {
     "name": "stdout",
     "output_type": "stream",
     "text": [
      "0.6974458502197878\n"
     ]
    }
   ],
   "source": [
    "stat, p = scipy.stats.mannwhitneyu(male_ensembl_up[male_ensembl_up.protein_coding == True].length_of_the_longest_tr_coord.values, \n",
    "                                   male_ensembl_down[male_ensembl_down.protein_coding == True].length_of_the_longest_tr_coord.values, \n",
    "                                   alternative='two-sided')\n",
    "print(p)"
   ]
  },
  {
   "cell_type": "code",
   "execution_count": 394,
   "metadata": {},
   "outputs": [
    {
     "name": "stdout",
     "output_type": "stream",
     "text": [
      "0.07228163201976041\n"
     ]
    }
   ],
   "source": [
    "stat, p = scipy.stats.mannwhitneyu(male_ensembl_down[male_ensembl_down.protein_coding == True].length_of_the_longest_tr_coord.values, \n",
    "                                   male_ensembl_down[male_ensembl_down.protein_coding == True].Adjusted_gene_length.values, \n",
    "                                   alternative='two-sided')\n",
    "print(p)"
   ]
  },
  {
   "cell_type": "code",
   "execution_count": 395,
   "metadata": {},
   "outputs": [
    {
     "name": "stdout",
     "output_type": "stream",
     "text": [
      "0.581582756447039\n"
     ]
    }
   ],
   "source": [
    "stat, p = scipy.stats.mannwhitneyu(male_ensembl_up[male_ensembl_up.protein_coding == True].Adjusted_gene_length.values, \n",
    "                                   male_ensembl_down[male_ensembl_down.protein_coding == True].Adjusted_gene_length.values, \n",
    "                                   alternative='two-sided')\n",
    "print(p)"
   ]
  },
  {
   "cell_type": "code",
   "execution_count": null,
   "metadata": {},
   "outputs": [],
   "source": []
  }
 ],
 "metadata": {
  "kernelspec": {
   "display_name": "Python 3",
   "language": "python",
   "name": "python3"
  },
  "language_info": {
   "codemirror_mode": {
    "name": "ipython",
    "version": 3
   },
   "file_extension": ".py",
   "mimetype": "text/x-python",
   "name": "python",
   "nbconvert_exporter": "python",
   "pygments_lexer": "ipython3",
   "version": "3.8.5"
  }
 },
 "nbformat": 4,
 "nbformat_minor": 4
}
