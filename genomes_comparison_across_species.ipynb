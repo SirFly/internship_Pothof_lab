{
 "cells": [
  {
   "cell_type": "code",
   "execution_count": 470,
   "metadata": {},
   "outputs": [],
   "source": [
    "import pandas as pd\n",
    "import re\n",
    "import numpy as np\n",
    "import matplotlib.pyplot as plt\n",
    "import seaborn as sns\n",
    "import scipy\n",
    "from tqdm import tqdm\n",
    "from matplotlib_venn import venn2\n",
    "%matplotlib inline"
   ]
  },
  {
   "cell_type": "code",
   "execution_count": 294,
   "metadata": {},
   "outputs": [
    {
     "name": "stderr",
     "output_type": "stream",
     "text": [
      "/home/daria/anaconda3/lib/python3.8/site-packages/IPython/core/interactiveshell.py:3146: DtypeWarning: Columns (0) have mixed types.Specify dtype option on import or set low_memory=False.\n",
      "  has_raised = await self.run_ast_nodes(code_ast.body, cell_name,\n"
     ]
    }
   ],
   "source": [
    "mouse_38 = pd.read_csv('../ref_genome/mm38/Mus_musculus.GRCm38.81.gtf', skiprows= 5, sep = '\\t', header = None)"
   ]
  },
  {
   "cell_type": "code",
   "execution_count": 295,
   "metadata": {},
   "outputs": [
    {
     "data": {
      "text/plain": [
       "'gene_id \"ENSMUSG00000102693\"; gene_version \"1\"; transcript_id \"ENSMUST00000193812\"; transcript_version \"1\"; gene_name \"4933401J01Rik\"; gene_source \"havana\"; gene_biotype \"TEC\"; havana_gene \"OTTMUSG00000049935\"; havana_gene_version \"1\"; transcript_name \"4933401J01Rik-001\"; transcript_source \"havana\"; transcript_biotype \"TEC\"; havana_transcript \"OTTMUST00000127109\"; havana_transcript_version \"1\"; tag \"basic\"; transcript_support_level \"NA\";'"
      ]
     },
     "execution_count": 295,
     "metadata": {},
     "output_type": "execute_result"
    }
   ],
   "source": [
    "mouse_38[8][1]"
   ]
  },
  {
   "cell_type": "code",
   "execution_count": 296,
   "metadata": {},
   "outputs": [],
   "source": [
    "mouse_38['gene_id'] = mouse_38[8].map(lambda x: re.findall(r'gene_id \"(\\w+)\"', x)[0])\n",
    "mouse_38['gene_biotype'] = mouse_38[8].map(lambda x: re.findall(r'gene_biotype \"(\\w+)\"', x)[0])"
   ]
  },
  {
   "cell_type": "code",
   "execution_count": 297,
   "metadata": {},
   "outputs": [
    {
     "data": {
      "text/html": [
       "<div>\n",
       "<style scoped>\n",
       "    .dataframe tbody tr th:only-of-type {\n",
       "        vertical-align: middle;\n",
       "    }\n",
       "\n",
       "    .dataframe tbody tr th {\n",
       "        vertical-align: top;\n",
       "    }\n",
       "\n",
       "    .dataframe thead th {\n",
       "        text-align: right;\n",
       "    }\n",
       "</style>\n",
       "<table border=\"1\" class=\"dataframe\">\n",
       "  <thead>\n",
       "    <tr style=\"text-align: right;\">\n",
       "      <th></th>\n",
       "      <th>0</th>\n",
       "      <th>1</th>\n",
       "      <th>2</th>\n",
       "      <th>3</th>\n",
       "      <th>4</th>\n",
       "      <th>5</th>\n",
       "      <th>6</th>\n",
       "      <th>7</th>\n",
       "      <th>8</th>\n",
       "      <th>gene_id</th>\n",
       "      <th>gene_biotype</th>\n",
       "    </tr>\n",
       "  </thead>\n",
       "  <tbody>\n",
       "    <tr>\n",
       "      <th>0</th>\n",
       "      <td>1</td>\n",
       "      <td>havana</td>\n",
       "      <td>gene</td>\n",
       "      <td>3073253</td>\n",
       "      <td>3074322</td>\n",
       "      <td>.</td>\n",
       "      <td>+</td>\n",
       "      <td>.</td>\n",
       "      <td>gene_id \"ENSMUSG00000102693\"; gene_version \"1\"...</td>\n",
       "      <td>ENSMUSG00000102693</td>\n",
       "      <td>TEC</td>\n",
       "    </tr>\n",
       "    <tr>\n",
       "      <th>1</th>\n",
       "      <td>1</td>\n",
       "      <td>havana</td>\n",
       "      <td>transcript</td>\n",
       "      <td>3073253</td>\n",
       "      <td>3074322</td>\n",
       "      <td>.</td>\n",
       "      <td>+</td>\n",
       "      <td>.</td>\n",
       "      <td>gene_id \"ENSMUSG00000102693\"; gene_version \"1\"...</td>\n",
       "      <td>ENSMUSG00000102693</td>\n",
       "      <td>TEC</td>\n",
       "    </tr>\n",
       "    <tr>\n",
       "      <th>2</th>\n",
       "      <td>1</td>\n",
       "      <td>havana</td>\n",
       "      <td>exon</td>\n",
       "      <td>3073253</td>\n",
       "      <td>3074322</td>\n",
       "      <td>.</td>\n",
       "      <td>+</td>\n",
       "      <td>.</td>\n",
       "      <td>gene_id \"ENSMUSG00000102693\"; gene_version \"1\"...</td>\n",
       "      <td>ENSMUSG00000102693</td>\n",
       "      <td>TEC</td>\n",
       "    </tr>\n",
       "    <tr>\n",
       "      <th>3</th>\n",
       "      <td>1</td>\n",
       "      <td>ensembl</td>\n",
       "      <td>gene</td>\n",
       "      <td>3102016</td>\n",
       "      <td>3102125</td>\n",
       "      <td>.</td>\n",
       "      <td>+</td>\n",
       "      <td>.</td>\n",
       "      <td>gene_id \"ENSMUSG00000064842\"; gene_version \"1\"...</td>\n",
       "      <td>ENSMUSG00000064842</td>\n",
       "      <td>snRNA</td>\n",
       "    </tr>\n",
       "    <tr>\n",
       "      <th>4</th>\n",
       "      <td>1</td>\n",
       "      <td>ensembl</td>\n",
       "      <td>transcript</td>\n",
       "      <td>3102016</td>\n",
       "      <td>3102125</td>\n",
       "      <td>.</td>\n",
       "      <td>+</td>\n",
       "      <td>.</td>\n",
       "      <td>gene_id \"ENSMUSG00000064842\"; gene_version \"1\"...</td>\n",
       "      <td>ENSMUSG00000064842</td>\n",
       "      <td>snRNA</td>\n",
       "    </tr>\n",
       "  </tbody>\n",
       "</table>\n",
       "</div>"
      ],
      "text/plain": [
       "   0        1           2        3        4  5  6  7  \\\n",
       "0  1   havana        gene  3073253  3074322  .  +  .   \n",
       "1  1   havana  transcript  3073253  3074322  .  +  .   \n",
       "2  1   havana        exon  3073253  3074322  .  +  .   \n",
       "3  1  ensembl        gene  3102016  3102125  .  +  .   \n",
       "4  1  ensembl  transcript  3102016  3102125  .  +  .   \n",
       "\n",
       "                                                   8             gene_id  \\\n",
       "0  gene_id \"ENSMUSG00000102693\"; gene_version \"1\"...  ENSMUSG00000102693   \n",
       "1  gene_id \"ENSMUSG00000102693\"; gene_version \"1\"...  ENSMUSG00000102693   \n",
       "2  gene_id \"ENSMUSG00000102693\"; gene_version \"1\"...  ENSMUSG00000102693   \n",
       "3  gene_id \"ENSMUSG00000064842\"; gene_version \"1\"...  ENSMUSG00000064842   \n",
       "4  gene_id \"ENSMUSG00000064842\"; gene_version \"1\"...  ENSMUSG00000064842   \n",
       "\n",
       "  gene_biotype  \n",
       "0          TEC  \n",
       "1          TEC  \n",
       "2          TEC  \n",
       "3        snRNA  \n",
       "4        snRNA  "
      ]
     },
     "execution_count": 297,
     "metadata": {},
     "output_type": "execute_result"
    }
   ],
   "source": [
    "mouse_38.head()"
   ]
  },
  {
   "cell_type": "code",
   "execution_count": 298,
   "metadata": {},
   "outputs": [],
   "source": [
    "def f_name(x):\n",
    "    try:\n",
    "        return re.findall(r'gene_name \"(\\S+)\"', x)[0]\n",
    "    except IndexError:\n",
    "        return np.nan\n",
    "mouse_38['gene_name'] = mouse_38[8].map(f_name)"
   ]
  },
  {
   "cell_type": "code",
   "execution_count": 299,
   "metadata": {},
   "outputs": [
    {
     "data": {
      "text/plain": [
       "array(['TEC', 'snRNA', 'protein_coding', 'processed_pseudogene',\n",
       "       'antisense', 'sense_intronic', 'lincRNA', 'processed_transcript',\n",
       "       'miRNA', 'snoRNA', 'misc_RNA', 'unprocessed_pseudogene',\n",
       "       'transcribed_unprocessed_pseudogene', 'sense_overlapping', 'rRNA',\n",
       "       'transcribed_processed_pseudogene', 'pseudogene', 'ribozyme',\n",
       "       'unitary_pseudogene', 'scaRNA', 'polymorphic_pseudogene',\n",
       "       'macro_lncRNA', '3prime_overlapping_ncrna', 'TR_V_gene',\n",
       "       'TR_V_pseudogene', 'TR_D_gene', 'TR_J_gene', 'TR_C_gene',\n",
       "       'TR_J_pseudogene', 'IG_LV_gene', 'IG_V_gene', 'IG_V_pseudogene',\n",
       "       'IG_J_gene', 'IG_C_gene', 'sRNA',\n",
       "       'translated_unprocessed_pseudogene', 'IG_C_pseudogene',\n",
       "       'IG_D_gene', 'IG_D_pseudogene', 'Mt_tRNA', 'Mt_rRNA'], dtype=object)"
      ]
     },
     "execution_count": 299,
     "metadata": {},
     "output_type": "execute_result"
    }
   ],
   "source": [
    "mouse_38.gene_biotype.unique()"
   ]
  },
  {
   "cell_type": "code",
   "execution_count": 300,
   "metadata": {},
   "outputs": [],
   "source": [
    "mouse_38 = mouse_38[mouse_38.gene_biotype == 'protein_coding'].copy()"
   ]
  },
  {
   "cell_type": "code",
   "execution_count": 301,
   "metadata": {},
   "outputs": [],
   "source": [
    "def f_tr(x):\n",
    "    try:\n",
    "        return re.findall(r'transcript_id \"(\\S+)\"', x)[0]\n",
    "    except IndexError:\n",
    "        return np.nan\n",
    "mouse_38['transcript_id'] = mouse_38[8].map(f_tr)"
   ]
  },
  {
   "cell_type": "code",
   "execution_count": 302,
   "metadata": {},
   "outputs": [
    {
     "data": {
      "text/html": [
       "<div>\n",
       "<style scoped>\n",
       "    .dataframe tbody tr th:only-of-type {\n",
       "        vertical-align: middle;\n",
       "    }\n",
       "\n",
       "    .dataframe tbody tr th {\n",
       "        vertical-align: top;\n",
       "    }\n",
       "\n",
       "    .dataframe thead th {\n",
       "        text-align: right;\n",
       "    }\n",
       "</style>\n",
       "<table border=\"1\" class=\"dataframe\">\n",
       "  <thead>\n",
       "    <tr style=\"text-align: right;\">\n",
       "      <th></th>\n",
       "      <th>0</th>\n",
       "      <th>1</th>\n",
       "      <th>2</th>\n",
       "      <th>3</th>\n",
       "      <th>4</th>\n",
       "      <th>5</th>\n",
       "      <th>6</th>\n",
       "      <th>7</th>\n",
       "      <th>8</th>\n",
       "      <th>gene_id</th>\n",
       "      <th>gene_biotype</th>\n",
       "      <th>gene_name</th>\n",
       "      <th>transcript_id</th>\n",
       "    </tr>\n",
       "  </thead>\n",
       "  <tbody>\n",
       "    <tr>\n",
       "      <th>6</th>\n",
       "      <td>1</td>\n",
       "      <td>ensembl_havana</td>\n",
       "      <td>gene</td>\n",
       "      <td>3205901</td>\n",
       "      <td>3671498</td>\n",
       "      <td>.</td>\n",
       "      <td>-</td>\n",
       "      <td>.</td>\n",
       "      <td>gene_id \"ENSMUSG00000051951\"; gene_version \"5\"...</td>\n",
       "      <td>ENSMUSG00000051951</td>\n",
       "      <td>protein_coding</td>\n",
       "      <td>Xkr4</td>\n",
       "      <td>NaN</td>\n",
       "    </tr>\n",
       "    <tr>\n",
       "      <th>7</th>\n",
       "      <td>1</td>\n",
       "      <td>havana</td>\n",
       "      <td>transcript</td>\n",
       "      <td>3205901</td>\n",
       "      <td>3216344</td>\n",
       "      <td>.</td>\n",
       "      <td>-</td>\n",
       "      <td>.</td>\n",
       "      <td>gene_id \"ENSMUSG00000051951\"; gene_version \"5\"...</td>\n",
       "      <td>ENSMUSG00000051951</td>\n",
       "      <td>protein_coding</td>\n",
       "      <td>Xkr4</td>\n",
       "      <td>ENSMUST00000162897</td>\n",
       "    </tr>\n",
       "    <tr>\n",
       "      <th>8</th>\n",
       "      <td>1</td>\n",
       "      <td>havana</td>\n",
       "      <td>exon</td>\n",
       "      <td>3213609</td>\n",
       "      <td>3216344</td>\n",
       "      <td>.</td>\n",
       "      <td>-</td>\n",
       "      <td>.</td>\n",
       "      <td>gene_id \"ENSMUSG00000051951\"; gene_version \"5\"...</td>\n",
       "      <td>ENSMUSG00000051951</td>\n",
       "      <td>protein_coding</td>\n",
       "      <td>Xkr4</td>\n",
       "      <td>ENSMUST00000162897</td>\n",
       "    </tr>\n",
       "    <tr>\n",
       "      <th>9</th>\n",
       "      <td>1</td>\n",
       "      <td>havana</td>\n",
       "      <td>exon</td>\n",
       "      <td>3205901</td>\n",
       "      <td>3207317</td>\n",
       "      <td>.</td>\n",
       "      <td>-</td>\n",
       "      <td>.</td>\n",
       "      <td>gene_id \"ENSMUSG00000051951\"; gene_version \"5\"...</td>\n",
       "      <td>ENSMUSG00000051951</td>\n",
       "      <td>protein_coding</td>\n",
       "      <td>Xkr4</td>\n",
       "      <td>ENSMUST00000162897</td>\n",
       "    </tr>\n",
       "    <tr>\n",
       "      <th>10</th>\n",
       "      <td>1</td>\n",
       "      <td>havana</td>\n",
       "      <td>transcript</td>\n",
       "      <td>3206523</td>\n",
       "      <td>3215632</td>\n",
       "      <td>.</td>\n",
       "      <td>-</td>\n",
       "      <td>.</td>\n",
       "      <td>gene_id \"ENSMUSG00000051951\"; gene_version \"5\"...</td>\n",
       "      <td>ENSMUSG00000051951</td>\n",
       "      <td>protein_coding</td>\n",
       "      <td>Xkr4</td>\n",
       "      <td>ENSMUST00000159265</td>\n",
       "    </tr>\n",
       "  </tbody>\n",
       "</table>\n",
       "</div>"
      ],
      "text/plain": [
       "    0               1           2        3        4  5  6  7  \\\n",
       "6   1  ensembl_havana        gene  3205901  3671498  .  -  .   \n",
       "7   1          havana  transcript  3205901  3216344  .  -  .   \n",
       "8   1          havana        exon  3213609  3216344  .  -  .   \n",
       "9   1          havana        exon  3205901  3207317  .  -  .   \n",
       "10  1          havana  transcript  3206523  3215632  .  -  .   \n",
       "\n",
       "                                                    8             gene_id  \\\n",
       "6   gene_id \"ENSMUSG00000051951\"; gene_version \"5\"...  ENSMUSG00000051951   \n",
       "7   gene_id \"ENSMUSG00000051951\"; gene_version \"5\"...  ENSMUSG00000051951   \n",
       "8   gene_id \"ENSMUSG00000051951\"; gene_version \"5\"...  ENSMUSG00000051951   \n",
       "9   gene_id \"ENSMUSG00000051951\"; gene_version \"5\"...  ENSMUSG00000051951   \n",
       "10  gene_id \"ENSMUSG00000051951\"; gene_version \"5\"...  ENSMUSG00000051951   \n",
       "\n",
       "      gene_biotype gene_name       transcript_id  \n",
       "6   protein_coding      Xkr4                 NaN  \n",
       "7   protein_coding      Xkr4  ENSMUST00000162897  \n",
       "8   protein_coding      Xkr4  ENSMUST00000162897  \n",
       "9   protein_coding      Xkr4  ENSMUST00000162897  \n",
       "10  protein_coding      Xkr4  ENSMUST00000159265  "
      ]
     },
     "execution_count": 302,
     "metadata": {},
     "output_type": "execute_result"
    }
   ],
   "source": [
    "mouse_38.head()"
   ]
  },
  {
   "cell_type": "code",
   "execution_count": 303,
   "metadata": {},
   "outputs": [],
   "source": [
    "mouse_38_genes = mouse_38[mouse_38[2] == 'gene']"
   ]
  },
  {
   "cell_type": "code",
   "execution_count": 304,
   "metadata": {},
   "outputs": [
    {
     "data": {
      "text/plain": [
       "(22159, 13)"
      ]
     },
     "execution_count": 304,
     "metadata": {},
     "output_type": "execute_result"
    }
   ],
   "source": [
    "mouse_38_genes.shape"
   ]
  },
  {
   "cell_type": "code",
   "execution_count": 305,
   "metadata": {},
   "outputs": [],
   "source": [
    "mouse_38_tr = mouse_38[mouse_38[2] == 'transcript']"
   ]
  },
  {
   "cell_type": "code",
   "execution_count": 306,
   "metadata": {},
   "outputs": [
    {
     "data": {
      "text/plain": [
       "(82460, 13)"
      ]
     },
     "execution_count": 306,
     "metadata": {},
     "output_type": "execute_result"
    }
   ],
   "source": [
    "mouse_38_tr.shape"
   ]
  },
  {
   "cell_type": "code",
   "execution_count": 308,
   "metadata": {},
   "outputs": [],
   "source": [
    "#for i in tqdm(mouse_38['gene_id'].unique()):\n",
    "#    mouse_38.loc[mouse_38['gene_id'] == i, 'gene_start'] = mouse_38.loc[(mouse_38['gene_id'] == i) & (mouse_38[2] == 'gene'), 3]\n",
    "#    mouse_38.loc[mouse_38['gene_id'] == i, 'gene_end'] = mouse_38.loc[(mouse_38['gene_id'] == i) & (mouse_38[2] == 'gene'), 4]"
   ]
  },
  {
   "cell_type": "code",
   "execution_count": 317,
   "metadata": {},
   "outputs": [
    {
     "name": "stderr",
     "output_type": "stream",
     "text": [
      "  0%|          | 0/22159 [00:00<?, ?it/s]/home/daria/anaconda3/lib/python3.8/site-packages/pandas/core/indexing.py:1765: SettingWithCopyWarning: \n",
      "A value is trying to be set on a copy of a slice from a DataFrame.\n",
      "Try using .loc[row_indexer,col_indexer] = value instead\n",
      "\n",
      "See the caveats in the documentation: https://pandas.pydata.org/pandas-docs/stable/user_guide/indexing.html#returning-a-view-versus-a-copy\n",
      "  isetter(loc, value)\n",
      "100%|██████████| 22159/22159 [15:11<00:00, 24.31it/s]\n"
     ]
    }
   ],
   "source": [
    "for i in tqdm(mouse_38_tr['gene_id'].unique()):\n",
    "    mouse_38_genes.loc[mouse_38_genes['gene_id'] == i, 'length_of_the_longest_tr_coord'] = (abs(mouse_38_tr.loc[mouse_38_tr['gene_id'] == i, 4] - mouse_38_tr.loc[mouse_38_tr['gene_id'] == i, 3]) + 1).max()\n",
    "    tr_df = mouse_38_tr[mouse_38_tr['gene_id'] == i].copy()\n",
    "    med_start = tr_df[3].median()\n",
    "    med_end = tr_df[4].median()\n",
    "    mouse_38_genes.loc[mouse_38_genes['gene_id'] == i, 'median_start'] = med_start\n",
    "    mouse_38_genes.loc[mouse_38_genes['gene_id'] == i, 'median_end'] = med_end\n",
    "    "
   ]
  },
  {
   "cell_type": "code",
   "execution_count": 328,
   "metadata": {},
   "outputs": [
    {
     "data": {
      "text/html": [
       "<div>\n",
       "<style scoped>\n",
       "    .dataframe tbody tr th:only-of-type {\n",
       "        vertical-align: middle;\n",
       "    }\n",
       "\n",
       "    .dataframe tbody tr th {\n",
       "        vertical-align: top;\n",
       "    }\n",
       "\n",
       "    .dataframe thead th {\n",
       "        text-align: right;\n",
       "    }\n",
       "</style>\n",
       "<table border=\"1\" class=\"dataframe\">\n",
       "  <thead>\n",
       "    <tr style=\"text-align: right;\">\n",
       "      <th></th>\n",
       "      <th>0</th>\n",
       "      <th>1</th>\n",
       "      <th>2</th>\n",
       "      <th>3</th>\n",
       "      <th>4</th>\n",
       "      <th>5</th>\n",
       "      <th>6</th>\n",
       "      <th>7</th>\n",
       "      <th>8</th>\n",
       "      <th>gene_id</th>\n",
       "      <th>gene_biotype</th>\n",
       "      <th>gene_name</th>\n",
       "      <th>transcript_id</th>\n",
       "      <th>length_of_the_longest_tr_coord</th>\n",
       "      <th>median_start</th>\n",
       "      <th>median_end</th>\n",
       "      <th>gene_length</th>\n",
       "      <th>adj_length</th>\n",
       "    </tr>\n",
       "  </thead>\n",
       "  <tbody>\n",
       "    <tr>\n",
       "      <th>6</th>\n",
       "      <td>1</td>\n",
       "      <td>ensembl_havana</td>\n",
       "      <td>gene</td>\n",
       "      <td>3205901</td>\n",
       "      <td>3671498</td>\n",
       "      <td>.</td>\n",
       "      <td>-</td>\n",
       "      <td>.</td>\n",
       "      <td>gene_id \"ENSMUSG00000051951\"; gene_version \"5\"...</td>\n",
       "      <td>ENSMUSG00000051951</td>\n",
       "      <td>protein_coding</td>\n",
       "      <td>Xkr4</td>\n",
       "      <td>NaN</td>\n",
       "      <td>457017.0</td>\n",
       "      <td>3206523.0</td>\n",
       "      <td>3216344.0</td>\n",
       "      <td>465598</td>\n",
       "      <td>9822.0</td>\n",
       "    </tr>\n",
       "    <tr>\n",
       "      <th>74</th>\n",
       "      <td>1</td>\n",
       "      <td>ensembl_havana</td>\n",
       "      <td>gene</td>\n",
       "      <td>4290846</td>\n",
       "      <td>4409241</td>\n",
       "      <td>.</td>\n",
       "      <td>-</td>\n",
       "      <td>.</td>\n",
       "      <td>gene_id \"ENSMUSG00000025900\"; gene_version \"8\"...</td>\n",
       "      <td>ENSMUSG00000025900</td>\n",
       "      <td>protein_coding</td>\n",
       "      <td>Rp1</td>\n",
       "      <td>NaN</td>\n",
       "      <td>118396.0</td>\n",
       "      <td>4317496.0</td>\n",
       "      <td>4384777.5</td>\n",
       "      <td>118396</td>\n",
       "      <td>67282.5</td>\n",
       "    </tr>\n",
       "    <tr>\n",
       "      <th>104</th>\n",
       "      <td>1</td>\n",
       "      <td>ensembl_havana</td>\n",
       "      <td>gene</td>\n",
       "      <td>4490931</td>\n",
       "      <td>4497354</td>\n",
       "      <td>.</td>\n",
       "      <td>-</td>\n",
       "      <td>.</td>\n",
       "      <td>gene_id \"ENSMUSG00000025902\"; gene_version \"11...</td>\n",
       "      <td>ENSMUSG00000025902</td>\n",
       "      <td>protein_coding</td>\n",
       "      <td>Sox17</td>\n",
       "      <td>NaN</td>\n",
       "      <td>5965.0</td>\n",
       "      <td>4492085.0</td>\n",
       "      <td>4496379.5</td>\n",
       "      <td>6424</td>\n",
       "      <td>4295.5</td>\n",
       "    </tr>\n",
       "    <tr>\n",
       "      <th>227</th>\n",
       "      <td>1</td>\n",
       "      <td>ensembl_havana</td>\n",
       "      <td>gene</td>\n",
       "      <td>4773206</td>\n",
       "      <td>4785739</td>\n",
       "      <td>.</td>\n",
       "      <td>-</td>\n",
       "      <td>.</td>\n",
       "      <td>gene_id \"ENSMUSG00000033845\"; gene_version \"11...</td>\n",
       "      <td>ENSMUSG00000033845</td>\n",
       "      <td>protein_coding</td>\n",
       "      <td>Mrpl15</td>\n",
       "      <td>NaN</td>\n",
       "      <td>12529.0</td>\n",
       "      <td>4776377.0</td>\n",
       "      <td>4785710.0</td>\n",
       "      <td>12534</td>\n",
       "      <td>9334.0</td>\n",
       "    </tr>\n",
       "    <tr>\n",
       "      <th>298</th>\n",
       "      <td>1</td>\n",
       "      <td>ensembl_havana</td>\n",
       "      <td>gene</td>\n",
       "      <td>4807788</td>\n",
       "      <td>4848410</td>\n",
       "      <td>.</td>\n",
       "      <td>+</td>\n",
       "      <td>.</td>\n",
       "      <td>gene_id \"ENSMUSG00000025903\"; gene_version \"12...</td>\n",
       "      <td>ENSMUSG00000025903</td>\n",
       "      <td>protein_coding</td>\n",
       "      <td>Lypla1</td>\n",
       "      <td>NaN</td>\n",
       "      <td>40623.0</td>\n",
       "      <td>4807897.0</td>\n",
       "      <td>4844000.5</td>\n",
       "      <td>40623</td>\n",
       "      <td>36104.5</td>\n",
       "    </tr>\n",
       "  </tbody>\n",
       "</table>\n",
       "</div>"
      ],
      "text/plain": [
       "     0               1     2        3        4  5  6  7  \\\n",
       "6    1  ensembl_havana  gene  3205901  3671498  .  -  .   \n",
       "74   1  ensembl_havana  gene  4290846  4409241  .  -  .   \n",
       "104  1  ensembl_havana  gene  4490931  4497354  .  -  .   \n",
       "227  1  ensembl_havana  gene  4773206  4785739  .  -  .   \n",
       "298  1  ensembl_havana  gene  4807788  4848410  .  +  .   \n",
       "\n",
       "                                                     8             gene_id  \\\n",
       "6    gene_id \"ENSMUSG00000051951\"; gene_version \"5\"...  ENSMUSG00000051951   \n",
       "74   gene_id \"ENSMUSG00000025900\"; gene_version \"8\"...  ENSMUSG00000025900   \n",
       "104  gene_id \"ENSMUSG00000025902\"; gene_version \"11...  ENSMUSG00000025902   \n",
       "227  gene_id \"ENSMUSG00000033845\"; gene_version \"11...  ENSMUSG00000033845   \n",
       "298  gene_id \"ENSMUSG00000025903\"; gene_version \"12...  ENSMUSG00000025903   \n",
       "\n",
       "       gene_biotype gene_name transcript_id  length_of_the_longest_tr_coord  \\\n",
       "6    protein_coding      Xkr4           NaN                        457017.0   \n",
       "74   protein_coding       Rp1           NaN                        118396.0   \n",
       "104  protein_coding     Sox17           NaN                          5965.0   \n",
       "227  protein_coding    Mrpl15           NaN                         12529.0   \n",
       "298  protein_coding    Lypla1           NaN                         40623.0   \n",
       "\n",
       "     median_start  median_end  gene_length  adj_length  \n",
       "6       3206523.0   3216344.0       465598      9822.0  \n",
       "74      4317496.0   4384777.5       118396     67282.5  \n",
       "104     4492085.0   4496379.5         6424      4295.5  \n",
       "227     4776377.0   4785710.0        12534      9334.0  \n",
       "298     4807897.0   4844000.5        40623     36104.5  "
      ]
     },
     "execution_count": 328,
     "metadata": {},
     "output_type": "execute_result"
    }
   ],
   "source": [
    "mouse_38_genes.head()"
   ]
  },
  {
   "cell_type": "code",
   "execution_count": 330,
   "metadata": {},
   "outputs": [],
   "source": [
    "mouse_38_genes.loc[:,'gene_length'] = abs(mouse_38_genes.loc[:, 3] - mouse_38_genes.loc[:, 4]) + 1\n",
    "mouse_38_genes.loc[:,'adj_length'] = abs(mouse_38_genes.loc[:, 'median_start'] - mouse_38_genes.loc[:, 'median_end']) + 1"
   ]
  },
  {
   "cell_type": "code",
   "execution_count": null,
   "metadata": {},
   "outputs": [],
   "source": []
  },
  {
   "cell_type": "code",
   "execution_count": null,
   "metadata": {},
   "outputs": [],
   "source": []
  },
  {
   "cell_type": "code",
   "execution_count": 420,
   "metadata": {},
   "outputs": [
    {
     "name": "stderr",
     "output_type": "stream",
     "text": [
      "/home/daria/anaconda3/lib/python3.8/site-packages/IPython/core/interactiveshell.py:3146: DtypeWarning: Columns (0) have mixed types.Specify dtype option on import or set low_memory=False.\n",
      "  has_raised = await self.run_ast_nodes(code_ast.body, cell_name,\n"
     ]
    }
   ],
   "source": [
    "mouse_39_test = pd.read_csv('../ref_genome/mm39/Mus_musculus.GRCm39.103.gtf', skiprows= 5, sep = '\\t', header = None)"
   ]
  },
  {
   "cell_type": "code",
   "execution_count": 421,
   "metadata": {},
   "outputs": [],
   "source": [
    "mouse_39_test['gene_biotype'] = mouse_39_test[8].map(lambda x: re.findall(r'gene_biotype \"(\\w+)\"', x)[0])"
   ]
  },
  {
   "cell_type": "code",
   "execution_count": 422,
   "metadata": {},
   "outputs": [
    {
     "data": {
      "text/html": [
       "<div>\n",
       "<style scoped>\n",
       "    .dataframe tbody tr th:only-of-type {\n",
       "        vertical-align: middle;\n",
       "    }\n",
       "\n",
       "    .dataframe tbody tr th {\n",
       "        vertical-align: top;\n",
       "    }\n",
       "\n",
       "    .dataframe thead th {\n",
       "        text-align: right;\n",
       "    }\n",
       "</style>\n",
       "<table border=\"1\" class=\"dataframe\">\n",
       "  <thead>\n",
       "    <tr style=\"text-align: right;\">\n",
       "      <th></th>\n",
       "      <th>0</th>\n",
       "      <th>1</th>\n",
       "      <th>2</th>\n",
       "      <th>3</th>\n",
       "      <th>4</th>\n",
       "      <th>5</th>\n",
       "      <th>6</th>\n",
       "      <th>7</th>\n",
       "      <th>8</th>\n",
       "      <th>gene_biotype</th>\n",
       "    </tr>\n",
       "  </thead>\n",
       "  <tbody>\n",
       "    <tr>\n",
       "      <th>0</th>\n",
       "      <td>1</td>\n",
       "      <td>havana</td>\n",
       "      <td>gene</td>\n",
       "      <td>3143476</td>\n",
       "      <td>3144545</td>\n",
       "      <td>.</td>\n",
       "      <td>+</td>\n",
       "      <td>.</td>\n",
       "      <td>gene_id \"ENSMUSG00000102693\"; gene_version \"2\"...</td>\n",
       "      <td>TEC</td>\n",
       "    </tr>\n",
       "    <tr>\n",
       "      <th>1</th>\n",
       "      <td>1</td>\n",
       "      <td>havana</td>\n",
       "      <td>transcript</td>\n",
       "      <td>3143476</td>\n",
       "      <td>3144545</td>\n",
       "      <td>.</td>\n",
       "      <td>+</td>\n",
       "      <td>.</td>\n",
       "      <td>gene_id \"ENSMUSG00000102693\"; gene_version \"2\"...</td>\n",
       "      <td>TEC</td>\n",
       "    </tr>\n",
       "    <tr>\n",
       "      <th>2</th>\n",
       "      <td>1</td>\n",
       "      <td>havana</td>\n",
       "      <td>exon</td>\n",
       "      <td>3143476</td>\n",
       "      <td>3144545</td>\n",
       "      <td>.</td>\n",
       "      <td>+</td>\n",
       "      <td>.</td>\n",
       "      <td>gene_id \"ENSMUSG00000102693\"; gene_version \"2\"...</td>\n",
       "      <td>TEC</td>\n",
       "    </tr>\n",
       "    <tr>\n",
       "      <th>3</th>\n",
       "      <td>1</td>\n",
       "      <td>ensembl</td>\n",
       "      <td>gene</td>\n",
       "      <td>3172239</td>\n",
       "      <td>3172348</td>\n",
       "      <td>.</td>\n",
       "      <td>+</td>\n",
       "      <td>.</td>\n",
       "      <td>gene_id \"ENSMUSG00000064842\"; gene_version \"3\"...</td>\n",
       "      <td>snRNA</td>\n",
       "    </tr>\n",
       "    <tr>\n",
       "      <th>4</th>\n",
       "      <td>1</td>\n",
       "      <td>ensembl</td>\n",
       "      <td>transcript</td>\n",
       "      <td>3172239</td>\n",
       "      <td>3172348</td>\n",
       "      <td>.</td>\n",
       "      <td>+</td>\n",
       "      <td>.</td>\n",
       "      <td>gene_id \"ENSMUSG00000064842\"; gene_version \"3\"...</td>\n",
       "      <td>snRNA</td>\n",
       "    </tr>\n",
       "  </tbody>\n",
       "</table>\n",
       "</div>"
      ],
      "text/plain": [
       "   0        1           2        3        4  5  6  7  \\\n",
       "0  1   havana        gene  3143476  3144545  .  +  .   \n",
       "1  1   havana  transcript  3143476  3144545  .  +  .   \n",
       "2  1   havana        exon  3143476  3144545  .  +  .   \n",
       "3  1  ensembl        gene  3172239  3172348  .  +  .   \n",
       "4  1  ensembl  transcript  3172239  3172348  .  +  .   \n",
       "\n",
       "                                                   8 gene_biotype  \n",
       "0  gene_id \"ENSMUSG00000102693\"; gene_version \"2\"...          TEC  \n",
       "1  gene_id \"ENSMUSG00000102693\"; gene_version \"2\"...          TEC  \n",
       "2  gene_id \"ENSMUSG00000102693\"; gene_version \"2\"...          TEC  \n",
       "3  gene_id \"ENSMUSG00000064842\"; gene_version \"3\"...        snRNA  \n",
       "4  gene_id \"ENSMUSG00000064842\"; gene_version \"3\"...        snRNA  "
      ]
     },
     "execution_count": 422,
     "metadata": {},
     "output_type": "execute_result"
    }
   ],
   "source": [
    "mouse_39_test.head()"
   ]
  },
  {
   "cell_type": "code",
   "execution_count": 424,
   "metadata": {},
   "outputs": [
    {
     "data": {
      "text/plain": [
       "(21899, 10)"
      ]
     },
     "execution_count": 424,
     "metadata": {},
     "output_type": "execute_result"
    }
   ],
   "source": [
    "mouse_39_test[(mouse_39_test[2] == 'gene') & (mouse_39_test['gene_biotype'] == 'protein_coding')].shape"
   ]
  },
  {
   "cell_type": "markdown",
   "metadata": {},
   "source": []
  },
  {
   "cell_type": "code",
   "execution_count": 76,
   "metadata": {},
   "outputs": [],
   "source": [
    "mouse_39 = pd.read_csv('../ref_genome/mouse_protein_coding_GRCm39.txt', sep = ',')"
   ]
  },
  {
   "cell_type": "code",
   "execution_count": 82,
   "metadata": {},
   "outputs": [
    {
     "data": {
      "text/html": [
       "<div>\n",
       "<style scoped>\n",
       "    .dataframe tbody tr th:only-of-type {\n",
       "        vertical-align: middle;\n",
       "    }\n",
       "\n",
       "    .dataframe tbody tr th {\n",
       "        vertical-align: top;\n",
       "    }\n",
       "\n",
       "    .dataframe thead th {\n",
       "        text-align: right;\n",
       "    }\n",
       "</style>\n",
       "<table border=\"1\" class=\"dataframe\">\n",
       "  <thead>\n",
       "    <tr style=\"text-align: right;\">\n",
       "      <th></th>\n",
       "      <th>Gene stable ID</th>\n",
       "      <th>Transcript stable ID</th>\n",
       "      <th>Gene start (bp)</th>\n",
       "      <th>Gene end (bp)</th>\n",
       "      <th>Transcript end (bp)</th>\n",
       "      <th>Transcript start (bp)</th>\n",
       "      <th>Transcript length (including UTRs and CDS)</th>\n",
       "      <th>Gene name</th>\n",
       "      <th>Transcript count</th>\n",
       "      <th>length_of_the_longest_tr_coord</th>\n",
       "      <th>longest_tr_len_paper</th>\n",
       "    </tr>\n",
       "  </thead>\n",
       "  <tbody>\n",
       "    <tr>\n",
       "      <th>0</th>\n",
       "      <td>ENSMUSG00000064341</td>\n",
       "      <td>ENSMUST00000082392</td>\n",
       "      <td>2751</td>\n",
       "      <td>3707</td>\n",
       "      <td>3707</td>\n",
       "      <td>2751</td>\n",
       "      <td>957</td>\n",
       "      <td>mt-Nd1</td>\n",
       "      <td>1</td>\n",
       "      <td>957.0</td>\n",
       "      <td>957.0</td>\n",
       "    </tr>\n",
       "    <tr>\n",
       "      <th>1</th>\n",
       "      <td>ENSMUSG00000064345</td>\n",
       "      <td>ENSMUST00000082396</td>\n",
       "      <td>3914</td>\n",
       "      <td>4951</td>\n",
       "      <td>4951</td>\n",
       "      <td>3914</td>\n",
       "      <td>1038</td>\n",
       "      <td>mt-Nd2</td>\n",
       "      <td>1</td>\n",
       "      <td>1038.0</td>\n",
       "      <td>1038.0</td>\n",
       "    </tr>\n",
       "    <tr>\n",
       "      <th>2</th>\n",
       "      <td>ENSMUSG00000064351</td>\n",
       "      <td>ENSMUST00000082402</td>\n",
       "      <td>5328</td>\n",
       "      <td>6872</td>\n",
       "      <td>6872</td>\n",
       "      <td>5328</td>\n",
       "      <td>1545</td>\n",
       "      <td>mt-Co1</td>\n",
       "      <td>1</td>\n",
       "      <td>1545.0</td>\n",
       "      <td>1545.0</td>\n",
       "    </tr>\n",
       "    <tr>\n",
       "      <th>3</th>\n",
       "      <td>ENSMUSG00000064354</td>\n",
       "      <td>ENSMUST00000082405</td>\n",
       "      <td>7013</td>\n",
       "      <td>7696</td>\n",
       "      <td>7696</td>\n",
       "      <td>7013</td>\n",
       "      <td>684</td>\n",
       "      <td>mt-Co2</td>\n",
       "      <td>1</td>\n",
       "      <td>684.0</td>\n",
       "      <td>684.0</td>\n",
       "    </tr>\n",
       "    <tr>\n",
       "      <th>4</th>\n",
       "      <td>ENSMUSG00000064356</td>\n",
       "      <td>ENSMUST00000082407</td>\n",
       "      <td>7766</td>\n",
       "      <td>7969</td>\n",
       "      <td>7969</td>\n",
       "      <td>7766</td>\n",
       "      <td>204</td>\n",
       "      <td>mt-Atp8</td>\n",
       "      <td>1</td>\n",
       "      <td>204.0</td>\n",
       "      <td>204.0</td>\n",
       "    </tr>\n",
       "  </tbody>\n",
       "</table>\n",
       "</div>"
      ],
      "text/plain": [
       "       Gene stable ID Transcript stable ID  Gene start (bp)  Gene end (bp)  \\\n",
       "0  ENSMUSG00000064341   ENSMUST00000082392             2751           3707   \n",
       "1  ENSMUSG00000064345   ENSMUST00000082396             3914           4951   \n",
       "2  ENSMUSG00000064351   ENSMUST00000082402             5328           6872   \n",
       "3  ENSMUSG00000064354   ENSMUST00000082405             7013           7696   \n",
       "4  ENSMUSG00000064356   ENSMUST00000082407             7766           7969   \n",
       "\n",
       "   Transcript end (bp)  Transcript start (bp)  \\\n",
       "0                 3707                   2751   \n",
       "1                 4951                   3914   \n",
       "2                 6872                   5328   \n",
       "3                 7696                   7013   \n",
       "4                 7969                   7766   \n",
       "\n",
       "   Transcript length (including UTRs and CDS) Gene name  Transcript count  \\\n",
       "0                                         957    mt-Nd1                 1   \n",
       "1                                        1038    mt-Nd2                 1   \n",
       "2                                        1545    mt-Co1                 1   \n",
       "3                                         684    mt-Co2                 1   \n",
       "4                                         204   mt-Atp8                 1   \n",
       "\n",
       "   length_of_the_longest_tr_coord  longest_tr_len_paper  \n",
       "0                           957.0                 957.0  \n",
       "1                          1038.0                1038.0  \n",
       "2                          1545.0                1545.0  \n",
       "3                           684.0                 684.0  \n",
       "4                           204.0                 204.0  "
      ]
     },
     "execution_count": 82,
     "metadata": {},
     "output_type": "execute_result"
    }
   ],
   "source": [
    "mouse_39.head()"
   ]
  },
  {
   "cell_type": "code",
   "execution_count": 146,
   "metadata": {},
   "outputs": [
    {
     "name": "stderr",
     "output_type": "stream",
     "text": [
      "100%|██████████| 21885/21885 [05:55<00:00, 61.54it/s]\n"
     ]
    }
   ],
   "source": [
    "for i in tqdm(mouse_39['Gene stable ID'].unique()):\n",
    "    mouse_39.loc[mouse_39['Gene stable ID'] == i, 'length_of_the_longest_tr_coord'] = (abs(mouse_39.loc[mouse_39['Gene stable ID'] == i, 'Transcript end (bp)'] - mouse_39.loc[mouse_39['Gene stable ID'] == i, 'Transcript start (bp)']) + 1).max()\n",
    "#    mouse_39.loc[mouse_39['Gene stable ID'] == i, 'longest_tr_len_paper'] = mouse_39[mouse_39['Gene stable ID'] == i]['Transcript length (including UTRs and CDS)'].max()"
   ]
  },
  {
   "cell_type": "code",
   "execution_count": 144,
   "metadata": {},
   "outputs": [
    {
     "name": "stderr",
     "output_type": "stream",
     "text": [
      "100%|██████████| 21885/21885 [06:04<00:00, 60.08it/s]\n"
     ]
    }
   ],
   "source": [
    "for i in tqdm(mouse_39['Gene stable ID'].unique()):\n",
    "    tr_df = mouse_39[mouse_39['Gene stable ID'] == i].copy()\n",
    "    med_start = tr_df['Transcript start (bp)'].median()\n",
    "    med_end = tr_df['Transcript end (bp)'].median()\n",
    "    mouse_39.loc[mouse_39['Gene stable ID'] == i, 'median_start'] = med_start\n",
    "    mouse_39.loc[mouse_39['Gene stable ID'] == i, 'median_end'] = med_end"
   ]
  },
  {
   "cell_type": "code",
   "execution_count": 353,
   "metadata": {},
   "outputs": [
    {
     "data": {
      "text/html": [
       "<div>\n",
       "<style scoped>\n",
       "    .dataframe tbody tr th:only-of-type {\n",
       "        vertical-align: middle;\n",
       "    }\n",
       "\n",
       "    .dataframe tbody tr th {\n",
       "        vertical-align: top;\n",
       "    }\n",
       "\n",
       "    .dataframe thead th {\n",
       "        text-align: right;\n",
       "    }\n",
       "</style>\n",
       "<table border=\"1\" class=\"dataframe\">\n",
       "  <thead>\n",
       "    <tr style=\"text-align: right;\">\n",
       "      <th></th>\n",
       "      <th>Gene name</th>\n",
       "      <th>Gene stable ID</th>\n",
       "      <th>length_of_the_longest_tr_coord</th>\n",
       "      <th>Gene start (bp)</th>\n",
       "      <th>Gene end (bp)</th>\n",
       "      <th>median_start</th>\n",
       "      <th>median_end</th>\n",
       "      <th>Gene_length</th>\n",
       "      <th>Adjusted_gene_length</th>\n",
       "    </tr>\n",
       "  </thead>\n",
       "  <tbody>\n",
       "    <tr>\n",
       "      <th>0</th>\n",
       "      <td>mt-Nd1</td>\n",
       "      <td>ENSMUSG00000064341</td>\n",
       "      <td>957.0</td>\n",
       "      <td>2751</td>\n",
       "      <td>3707</td>\n",
       "      <td>2751.0</td>\n",
       "      <td>3707.0</td>\n",
       "      <td>957</td>\n",
       "      <td>957.0</td>\n",
       "    </tr>\n",
       "    <tr>\n",
       "      <th>1</th>\n",
       "      <td>mt-Nd2</td>\n",
       "      <td>ENSMUSG00000064345</td>\n",
       "      <td>1038.0</td>\n",
       "      <td>3914</td>\n",
       "      <td>4951</td>\n",
       "      <td>3914.0</td>\n",
       "      <td>4951.0</td>\n",
       "      <td>1038</td>\n",
       "      <td>1038.0</td>\n",
       "    </tr>\n",
       "    <tr>\n",
       "      <th>2</th>\n",
       "      <td>mt-Co1</td>\n",
       "      <td>ENSMUSG00000064351</td>\n",
       "      <td>1545.0</td>\n",
       "      <td>5328</td>\n",
       "      <td>6872</td>\n",
       "      <td>5328.0</td>\n",
       "      <td>6872.0</td>\n",
       "      <td>1545</td>\n",
       "      <td>1545.0</td>\n",
       "    </tr>\n",
       "    <tr>\n",
       "      <th>3</th>\n",
       "      <td>mt-Co2</td>\n",
       "      <td>ENSMUSG00000064354</td>\n",
       "      <td>684.0</td>\n",
       "      <td>7013</td>\n",
       "      <td>7696</td>\n",
       "      <td>7013.0</td>\n",
       "      <td>7696.0</td>\n",
       "      <td>684</td>\n",
       "      <td>684.0</td>\n",
       "    </tr>\n",
       "    <tr>\n",
       "      <th>4</th>\n",
       "      <td>mt-Atp8</td>\n",
       "      <td>ENSMUSG00000064356</td>\n",
       "      <td>204.0</td>\n",
       "      <td>7766</td>\n",
       "      <td>7969</td>\n",
       "      <td>7766.0</td>\n",
       "      <td>7969.0</td>\n",
       "      <td>204</td>\n",
       "      <td>204.0</td>\n",
       "    </tr>\n",
       "  </tbody>\n",
       "</table>\n",
       "</div>"
      ],
      "text/plain": [
       "  Gene name      Gene stable ID  length_of_the_longest_tr_coord  \\\n",
       "0    mt-Nd1  ENSMUSG00000064341                           957.0   \n",
       "1    mt-Nd2  ENSMUSG00000064345                          1038.0   \n",
       "2    mt-Co1  ENSMUSG00000064351                          1545.0   \n",
       "3    mt-Co2  ENSMUSG00000064354                           684.0   \n",
       "4   mt-Atp8  ENSMUSG00000064356                           204.0   \n",
       "\n",
       "   Gene start (bp)  Gene end (bp)  median_start  median_end  Gene_length  \\\n",
       "0             2751           3707        2751.0      3707.0          957   \n",
       "1             3914           4951        3914.0      4951.0         1038   \n",
       "2             5328           6872        5328.0      6872.0         1545   \n",
       "3             7013           7696        7013.0      7696.0          684   \n",
       "4             7766           7969        7766.0      7969.0          204   \n",
       "\n",
       "   Adjusted_gene_length  \n",
       "0                 957.0  \n",
       "1                1038.0  \n",
       "2                1545.0  \n",
       "3                 684.0  \n",
       "4                 204.0  "
      ]
     },
     "execution_count": 353,
     "metadata": {},
     "output_type": "execute_result"
    }
   ],
   "source": [
    "mouse_39_genes = mouse_39[['Gene name', 'Gene stable ID', 'length_of_the_longest_tr_coord', 'Gene start (bp)', 'Gene end (bp)', 'median_start', 'median_end']].drop_duplicates()\n",
    "mouse_39_genes[\"Gene_length\"] = abs(mouse_39_genes[\"Gene start (bp)\"] - mouse_39_genes[\"Gene end (bp)\"]) + 1\n",
    "mouse_39_genes[\"Adjusted_gene_length\"] = abs(mouse_39_genes[\"median_start\"] - mouse_39_genes[\"median_end\"]) + 1\n",
    "mouse_39_genes.head()"
   ]
  },
  {
   "cell_type": "code",
   "execution_count": 431,
   "metadata": {},
   "outputs": [
    {
     "data": {
      "text/html": [
       "<div>\n",
       "<style scoped>\n",
       "    .dataframe tbody tr th:only-of-type {\n",
       "        vertical-align: middle;\n",
       "    }\n",
       "\n",
       "    .dataframe tbody tr th {\n",
       "        vertical-align: top;\n",
       "    }\n",
       "\n",
       "    .dataframe thead th {\n",
       "        text-align: right;\n",
       "    }\n",
       "</style>\n",
       "<table border=\"1\" class=\"dataframe\">\n",
       "  <thead>\n",
       "    <tr style=\"text-align: right;\">\n",
       "      <th></th>\n",
       "      <th>Gene stable ID</th>\n",
       "      <th>Transcript stable ID</th>\n",
       "      <th>Gene start (bp)</th>\n",
       "      <th>Gene end (bp)</th>\n",
       "      <th>Transcript end (bp)</th>\n",
       "      <th>Transcript start (bp)</th>\n",
       "      <th>Transcript length (including UTRs and CDS)</th>\n",
       "      <th>Gene name</th>\n",
       "      <th>Transcript count</th>\n",
       "      <th>length_of_the_longest_tr_coord</th>\n",
       "      <th>longest_tr_len_paper</th>\n",
       "      <th>median_start</th>\n",
       "      <th>median_end</th>\n",
       "    </tr>\n",
       "  </thead>\n",
       "  <tbody>\n",
       "    <tr>\n",
       "      <th>10194</th>\n",
       "      <td>ENSMUSG00000020053</td>\n",
       "      <td>ENSMUST00000122386</td>\n",
       "      <td>87694127</td>\n",
       "      <td>87772904</td>\n",
       "      <td>87766757</td>\n",
       "      <td>87694127</td>\n",
       "      <td>1391</td>\n",
       "      <td>Igf1</td>\n",
       "      <td>8</td>\n",
       "      <td>77975.0</td>\n",
       "      <td>7052.0</td>\n",
       "      <td>87695412.5</td>\n",
       "      <td>87766756.0</td>\n",
       "    </tr>\n",
       "    <tr>\n",
       "      <th>10195</th>\n",
       "      <td>ENSMUSG00000020053</td>\n",
       "      <td>ENSMUST00000095360</td>\n",
       "      <td>87694127</td>\n",
       "      <td>87772904</td>\n",
       "      <td>87772904</td>\n",
       "      <td>87694930</td>\n",
       "      <td>7052</td>\n",
       "      <td>Igf1</td>\n",
       "      <td>8</td>\n",
       "      <td>77975.0</td>\n",
       "      <td>7052.0</td>\n",
       "      <td>87695412.5</td>\n",
       "      <td>87766756.0</td>\n",
       "    </tr>\n",
       "    <tr>\n",
       "      <th>10196</th>\n",
       "      <td>ENSMUSG00000020053</td>\n",
       "      <td>ENSMUST00000105300</td>\n",
       "      <td>87694127</td>\n",
       "      <td>87772904</td>\n",
       "      <td>87767663</td>\n",
       "      <td>87695120</td>\n",
       "      <td>1673</td>\n",
       "      <td>Igf1</td>\n",
       "      <td>8</td>\n",
       "      <td>77975.0</td>\n",
       "      <td>7052.0</td>\n",
       "      <td>87695412.5</td>\n",
       "      <td>87766756.0</td>\n",
       "    </tr>\n",
       "    <tr>\n",
       "      <th>10197</th>\n",
       "      <td>ENSMUSG00000020053</td>\n",
       "      <td>ENSMUST00000121952</td>\n",
       "      <td>87694127</td>\n",
       "      <td>87772904</td>\n",
       "      <td>87766755</td>\n",
       "      <td>87695352</td>\n",
       "      <td>798</td>\n",
       "      <td>Igf1</td>\n",
       "      <td>8</td>\n",
       "      <td>77975.0</td>\n",
       "      <td>7052.0</td>\n",
       "      <td>87695412.5</td>\n",
       "      <td>87766756.0</td>\n",
       "    </tr>\n",
       "    <tr>\n",
       "      <th>10198</th>\n",
       "      <td>ENSMUSG00000020053</td>\n",
       "      <td>ENSMUST00000126490</td>\n",
       "      <td>87694127</td>\n",
       "      <td>87772904</td>\n",
       "      <td>87751211</td>\n",
       "      <td>87695473</td>\n",
       "      <td>510</td>\n",
       "      <td>Igf1</td>\n",
       "      <td>8</td>\n",
       "      <td>77975.0</td>\n",
       "      <td>7052.0</td>\n",
       "      <td>87695412.5</td>\n",
       "      <td>87766756.0</td>\n",
       "    </tr>\n",
       "    <tr>\n",
       "      <th>10199</th>\n",
       "      <td>ENSMUSG00000020053</td>\n",
       "      <td>ENSMUST00000062862</td>\n",
       "      <td>87694127</td>\n",
       "      <td>87772904</td>\n",
       "      <td>87751756</td>\n",
       "      <td>87695892</td>\n",
       "      <td>2292</td>\n",
       "      <td>Igf1</td>\n",
       "      <td>8</td>\n",
       "      <td>77975.0</td>\n",
       "      <td>7052.0</td>\n",
       "      <td>87695412.5</td>\n",
       "      <td>87766756.0</td>\n",
       "    </tr>\n",
       "    <tr>\n",
       "      <th>10200</th>\n",
       "      <td>ENSMUSG00000020053</td>\n",
       "      <td>ENSMUST00000121161</td>\n",
       "      <td>87694127</td>\n",
       "      <td>87772904</td>\n",
       "      <td>87766761</td>\n",
       "      <td>87696468</td>\n",
       "      <td>1344</td>\n",
       "      <td>Igf1</td>\n",
       "      <td>8</td>\n",
       "      <td>77975.0</td>\n",
       "      <td>7052.0</td>\n",
       "      <td>87695412.5</td>\n",
       "      <td>87766756.0</td>\n",
       "    </tr>\n",
       "    <tr>\n",
       "      <th>10201</th>\n",
       "      <td>ENSMUSG00000020053</td>\n",
       "      <td>ENSMUST00000122100</td>\n",
       "      <td>87694127</td>\n",
       "      <td>87772904</td>\n",
       "      <td>87766739</td>\n",
       "      <td>87697191</td>\n",
       "      <td>651</td>\n",
       "      <td>Igf1</td>\n",
       "      <td>8</td>\n",
       "      <td>77975.0</td>\n",
       "      <td>7052.0</td>\n",
       "      <td>87695412.5</td>\n",
       "      <td>87766756.0</td>\n",
       "    </tr>\n",
       "  </tbody>\n",
       "</table>\n",
       "</div>"
      ],
      "text/plain": [
       "           Gene stable ID Transcript stable ID  Gene start (bp)  \\\n",
       "10194  ENSMUSG00000020053   ENSMUST00000122386         87694127   \n",
       "10195  ENSMUSG00000020053   ENSMUST00000095360         87694127   \n",
       "10196  ENSMUSG00000020053   ENSMUST00000105300         87694127   \n",
       "10197  ENSMUSG00000020053   ENSMUST00000121952         87694127   \n",
       "10198  ENSMUSG00000020053   ENSMUST00000126490         87694127   \n",
       "10199  ENSMUSG00000020053   ENSMUST00000062862         87694127   \n",
       "10200  ENSMUSG00000020053   ENSMUST00000121161         87694127   \n",
       "10201  ENSMUSG00000020053   ENSMUST00000122100         87694127   \n",
       "\n",
       "       Gene end (bp)  Transcript end (bp)  Transcript start (bp)  \\\n",
       "10194       87772904             87766757               87694127   \n",
       "10195       87772904             87772904               87694930   \n",
       "10196       87772904             87767663               87695120   \n",
       "10197       87772904             87766755               87695352   \n",
       "10198       87772904             87751211               87695473   \n",
       "10199       87772904             87751756               87695892   \n",
       "10200       87772904             87766761               87696468   \n",
       "10201       87772904             87766739               87697191   \n",
       "\n",
       "       Transcript length (including UTRs and CDS) Gene name  Transcript count  \\\n",
       "10194                                        1391      Igf1                 8   \n",
       "10195                                        7052      Igf1                 8   \n",
       "10196                                        1673      Igf1                 8   \n",
       "10197                                         798      Igf1                 8   \n",
       "10198                                         510      Igf1                 8   \n",
       "10199                                        2292      Igf1                 8   \n",
       "10200                                        1344      Igf1                 8   \n",
       "10201                                         651      Igf1                 8   \n",
       "\n",
       "       length_of_the_longest_tr_coord  longest_tr_len_paper  median_start  \\\n",
       "10194                         77975.0                7052.0    87695412.5   \n",
       "10195                         77975.0                7052.0    87695412.5   \n",
       "10196                         77975.0                7052.0    87695412.5   \n",
       "10197                         77975.0                7052.0    87695412.5   \n",
       "10198                         77975.0                7052.0    87695412.5   \n",
       "10199                         77975.0                7052.0    87695412.5   \n",
       "10200                         77975.0                7052.0    87695412.5   \n",
       "10201                         77975.0                7052.0    87695412.5   \n",
       "\n",
       "       median_end  \n",
       "10194  87766756.0  \n",
       "10195  87766756.0  \n",
       "10196  87766756.0  \n",
       "10197  87766756.0  \n",
       "10198  87766756.0  \n",
       "10199  87766756.0  \n",
       "10200  87766756.0  \n",
       "10201  87766756.0  "
      ]
     },
     "execution_count": 431,
     "metadata": {},
     "output_type": "execute_result"
    }
   ],
   "source": [
    "mouse_39[mouse_39['Gene name'] == 'Igf1']"
   ]
  },
  {
   "cell_type": "code",
   "execution_count": 434,
   "metadata": {},
   "outputs": [],
   "source": [
    "df = mouse_39_genes[['Gene name', 'Gene_length', 'length_of_the_longest_tr_coord', 'Adjusted_gene_length']]"
   ]
  },
  {
   "cell_type": "code",
   "execution_count": 435,
   "metadata": {},
   "outputs": [
    {
     "data": {
      "text/plain": [
       "(21885, 4)"
      ]
     },
     "execution_count": 435,
     "metadata": {},
     "output_type": "execute_result"
    }
   ],
   "source": [
    "df.shape"
   ]
  },
  {
   "cell_type": "code",
   "execution_count": 436,
   "metadata": {},
   "outputs": [
    {
     "data": {
      "text/html": [
       "<div>\n",
       "<style scoped>\n",
       "    .dataframe tbody tr th:only-of-type {\n",
       "        vertical-align: middle;\n",
       "    }\n",
       "\n",
       "    .dataframe tbody tr th {\n",
       "        vertical-align: top;\n",
       "    }\n",
       "\n",
       "    .dataframe thead th {\n",
       "        text-align: right;\n",
       "    }\n",
       "</style>\n",
       "<table border=\"1\" class=\"dataframe\">\n",
       "  <thead>\n",
       "    <tr style=\"text-align: right;\">\n",
       "      <th></th>\n",
       "      <th>Gene name</th>\n",
       "      <th>Gene_length</th>\n",
       "      <th>length_of_the_longest_tr_coord</th>\n",
       "      <th>Adjusted_gene_length</th>\n",
       "    </tr>\n",
       "  </thead>\n",
       "  <tbody>\n",
       "    <tr>\n",
       "      <th>7782</th>\n",
       "      <td>Galnt2l</td>\n",
       "      <td>4434882</td>\n",
       "      <td>4434882.0</td>\n",
       "      <td>4434882.0</td>\n",
       "    </tr>\n",
       "    <tr>\n",
       "      <th>17358</th>\n",
       "      <td>Fgfr2</td>\n",
       "      <td>2960899</td>\n",
       "      <td>2960899.0</td>\n",
       "      <td>97899.0</td>\n",
       "    </tr>\n",
       "    <tr>\n",
       "      <th>8246</th>\n",
       "      <td>Ptprd</td>\n",
       "      <td>2270724</td>\n",
       "      <td>2072514.0</td>\n",
       "      <td>241968.0</td>\n",
       "    </tr>\n",
       "    <tr>\n",
       "      <th>10843</th>\n",
       "      <td>Dmd</td>\n",
       "      <td>2257272</td>\n",
       "      <td>2257239.0</td>\n",
       "      <td>371701.0</td>\n",
       "    </tr>\n",
       "    <tr>\n",
       "      <th>2858</th>\n",
       "      <td>Cntnap2</td>\n",
       "      <td>2244857</td>\n",
       "      <td>2244153.0</td>\n",
       "      <td>589928.5</td>\n",
       "    </tr>\n",
       "  </tbody>\n",
       "</table>\n",
       "</div>"
      ],
      "text/plain": [
       "      Gene name  Gene_length  length_of_the_longest_tr_coord  \\\n",
       "7782    Galnt2l      4434882                       4434882.0   \n",
       "17358     Fgfr2      2960899                       2960899.0   \n",
       "8246      Ptprd      2270724                       2072514.0   \n",
       "10843       Dmd      2257272                       2257239.0   \n",
       "2858    Cntnap2      2244857                       2244153.0   \n",
       "\n",
       "       Adjusted_gene_length  \n",
       "7782              4434882.0  \n",
       "17358               97899.0  \n",
       "8246               241968.0  \n",
       "10843              371701.0  \n",
       "2858               589928.5  "
      ]
     },
     "execution_count": 436,
     "metadata": {},
     "output_type": "execute_result"
    }
   ],
   "source": [
    "df.reset_index(drop=True).sort_values('Gene_length', ascending=False).head()"
   ]
  },
  {
   "cell_type": "code",
   "execution_count": 437,
   "metadata": {},
   "outputs": [
    {
     "data": {
      "text/html": [
       "<div>\n",
       "<style scoped>\n",
       "    .dataframe tbody tr th:only-of-type {\n",
       "        vertical-align: middle;\n",
       "    }\n",
       "\n",
       "    .dataframe tbody tr th {\n",
       "        vertical-align: top;\n",
       "    }\n",
       "\n",
       "    .dataframe thead th {\n",
       "        text-align: right;\n",
       "    }\n",
       "</style>\n",
       "<table border=\"1\" class=\"dataframe\">\n",
       "  <thead>\n",
       "    <tr style=\"text-align: right;\">\n",
       "      <th></th>\n",
       "      <th>Gene name</th>\n",
       "      <th>Gene_length</th>\n",
       "      <th>length_of_the_longest_tr_coord</th>\n",
       "      <th>Adjusted_gene_length</th>\n",
       "    </tr>\n",
       "  </thead>\n",
       "  <tbody>\n",
       "    <tr>\n",
       "      <th>10194</th>\n",
       "      <td>Igf1</td>\n",
       "      <td>78778</td>\n",
       "      <td>77975.0</td>\n",
       "      <td>71344.5</td>\n",
       "    </tr>\n",
       "  </tbody>\n",
       "</table>\n",
       "</div>"
      ],
      "text/plain": [
       "      Gene name  Gene_length  length_of_the_longest_tr_coord  \\\n",
       "10194      Igf1        78778                         77975.0   \n",
       "\n",
       "       Adjusted_gene_length  \n",
       "10194               71344.5  "
      ]
     },
     "execution_count": 437,
     "metadata": {},
     "output_type": "execute_result"
    }
   ],
   "source": [
    "df[df['Gene name'] == 'Igf1']"
   ]
  },
  {
   "cell_type": "code",
   "execution_count": null,
   "metadata": {},
   "outputs": [],
   "source": []
  },
  {
   "cell_type": "code",
   "execution_count": 198,
   "metadata": {},
   "outputs": [
    {
     "data": {
      "text/html": [
       "<div>\n",
       "<style scoped>\n",
       "    .dataframe tbody tr th:only-of-type {\n",
       "        vertical-align: middle;\n",
       "    }\n",
       "\n",
       "    .dataframe tbody tr th {\n",
       "        vertical-align: top;\n",
       "    }\n",
       "\n",
       "    .dataframe thead th {\n",
       "        text-align: right;\n",
       "    }\n",
       "</style>\n",
       "<table border=\"1\" class=\"dataframe\">\n",
       "  <thead>\n",
       "    <tr style=\"text-align: right;\">\n",
       "      <th></th>\n",
       "      <th>length_of_the_longest_tr_coord</th>\n",
       "      <th>Gene_length</th>\n",
       "      <th>Adjusted_gene_length</th>\n",
       "    </tr>\n",
       "  </thead>\n",
       "  <tbody>\n",
       "    <tr>\n",
       "      <th>length_of_the_longest_tr_coord</th>\n",
       "      <td>1.000000</td>\n",
       "      <td>0.997565</td>\n",
       "      <td>0.875145</td>\n",
       "    </tr>\n",
       "    <tr>\n",
       "      <th>Gene_length</th>\n",
       "      <td>0.997565</td>\n",
       "      <td>1.000000</td>\n",
       "      <td>0.869849</td>\n",
       "    </tr>\n",
       "    <tr>\n",
       "      <th>Adjusted_gene_length</th>\n",
       "      <td>0.875145</td>\n",
       "      <td>0.869849</td>\n",
       "      <td>1.000000</td>\n",
       "    </tr>\n",
       "  </tbody>\n",
       "</table>\n",
       "</div>"
      ],
      "text/plain": [
       "                                length_of_the_longest_tr_coord  Gene_length  \\\n",
       "length_of_the_longest_tr_coord                        1.000000     0.997565   \n",
       "Gene_length                                           0.997565     1.000000   \n",
       "Adjusted_gene_length                                  0.875145     0.869849   \n",
       "\n",
       "                                Adjusted_gene_length  \n",
       "length_of_the_longest_tr_coord              0.875145  \n",
       "Gene_length                                 0.869849  \n",
       "Adjusted_gene_length                        1.000000  "
      ]
     },
     "execution_count": 198,
     "metadata": {},
     "output_type": "execute_result"
    }
   ],
   "source": [
    "df.corr()"
   ]
  },
  {
   "cell_type": "code",
   "execution_count": 249,
   "metadata": {},
   "outputs": [
    {
     "data": {
      "text/plain": [
       "Text(0.5, 1.0, 'Correlation Heatmap, GRCm39')"
      ]
     },
     "execution_count": 249,
     "metadata": {},
     "output_type": "execute_result"
    },
    {
     "data": {
      "image/png": "[encoded data removed]",
      "text/plain": [
       "<Figure size 432x288 with 2 Axes>"
      ]
     },
     "metadata": {
      "needs_background": "light"
     },
     "output_type": "display_data"
    }
   ],
   "source": [
    "df.rename(columns={\"length_of_the_longest_tr_coord\": \"Longest Transcript\",\n",
    "                   \"Gene_length\": \"Length (from Ensembl)\",\n",
    "                  \"Adjusted_gene_length\": \"Adjusted Gene Length\"}, inplace = True)\n",
    "\n",
    "\n",
    "heatmap = sns.heatmap(df.corr(), vmin=0.8, vmax=1, annot=True, cmap='magma', fmt='.3g')\n",
    "heatmap.set_title('Correlation Heatmap, GRCm39', fontdict={'fontsize':18}, pad=16)"
   ]
  },
  {
   "cell_type": "code",
   "execution_count": 257,
   "metadata": {},
   "outputs": [
    {
     "data": {
      "text/html": [
       "<div>\n",
       "<style scoped>\n",
       "    .dataframe tbody tr th:only-of-type {\n",
       "        vertical-align: middle;\n",
       "    }\n",
       "\n",
       "    .dataframe tbody tr th {\n",
       "        vertical-align: top;\n",
       "    }\n",
       "\n",
       "    .dataframe thead th {\n",
       "        text-align: right;\n",
       "    }\n",
       "</style>\n",
       "<table border=\"1\" class=\"dataframe\">\n",
       "  <thead>\n",
       "    <tr style=\"text-align: right;\">\n",
       "      <th></th>\n",
       "      <th>Gene name</th>\n",
       "      <th>Longest Transcript</th>\n",
       "      <th>Length (from Ensembl)</th>\n",
       "      <th>Adjusted Gene Length</th>\n",
       "    </tr>\n",
       "  </thead>\n",
       "  <tbody>\n",
       "    <tr>\n",
       "      <th>0</th>\n",
       "      <td>mt-Nd1</td>\n",
       "      <td>957.0</td>\n",
       "      <td>957</td>\n",
       "      <td>957.0</td>\n",
       "    </tr>\n",
       "    <tr>\n",
       "      <th>1</th>\n",
       "      <td>mt-Nd2</td>\n",
       "      <td>1038.0</td>\n",
       "      <td>1038</td>\n",
       "      <td>1038.0</td>\n",
       "    </tr>\n",
       "    <tr>\n",
       "      <th>2</th>\n",
       "      <td>mt-Co1</td>\n",
       "      <td>1545.0</td>\n",
       "      <td>1545</td>\n",
       "      <td>1545.0</td>\n",
       "    </tr>\n",
       "    <tr>\n",
       "      <th>3</th>\n",
       "      <td>mt-Co2</td>\n",
       "      <td>684.0</td>\n",
       "      <td>684</td>\n",
       "      <td>684.0</td>\n",
       "    </tr>\n",
       "    <tr>\n",
       "      <th>4</th>\n",
       "      <td>mt-Atp8</td>\n",
       "      <td>204.0</td>\n",
       "      <td>204</td>\n",
       "      <td>204.0</td>\n",
       "    </tr>\n",
       "    <tr>\n",
       "      <th>...</th>\n",
       "      <td>...</td>\n",
       "      <td>...</td>\n",
       "      <td>...</td>\n",
       "      <td>...</td>\n",
       "    </tr>\n",
       "    <tr>\n",
       "      <th>21880</th>\n",
       "      <td>Tmc2</td>\n",
       "      <td>69252.0</td>\n",
       "      <td>69252</td>\n",
       "      <td>68463.5</td>\n",
       "    </tr>\n",
       "    <tr>\n",
       "      <th>21881</th>\n",
       "      <td>Nop56</td>\n",
       "      <td>4884.0</td>\n",
       "      <td>4884</td>\n",
       "      <td>1989.0</td>\n",
       "    </tr>\n",
       "    <tr>\n",
       "      <th>21882</th>\n",
       "      <td>Idh3b</td>\n",
       "      <td>5239.0</td>\n",
       "      <td>5239</td>\n",
       "      <td>5118.0</td>\n",
       "    </tr>\n",
       "    <tr>\n",
       "      <th>21883</th>\n",
       "      <td>Raly</td>\n",
       "      <td>76152.0</td>\n",
       "      <td>76166</td>\n",
       "      <td>72798.5</td>\n",
       "    </tr>\n",
       "    <tr>\n",
       "      <th>21884</th>\n",
       "      <td>Eif2s2</td>\n",
       "      <td>21526.0</td>\n",
       "      <td>21526</td>\n",
       "      <td>8466.0</td>\n",
       "    </tr>\n",
       "  </tbody>\n",
       "</table>\n",
       "<p>21885 rows × 4 columns</p>\n",
       "</div>"
      ],
      "text/plain": [
       "      Gene name  Longest Transcript  Length (from Ensembl)  \\\n",
       "0        mt-Nd1               957.0                    957   \n",
       "1        mt-Nd2              1038.0                   1038   \n",
       "2        mt-Co1              1545.0                   1545   \n",
       "3        mt-Co2               684.0                    684   \n",
       "4       mt-Atp8               204.0                    204   \n",
       "...         ...                 ...                    ...   \n",
       "21880      Tmc2             69252.0                  69252   \n",
       "21881     Nop56              4884.0                   4884   \n",
       "21882     Idh3b              5239.0                   5239   \n",
       "21883      Raly             76152.0                  76166   \n",
       "21884    Eif2s2             21526.0                  21526   \n",
       "\n",
       "       Adjusted Gene Length  \n",
       "0                     957.0  \n",
       "1                    1038.0  \n",
       "2                    1545.0  \n",
       "3                     684.0  \n",
       "4                     204.0  \n",
       "...                     ...  \n",
       "21880               68463.5  \n",
       "21881                1989.0  \n",
       "21882                5118.0  \n",
       "21883               72798.5  \n",
       "21884                8466.0  \n",
       "\n",
       "[21885 rows x 4 columns]"
      ]
     },
     "execution_count": 257,
     "metadata": {},
     "output_type": "execute_result"
    }
   ],
   "source": [
    "df.reset_index(drop = True)"
   ]
  },
  {
   "cell_type": "code",
   "execution_count": null,
   "metadata": {},
   "outputs": [],
   "source": []
  },
  {
   "cell_type": "code",
   "execution_count": 199,
   "metadata": {},
   "outputs": [],
   "source": [
    "mouse_39_genes['difference'] = mouse_39_genes.Gene_length - mouse_39_genes.length_of_the_longest_tr_coord"
   ]
  },
  {
   "cell_type": "code",
   "execution_count": 200,
   "metadata": {},
   "outputs": [
    {
     "data": {
      "text/plain": [
       "(6673, 9)"
      ]
     },
     "execution_count": 200,
     "metadata": {},
     "output_type": "execute_result"
    }
   ],
   "source": [
    "mouse_39_genes[mouse_39_genes.difference != 0].sort_values('difference', ascending=False).shape"
   ]
  },
  {
   "cell_type": "code",
   "execution_count": 201,
   "metadata": {},
   "outputs": [
    {
     "data": {
      "text/plain": [
       "count     21885.000000\n",
       "mean        803.553073\n",
       "std        8258.520181\n",
       "min           0.000000\n",
       "25%           0.000000\n",
       "50%           0.000000\n",
       "75%           6.000000\n",
       "max      478093.000000\n",
       "dtype: float64"
      ]
     },
     "execution_count": 201,
     "metadata": {},
     "output_type": "execute_result"
    }
   ],
   "source": [
    "(mouse_39_genes.Gene_length - mouse_39_genes.length_of_the_longest_tr_coord).describe()"
   ]
  },
  {
   "cell_type": "code",
   "execution_count": null,
   "metadata": {},
   "outputs": [],
   "source": []
  },
  {
   "cell_type": "code",
   "execution_count": 331,
   "metadata": {},
   "outputs": [
    {
     "data": {
      "text/html": [
       "<div>\n",
       "<style scoped>\n",
       "    .dataframe tbody tr th:only-of-type {\n",
       "        vertical-align: middle;\n",
       "    }\n",
       "\n",
       "    .dataframe tbody tr th {\n",
       "        vertical-align: top;\n",
       "    }\n",
       "\n",
       "    .dataframe thead th {\n",
       "        text-align: right;\n",
       "    }\n",
       "</style>\n",
       "<table border=\"1\" class=\"dataframe\">\n",
       "  <thead>\n",
       "    <tr style=\"text-align: right;\">\n",
       "      <th></th>\n",
       "      <th>Gene name</th>\n",
       "      <th>length_of_the_longest_tr_coord</th>\n",
       "      <th>Gene start (bp)</th>\n",
       "      <th>Gene end (bp)</th>\n",
       "      <th>median_start</th>\n",
       "      <th>median_end</th>\n",
       "      <th>Gene_length</th>\n",
       "      <th>Adjusted_gene_length</th>\n",
       "      <th>difference</th>\n",
       "    </tr>\n",
       "  </thead>\n",
       "  <tbody>\n",
       "    <tr>\n",
       "      <th>0</th>\n",
       "      <td>mt-Nd1</td>\n",
       "      <td>957.0</td>\n",
       "      <td>2751</td>\n",
       "      <td>3707</td>\n",
       "      <td>2751.0</td>\n",
       "      <td>3707.0</td>\n",
       "      <td>957</td>\n",
       "      <td>957.0</td>\n",
       "      <td>0.0</td>\n",
       "    </tr>\n",
       "    <tr>\n",
       "      <th>1</th>\n",
       "      <td>mt-Nd2</td>\n",
       "      <td>1038.0</td>\n",
       "      <td>3914</td>\n",
       "      <td>4951</td>\n",
       "      <td>3914.0</td>\n",
       "      <td>4951.0</td>\n",
       "      <td>1038</td>\n",
       "      <td>1038.0</td>\n",
       "      <td>0.0</td>\n",
       "    </tr>\n",
       "    <tr>\n",
       "      <th>2</th>\n",
       "      <td>mt-Co1</td>\n",
       "      <td>1545.0</td>\n",
       "      <td>5328</td>\n",
       "      <td>6872</td>\n",
       "      <td>5328.0</td>\n",
       "      <td>6872.0</td>\n",
       "      <td>1545</td>\n",
       "      <td>1545.0</td>\n",
       "      <td>0.0</td>\n",
       "    </tr>\n",
       "    <tr>\n",
       "      <th>3</th>\n",
       "      <td>mt-Co2</td>\n",
       "      <td>684.0</td>\n",
       "      <td>7013</td>\n",
       "      <td>7696</td>\n",
       "      <td>7013.0</td>\n",
       "      <td>7696.0</td>\n",
       "      <td>684</td>\n",
       "      <td>684.0</td>\n",
       "      <td>0.0</td>\n",
       "    </tr>\n",
       "    <tr>\n",
       "      <th>4</th>\n",
       "      <td>mt-Atp8</td>\n",
       "      <td>204.0</td>\n",
       "      <td>7766</td>\n",
       "      <td>7969</td>\n",
       "      <td>7766.0</td>\n",
       "      <td>7969.0</td>\n",
       "      <td>204</td>\n",
       "      <td>204.0</td>\n",
       "      <td>0.0</td>\n",
       "    </tr>\n",
       "  </tbody>\n",
       "</table>\n",
       "</div>"
      ],
      "text/plain": [
       "  Gene name  length_of_the_longest_tr_coord  Gene start (bp)  Gene end (bp)  \\\n",
       "0    mt-Nd1                           957.0             2751           3707   \n",
       "1    mt-Nd2                          1038.0             3914           4951   \n",
       "2    mt-Co1                          1545.0             5328           6872   \n",
       "3    mt-Co2                           684.0             7013           7696   \n",
       "4   mt-Atp8                           204.0             7766           7969   \n",
       "\n",
       "   median_start  median_end  Gene_length  Adjusted_gene_length  difference  \n",
       "0        2751.0      3707.0          957                 957.0         0.0  \n",
       "1        3914.0      4951.0         1038                1038.0         0.0  \n",
       "2        5328.0      6872.0         1545                1545.0         0.0  \n",
       "3        7013.0      7696.0          684                 684.0         0.0  \n",
       "4        7766.0      7969.0          204                 204.0         0.0  "
      ]
     },
     "execution_count": 331,
     "metadata": {},
     "output_type": "execute_result"
    }
   ],
   "source": [
    "mouse_39_genes.head()"
   ]
  },
  {
   "cell_type": "code",
   "execution_count": 332,
   "metadata": {},
   "outputs": [
    {
     "data": {
      "text/html": [
       "<div>\n",
       "<style scoped>\n",
       "    .dataframe tbody tr th:only-of-type {\n",
       "        vertical-align: middle;\n",
       "    }\n",
       "\n",
       "    .dataframe tbody tr th {\n",
       "        vertical-align: top;\n",
       "    }\n",
       "\n",
       "    .dataframe thead th {\n",
       "        text-align: right;\n",
       "    }\n",
       "</style>\n",
       "<table border=\"1\" class=\"dataframe\">\n",
       "  <thead>\n",
       "    <tr style=\"text-align: right;\">\n",
       "      <th></th>\n",
       "      <th>0</th>\n",
       "      <th>1</th>\n",
       "      <th>2</th>\n",
       "      <th>3</th>\n",
       "      <th>4</th>\n",
       "      <th>5</th>\n",
       "      <th>6</th>\n",
       "      <th>7</th>\n",
       "      <th>8</th>\n",
       "      <th>gene_id</th>\n",
       "      <th>gene_biotype</th>\n",
       "      <th>gene_name</th>\n",
       "      <th>transcript_id</th>\n",
       "      <th>length_of_the_longest_tr_coord</th>\n",
       "      <th>median_start</th>\n",
       "      <th>median_end</th>\n",
       "      <th>gene_length</th>\n",
       "      <th>adj_length</th>\n",
       "    </tr>\n",
       "  </thead>\n",
       "  <tbody>\n",
       "    <tr>\n",
       "      <th>6</th>\n",
       "      <td>1</td>\n",
       "      <td>ensembl_havana</td>\n",
       "      <td>gene</td>\n",
       "      <td>3205901</td>\n",
       "      <td>3671498</td>\n",
       "      <td>.</td>\n",
       "      <td>-</td>\n",
       "      <td>.</td>\n",
       "      <td>gene_id \"ENSMUSG00000051951\"; gene_version \"5\"...</td>\n",
       "      <td>ENSMUSG00000051951</td>\n",
       "      <td>protein_coding</td>\n",
       "      <td>Xkr4</td>\n",
       "      <td>NaN</td>\n",
       "      <td>457017.0</td>\n",
       "      <td>3206523.0</td>\n",
       "      <td>3216344.0</td>\n",
       "      <td>465598</td>\n",
       "      <td>9822.0</td>\n",
       "    </tr>\n",
       "    <tr>\n",
       "      <th>74</th>\n",
       "      <td>1</td>\n",
       "      <td>ensembl_havana</td>\n",
       "      <td>gene</td>\n",
       "      <td>4290846</td>\n",
       "      <td>4409241</td>\n",
       "      <td>.</td>\n",
       "      <td>-</td>\n",
       "      <td>.</td>\n",
       "      <td>gene_id \"ENSMUSG00000025900\"; gene_version \"8\"...</td>\n",
       "      <td>ENSMUSG00000025900</td>\n",
       "      <td>protein_coding</td>\n",
       "      <td>Rp1</td>\n",
       "      <td>NaN</td>\n",
       "      <td>118396.0</td>\n",
       "      <td>4317496.0</td>\n",
       "      <td>4384777.5</td>\n",
       "      <td>118396</td>\n",
       "      <td>67282.5</td>\n",
       "    </tr>\n",
       "    <tr>\n",
       "      <th>104</th>\n",
       "      <td>1</td>\n",
       "      <td>ensembl_havana</td>\n",
       "      <td>gene</td>\n",
       "      <td>4490931</td>\n",
       "      <td>4497354</td>\n",
       "      <td>.</td>\n",
       "      <td>-</td>\n",
       "      <td>.</td>\n",
       "      <td>gene_id \"ENSMUSG00000025902\"; gene_version \"11...</td>\n",
       "      <td>ENSMUSG00000025902</td>\n",
       "      <td>protein_coding</td>\n",
       "      <td>Sox17</td>\n",
       "      <td>NaN</td>\n",
       "      <td>5965.0</td>\n",
       "      <td>4492085.0</td>\n",
       "      <td>4496379.5</td>\n",
       "      <td>6424</td>\n",
       "      <td>4295.5</td>\n",
       "    </tr>\n",
       "    <tr>\n",
       "      <th>227</th>\n",
       "      <td>1</td>\n",
       "      <td>ensembl_havana</td>\n",
       "      <td>gene</td>\n",
       "      <td>4773206</td>\n",
       "      <td>4785739</td>\n",
       "      <td>.</td>\n",
       "      <td>-</td>\n",
       "      <td>.</td>\n",
       "      <td>gene_id \"ENSMUSG00000033845\"; gene_version \"11...</td>\n",
       "      <td>ENSMUSG00000033845</td>\n",
       "      <td>protein_coding</td>\n",
       "      <td>Mrpl15</td>\n",
       "      <td>NaN</td>\n",
       "      <td>12529.0</td>\n",
       "      <td>4776377.0</td>\n",
       "      <td>4785710.0</td>\n",
       "      <td>12534</td>\n",
       "      <td>9334.0</td>\n",
       "    </tr>\n",
       "    <tr>\n",
       "      <th>298</th>\n",
       "      <td>1</td>\n",
       "      <td>ensembl_havana</td>\n",
       "      <td>gene</td>\n",
       "      <td>4807788</td>\n",
       "      <td>4848410</td>\n",
       "      <td>.</td>\n",
       "      <td>+</td>\n",
       "      <td>.</td>\n",
       "      <td>gene_id \"ENSMUSG00000025903\"; gene_version \"12...</td>\n",
       "      <td>ENSMUSG00000025903</td>\n",
       "      <td>protein_coding</td>\n",
       "      <td>Lypla1</td>\n",
       "      <td>NaN</td>\n",
       "      <td>40623.0</td>\n",
       "      <td>4807897.0</td>\n",
       "      <td>4844000.5</td>\n",
       "      <td>40623</td>\n",
       "      <td>36104.5</td>\n",
       "    </tr>\n",
       "  </tbody>\n",
       "</table>\n",
       "</div>"
      ],
      "text/plain": [
       "     0               1     2        3        4  5  6  7  \\\n",
       "6    1  ensembl_havana  gene  3205901  3671498  .  -  .   \n",
       "74   1  ensembl_havana  gene  4290846  4409241  .  -  .   \n",
       "104  1  ensembl_havana  gene  4490931  4497354  .  -  .   \n",
       "227  1  ensembl_havana  gene  4773206  4785739  .  -  .   \n",
       "298  1  ensembl_havana  gene  4807788  4848410  .  +  .   \n",
       "\n",
       "                                                     8             gene_id  \\\n",
       "6    gene_id \"ENSMUSG00000051951\"; gene_version \"5\"...  ENSMUSG00000051951   \n",
       "74   gene_id \"ENSMUSG00000025900\"; gene_version \"8\"...  ENSMUSG00000025900   \n",
       "104  gene_id \"ENSMUSG00000025902\"; gene_version \"11...  ENSMUSG00000025902   \n",
       "227  gene_id \"ENSMUSG00000033845\"; gene_version \"11...  ENSMUSG00000033845   \n",
       "298  gene_id \"ENSMUSG00000025903\"; gene_version \"12...  ENSMUSG00000025903   \n",
       "\n",
       "       gene_biotype gene_name transcript_id  length_of_the_longest_tr_coord  \\\n",
       "6    protein_coding      Xkr4           NaN                        457017.0   \n",
       "74   protein_coding       Rp1           NaN                        118396.0   \n",
       "104  protein_coding     Sox17           NaN                          5965.0   \n",
       "227  protein_coding    Mrpl15           NaN                         12529.0   \n",
       "298  protein_coding    Lypla1           NaN                         40623.0   \n",
       "\n",
       "     median_start  median_end  gene_length  adj_length  \n",
       "6       3206523.0   3216344.0       465598      9822.0  \n",
       "74      4317496.0   4384777.5       118396     67282.5  \n",
       "104     4492085.0   4496379.5         6424      4295.5  \n",
       "227     4776377.0   4785710.0        12534      9334.0  \n",
       "298     4807897.0   4844000.5        40623     36104.5  "
      ]
     },
     "execution_count": 332,
     "metadata": {},
     "output_type": "execute_result"
    }
   ],
   "source": [
    "mouse_38_genes.head()"
   ]
  },
  {
   "cell_type": "code",
   "execution_count": 354,
   "metadata": {},
   "outputs": [],
   "source": [
    "m39_genes_new = mouse_39_genes[~mouse_39_genes['Gene stable ID'].isin(mouse_38_genes['gene_id'].values)]"
   ]
  },
  {
   "cell_type": "code",
   "execution_count": 469,
   "metadata": {},
   "outputs": [
    {
     "data": {
      "text/plain": [
       "(636, 9)"
      ]
     },
     "execution_count": 469,
     "metadata": {},
     "output_type": "execute_result"
    }
   ],
   "source": [
    "m39_genes_new.shape"
   ]
  },
  {
   "cell_type": "code",
   "execution_count": 478,
   "metadata": {},
   "outputs": [],
   "source": [
    "with open(\"../ref_genome/m39_new_genes.txt\", \"w\") as txt_file:\n",
    "    for line in m39_genes_new['Gene name'].unique():\n",
    "        txt_file.write(str(line) + \"\\n\")"
   ]
  },
  {
   "cell_type": "code",
   "execution_count": 468,
   "metadata": {},
   "outputs": [
    {
     "data": {
      "text/plain": [
       "621"
      ]
     },
     "execution_count": 468,
     "metadata": {},
     "output_type": "execute_result"
    }
   ],
   "source": [
    "len(m39_genes_new['Gene name'].unique())"
   ]
  },
  {
   "cell_type": "code",
   "execution_count": 460,
   "metadata": {},
   "outputs": [],
   "source": [
    "m38_genes_deprecated = mouse_38_genes[~mouse_38_genes['gene_id'].isin(mouse_39_genes['Gene stable ID'].values)]"
   ]
  },
  {
   "cell_type": "code",
   "execution_count": 465,
   "metadata": {},
   "outputs": [
    {
     "data": {
      "text/plain": [
       "(910, 18)"
      ]
     },
     "execution_count": 465,
     "metadata": {},
     "output_type": "execute_result"
    }
   ],
   "source": [
    "m38_genes_deprecated.shape"
   ]
  },
  {
   "cell_type": "code",
   "execution_count": 495,
   "metadata": {},
   "outputs": [],
   "source": [
    "with open(\"../ref_genome/m38_genes_deprecated.txt\", \"w\") as txt_file:\n",
    "    for line in m38_genes_deprecated['gene_name'].unique():\n",
    "        txt_file.write(str(line) + \"\\n\")"
   ]
  },
  {
   "cell_type": "code",
   "execution_count": 464,
   "metadata": {},
   "outputs": [
    {
     "data": {
      "text/plain": [
       "900"
      ]
     },
     "execution_count": 464,
     "metadata": {},
     "output_type": "execute_result"
    }
   ],
   "source": [
    "len(m38_genes_deprecated.gene_name.unique())"
   ]
  },
  {
   "cell_type": "code",
   "execution_count": 471,
   "metadata": {},
   "outputs": [
    {
     "data": {
      "text/plain": [
       "Text(0.5, 1.0, 'Protein-coding genes in GRCm39 and GRCm38')"
      ]
     },
     "execution_count": 471,
     "metadata": {},
     "output_type": "execute_result"
    },
    {
     "data": {
      "image/png": "[encoded data removed]",
      "text/plain": [
       "<Figure size 432x288 with 1 Axes>"
      ]
     },
     "metadata": {},
     "output_type": "display_data"
    }
   ],
   "source": [
    "venn2([set(mouse_39_genes['Gene stable ID'].unique()), \n",
    "       set(mouse_38_genes['gene_id'].unique())], \n",
    "      set_labels = ('GRCm39', 'GRCm38'))\n",
    "plt.title(\"Protein-coding genes in GRCm39 and GRCm38\")"
   ]
  },
  {
   "cell_type": "code",
   "execution_count": 491,
   "metadata": {},
   "outputs": [],
   "source": [
    "m39_new_genes_geo_up = pd.read_csv('../ref_genome/Aging_Perturbations_from_GEO_up_m39_new_genes.txt', sep = '\\t')\n",
    "m39_new_genes_geo_down = pd.read_csv('../ref_genome/Aging_Perturbations_from_GEO_down_m39_new_genes.txt', sep = '\\t')"
   ]
  },
  {
   "cell_type": "code",
   "execution_count": 483,
   "metadata": {},
   "outputs": [
    {
     "data": {
      "text/html": [
       "<div>\n",
       "<style scoped>\n",
       "    .dataframe tbody tr th:only-of-type {\n",
       "        vertical-align: middle;\n",
       "    }\n",
       "\n",
       "    .dataframe tbody tr th {\n",
       "        vertical-align: top;\n",
       "    }\n",
       "\n",
       "    .dataframe thead th {\n",
       "        text-align: right;\n",
       "    }\n",
       "</style>\n",
       "<table border=\"1\" class=\"dataframe\">\n",
       "  <thead>\n",
       "    <tr style=\"text-align: right;\">\n",
       "      <th></th>\n",
       "      <th>Term</th>\n",
       "      <th>Overlap</th>\n",
       "      <th>P-value</th>\n",
       "      <th>Adjusted P-value</th>\n",
       "      <th>Old P-value</th>\n",
       "      <th>Old Adjusted P-value</th>\n",
       "      <th>Odds Ratio</th>\n",
       "      <th>Combined Score</th>\n",
       "      <th>Genes</th>\n",
       "    </tr>\n",
       "  </thead>\n",
       "  <tbody>\n",
       "    <tr>\n",
       "      <th>0</th>\n",
       "      <td>Mouse spleen 4 months vs 9 months GSE13148 agi...</td>\n",
       "      <td>3/134</td>\n",
       "      <td>0.790064</td>\n",
       "      <td>0.999996</td>\n",
       "      <td>0</td>\n",
       "      <td>0</td>\n",
       "      <td>0.713259</td>\n",
       "      <td>0.168073</td>\n",
       "      <td>4930563E22RIK;EPPK1;1700014B07RIK</td>\n",
       "    </tr>\n",
       "  </tbody>\n",
       "</table>\n",
       "</div>"
      ],
      "text/plain": [
       "                                                Term Overlap   P-value  \\\n",
       "0  Mouse spleen 4 months vs 9 months GSE13148 agi...   3/134  0.790064   \n",
       "\n",
       "   Adjusted P-value  Old P-value  Old Adjusted P-value  Odds Ratio  \\\n",
       "0          0.999996            0                     0    0.713259   \n",
       "\n",
       "   Combined Score                              Genes  \n",
       "0        0.168073  4930563E22RIK;EPPK1;1700014B07RIK  "
      ]
     },
     "execution_count": 483,
     "metadata": {},
     "output_type": "execute_result"
    }
   ],
   "source": [
    "m39_new_genes_geo_up.head(1)"
   ]
  },
  {
   "cell_type": "code",
   "execution_count": 485,
   "metadata": {},
   "outputs": [],
   "source": [
    "m39_new_genes_geo_up_arr = m39_new_genes_geo_up.Genes.unique()"
   ]
  },
  {
   "cell_type": "code",
   "execution_count": 508,
   "metadata": {},
   "outputs": [],
   "source": [
    "new_ageing = []\n",
    "for i in m39_new_genes_geo_up_arr:\n",
    "    tmp = i.split(';')\n",
    "    for j in tmp:\n",
    "        if j not in new_ageing:\n",
    "            new_ageing.append(j)\n",
    "            \n",
    "for i in m39_new_genes_geo_down.Genes.unique():\n",
    "    tmp = i.split(';')\n",
    "    for j in tmp:\n",
    "        if j not in new_ageing:\n",
    "            new_ageing.append(j)"
   ]
  },
  {
   "cell_type": "code",
   "execution_count": 493,
   "metadata": {},
   "outputs": [
    {
     "data": {
      "text/plain": [
       "109"
      ]
     },
     "execution_count": 493,
     "metadata": {},
     "output_type": "execute_result"
    }
   ],
   "source": [
    "len(new_ageing)"
   ]
  },
  {
   "cell_type": "code",
   "execution_count": 496,
   "metadata": {},
   "outputs": [],
   "source": [
    "m38_deprecated_geo_up = pd.read_csv('../ref_genome/Aging_Perturbations_from_GEO_up_m38_deprecated.txt', sep = '\\t')\n",
    "m38_deprecated_geo_down = pd.read_csv('../ref_genome/Aging_Perturbations_from_GEO_down_m38_deprecated.txt', sep = '\\t')"
   ]
  },
  {
   "cell_type": "code",
   "execution_count": 509,
   "metadata": {},
   "outputs": [],
   "source": [
    "deprecated_ageing = []\n",
    "for i in m38_deprecated_geo_up.Genes.unique():\n",
    "    tmp = i.split(';')\n",
    "    for j in tmp:\n",
    "        if j not in deprecated_ageing:\n",
    "            deprecated_ageing.append(j)\n",
    "            \n",
    "for i in m38_deprecated_geo_down.Genes.unique():\n",
    "    tmp = i.split(';')\n",
    "    for j in tmp:\n",
    "        if j not in deprecated_ageing:\n",
    "            deprecated_ageing.append(j)"
   ]
  },
  {
   "cell_type": "code",
   "execution_count": 510,
   "metadata": {},
   "outputs": [
    {
     "data": {
      "text/plain": [
       "218"
      ]
     },
     "execution_count": 510,
     "metadata": {},
     "output_type": "execute_result"
    }
   ],
   "source": [
    "len(deprecated_ageing)"
   ]
  },
  {
   "cell_type": "code",
   "execution_count": 511,
   "metadata": {},
   "outputs": [],
   "source": [
    "genage = pd.read_csv('../data/genage_models.csv')"
   ]
  },
  {
   "cell_type": "code",
   "execution_count": 513,
   "metadata": {},
   "outputs": [
    {
     "data": {
      "text/plain": [
       "array(['Caenorhabditis elegans', 'Mus musculus',\n",
       "       'Saccharomyces cerevisiae', 'Drosophila melanogaster',\n",
       "       'Mesocricetus auratus', 'Podospora anserina',\n",
       "       'Schizosaccharomyces pombe', 'Danio rerio',\n",
       "       'Caenorhabditis briggsae'], dtype=object)"
      ]
     },
     "execution_count": 513,
     "metadata": {},
     "output_type": "execute_result"
    }
   ],
   "source": [
    "genage.organism.unique()"
   ]
  },
  {
   "cell_type": "code",
   "execution_count": 515,
   "metadata": {},
   "outputs": [],
   "source": [
    "genage = genage[genage.organism == 'Mus musculus']"
   ]
  },
  {
   "cell_type": "code",
   "execution_count": 521,
   "metadata": {},
   "outputs": [
    {
     "data": {
      "text/html": [
       "<div>\n",
       "<style scoped>\n",
       "    .dataframe tbody tr th:only-of-type {\n",
       "        vertical-align: middle;\n",
       "    }\n",
       "\n",
       "    .dataframe tbody tr th {\n",
       "        vertical-align: top;\n",
       "    }\n",
       "\n",
       "    .dataframe thead th {\n",
       "        text-align: right;\n",
       "    }\n",
       "</style>\n",
       "<table border=\"1\" class=\"dataframe\">\n",
       "  <thead>\n",
       "    <tr style=\"text-align: right;\">\n",
       "      <th></th>\n",
       "      <th>GenAge ID</th>\n",
       "      <th>symbol</th>\n",
       "      <th>name</th>\n",
       "      <th>organism</th>\n",
       "      <th>entrez gene id</th>\n",
       "      <th>avg lifespan change (max obsv)</th>\n",
       "      <th>lifespan effect</th>\n",
       "      <th>longevity influence</th>\n",
       "    </tr>\n",
       "  </thead>\n",
       "  <tbody>\n",
       "  </tbody>\n",
       "</table>\n",
       "</div>"
      ],
      "text/plain": [
       "Empty DataFrame\n",
       "Columns: [GenAge ID, symbol, name, organism, entrez gene id, avg lifespan change (max obsv), lifespan effect, longevity influence]\n",
       "Index: []"
      ]
     },
     "execution_count": 521,
     "metadata": {},
     "output_type": "execute_result"
    }
   ],
   "source": [
    "genage[genage['symbol'].isin(m38_genes_deprecated.gene_name.unique())]"
   ]
  },
  {
   "cell_type": "code",
   "execution_count": null,
   "metadata": {},
   "outputs": [],
   "source": []
  },
  {
   "cell_type": "code",
   "execution_count": null,
   "metadata": {},
   "outputs": [],
   "source": []
  },
  {
   "cell_type": "code",
   "execution_count": 507,
   "metadata": {},
   "outputs": [
    {
     "data": {
      "image/png": "[encoded data removed]",
      "text/plain": [
       "<Figure size 504x288 with 1 Axes>"
      ]
     },
     "metadata": {
      "needs_background": "light"
     },
     "output_type": "display_data"
    },
    {
     "name": "stdout",
     "output_type": "stream",
     "text": [
      "number of protein-coding genes in GRCm38: 22159\n",
      "number of protein-coding genes in GRCm39: 21885\n",
      "number of novel protein-coding genes in GRCm39: 636\n",
      "number of deprecated protein-coding genes in GRCm38: 910\n"
     ]
    }
   ],
   "source": [
    "plt.figure(figsize=(7, 4))\n",
    "bp = plt.boxplot([mouse_38_genes.length_of_the_longest_tr_coord, mouse_39_genes.length_of_the_longest_tr_coord,\n",
    "                 m39_genes_new.length_of_the_longest_tr_coord,\n",
    "                 m38_genes_deprecated.length_of_the_longest_tr_coord], showfliers=False, showmeans=True)\n",
    "plt.xticks([1, 2, 3, 4], ['GRCm38', 'GRCm39',\n",
    "                               'novel GRCm39', 'deprecated GRCm38'])\n",
    "plt.title('Gene length of protein-coding genes')\n",
    "plt.show()\n",
    "print('number of protein-coding genes in GRCm38: %d' %(mouse_38_genes.shape[0]))\n",
    "#print('    of which the number of havana genes: %d' %(m38[(m38[2] == 'gene') & (m38[1] == 'havana')].shape[0]))\n",
    "print('number of protein-coding genes in GRCm39: %d' %(mouse_39_genes.shape[0]))\n",
    "#print('    of which the number of havana genes: %d' %(m39[(m39[2] == 'gene') & (m39[1] == 'havana')].shape[0]))\n",
    "print('number of novel protein-coding genes in GRCm39: %d' %(m39_genes_new.shape[0]))\n",
    "print('number of deprecated protein-coding genes in GRCm38: %d' %(m38_genes_deprecated.shape[0]))"
   ]
  },
  {
   "cell_type": "code",
   "execution_count": 362,
   "metadata": {},
   "outputs": [
    {
     "data": {
      "image/png": "[encoded data removed]",
      "text/plain": [
       "<Figure size 1008x360 with 1 Axes>"
      ]
     },
     "metadata": {
      "needs_background": "light"
     },
     "output_type": "display_data"
    },
    {
     "name": "stdout",
     "output_type": "stream",
     "text": [
      "number of genes in GRCm38: 22159\n",
      "number of genes in GRCm39: 21885\n",
      "number of novel genes in GRCm39: 636\n"
     ]
    }
   ],
   "source": [
    "plt.figure(figsize=(14, 5))\n",
    "bp = plt.boxplot([mouse_38_genes.length_of_the_longest_tr_coord, mouse_39_genes.length_of_the_longest_tr_coord,\n",
    "                  mouse_38_genes.adj_length, mouse_39_genes.Adjusted_gene_length,\n",
    "                 m39_genes_new.length_of_the_longest_tr_coord, m39_genes_new.Adjusted_gene_length], showfliers=False, showmeans=True)\n",
    "plt.xticks([1, 2, 3, 4, 5, 6], ['GRCm38 longest tr', 'GRCm39 longest tr', 'GRCm38 adj length', 'GRCm39 adj length',\n",
    "                               'GRCm39 novel longest tr', 'GRCm39 novel adj length'])\n",
    "plt.title('Gene length of protein-coding genes')\n",
    "plt.show()\n",
    "print('number of genes in GRCm38: %d' %(mouse_38_genes.shape[0]))\n",
    "#print('    of which the number of havana genes: %d' %(m38[(m38[2] == 'gene') & (m38[1] == 'havana')].shape[0]))\n",
    "print('number of genes in GRCm39: %d' %(mouse_39_genes.shape[0]))\n",
    "#print('    of which the number of havana genes: %d' %(m39[(m39[2] == 'gene') & (m39[1] == 'havana')].shape[0]))\n",
    "print('number of novel genes in GRCm39: %d' %(m39_genes_new.shape[0]))"
   ]
  },
  {
   "cell_type": "code",
   "execution_count": 350,
   "metadata": {},
   "outputs": [
    {
     "name": "stdout",
     "output_type": "stream",
     "text": [
      "6.012813061983195e-18\n"
     ]
    }
   ],
   "source": [
    "stat, p = scipy.stats.mannwhitneyu(mouse_38_genes.length_of_the_longest_tr_coord,\n",
    "                                   mouse_39_genes.length_of_the_longest_tr_coord, alternative='two-sided')\n",
    "print(p)"
   ]
  },
  {
   "cell_type": "code",
   "execution_count": 363,
   "metadata": {},
   "outputs": [
    {
     "name": "stdout",
     "output_type": "stream",
     "text": [
      "3.885909546073743e-05\n"
     ]
    }
   ],
   "source": [
    "stat, p = scipy.stats.mannwhitneyu(mouse_38_genes.adj_length, \n",
    "                                   mouse_39_genes.Adjusted_gene_length, alternative='two-sided')\n",
    "print(p)"
   ]
  },
  {
   "cell_type": "code",
   "execution_count": 364,
   "metadata": {},
   "outputs": [
    {
     "name": "stdout",
     "output_type": "stream",
     "text": [
      "0.03836243970509103\n"
     ]
    }
   ],
   "source": [
    "stat, p = scipy.stats.mannwhitneyu(m39_genes_new.length_of_the_longest_tr_coord, \n",
    "                                   m39_genes_new.Adjusted_gene_length, alternative='two-sided')\n",
    "print(p)"
   ]
  },
  {
   "cell_type": "code",
   "execution_count": 356,
   "metadata": {},
   "outputs": [
    {
     "data": {
      "text/plain": [
       "(636, 9)"
      ]
     },
     "execution_count": 356,
     "metadata": {},
     "output_type": "execute_result"
    }
   ],
   "source": [
    "m39_genes_new.shape"
   ]
  },
  {
   "cell_type": "code",
   "execution_count": 368,
   "metadata": {},
   "outputs": [],
   "source": [
    "m39_genes_new[['Gene name']].to_csv('../ref_genome/novel_protein_coding_in_m39.csv')"
   ]
  },
  {
   "cell_type": "code",
   "execution_count": null,
   "metadata": {},
   "outputs": [],
   "source": []
  },
  {
   "cell_type": "code",
   "execution_count": 92,
   "metadata": {},
   "outputs": [],
   "source": [
    "human = pd.read_csv('../ref_genome/hg_protein_coding_GRCh38.p13.txt', sep = ',')"
   ]
  },
  {
   "cell_type": "code",
   "execution_count": 95,
   "metadata": {},
   "outputs": [
    {
     "data": {
      "text/html": [
       "<div>\n",
       "<style scoped>\n",
       "    .dataframe tbody tr th:only-of-type {\n",
       "        vertical-align: middle;\n",
       "    }\n",
       "\n",
       "    .dataframe tbody tr th {\n",
       "        vertical-align: top;\n",
       "    }\n",
       "\n",
       "    .dataframe thead th {\n",
       "        text-align: right;\n",
       "    }\n",
       "</style>\n",
       "<table border=\"1\" class=\"dataframe\">\n",
       "  <thead>\n",
       "    <tr style=\"text-align: right;\">\n",
       "      <th></th>\n",
       "      <th>Gene stable ID</th>\n",
       "      <th>Transcript stable ID</th>\n",
       "      <th>Gene start (bp)</th>\n",
       "      <th>Gene end (bp)</th>\n",
       "      <th>Transcript start (bp)</th>\n",
       "      <th>Transcript end (bp)</th>\n",
       "      <th>Transcript length (including UTRs and CDS)</th>\n",
       "      <th>Gene name</th>\n",
       "      <th>Gene type</th>\n",
       "      <th>Transcript count</th>\n",
       "      <th>length_of_the_longest_tr_coord</th>\n",
       "      <th>longest_tr_len_paper</th>\n",
       "    </tr>\n",
       "  </thead>\n",
       "  <tbody>\n",
       "    <tr>\n",
       "      <th>0</th>\n",
       "      <td>ENSG00000198888</td>\n",
       "      <td>ENST00000361390</td>\n",
       "      <td>3307</td>\n",
       "      <td>4262</td>\n",
       "      <td>3307</td>\n",
       "      <td>4262</td>\n",
       "      <td>956</td>\n",
       "      <td>MT-ND1</td>\n",
       "      <td>protein_coding</td>\n",
       "      <td>1</td>\n",
       "      <td>956.0</td>\n",
       "      <td>956.0</td>\n",
       "    </tr>\n",
       "    <tr>\n",
       "      <th>1</th>\n",
       "      <td>ENSG00000198763</td>\n",
       "      <td>ENST00000361453</td>\n",
       "      <td>4470</td>\n",
       "      <td>5511</td>\n",
       "      <td>4470</td>\n",
       "      <td>5511</td>\n",
       "      <td>1042</td>\n",
       "      <td>MT-ND2</td>\n",
       "      <td>protein_coding</td>\n",
       "      <td>1</td>\n",
       "      <td>1042.0</td>\n",
       "      <td>1042.0</td>\n",
       "    </tr>\n",
       "    <tr>\n",
       "      <th>2</th>\n",
       "      <td>ENSG00000198804</td>\n",
       "      <td>ENST00000361624</td>\n",
       "      <td>5904</td>\n",
       "      <td>7445</td>\n",
       "      <td>5904</td>\n",
       "      <td>7445</td>\n",
       "      <td>1542</td>\n",
       "      <td>MT-CO1</td>\n",
       "      <td>protein_coding</td>\n",
       "      <td>1</td>\n",
       "      <td>1542.0</td>\n",
       "      <td>1542.0</td>\n",
       "    </tr>\n",
       "    <tr>\n",
       "      <th>3</th>\n",
       "      <td>ENSG00000198712</td>\n",
       "      <td>ENST00000361739</td>\n",
       "      <td>7586</td>\n",
       "      <td>8269</td>\n",
       "      <td>7586</td>\n",
       "      <td>8269</td>\n",
       "      <td>684</td>\n",
       "      <td>MT-CO2</td>\n",
       "      <td>protein_coding</td>\n",
       "      <td>1</td>\n",
       "      <td>684.0</td>\n",
       "      <td>684.0</td>\n",
       "    </tr>\n",
       "    <tr>\n",
       "      <th>4</th>\n",
       "      <td>ENSG00000228253</td>\n",
       "      <td>ENST00000361851</td>\n",
       "      <td>8366</td>\n",
       "      <td>8572</td>\n",
       "      <td>8366</td>\n",
       "      <td>8572</td>\n",
       "      <td>207</td>\n",
       "      <td>MT-ATP8</td>\n",
       "      <td>protein_coding</td>\n",
       "      <td>1</td>\n",
       "      <td>207.0</td>\n",
       "      <td>207.0</td>\n",
       "    </tr>\n",
       "  </tbody>\n",
       "</table>\n",
       "</div>"
      ],
      "text/plain": [
       "    Gene stable ID Transcript stable ID  Gene start (bp)  Gene end (bp)  \\\n",
       "0  ENSG00000198888      ENST00000361390             3307           4262   \n",
       "1  ENSG00000198763      ENST00000361453             4470           5511   \n",
       "2  ENSG00000198804      ENST00000361624             5904           7445   \n",
       "3  ENSG00000198712      ENST00000361739             7586           8269   \n",
       "4  ENSG00000228253      ENST00000361851             8366           8572   \n",
       "\n",
       "   Transcript start (bp)  Transcript end (bp)  \\\n",
       "0                   3307                 4262   \n",
       "1                   4470                 5511   \n",
       "2                   5904                 7445   \n",
       "3                   7586                 8269   \n",
       "4                   8366                 8572   \n",
       "\n",
       "   Transcript length (including UTRs and CDS) Gene name       Gene type  \\\n",
       "0                                         956    MT-ND1  protein_coding   \n",
       "1                                        1042    MT-ND2  protein_coding   \n",
       "2                                        1542    MT-CO1  protein_coding   \n",
       "3                                         684    MT-CO2  protein_coding   \n",
       "4                                         207   MT-ATP8  protein_coding   \n",
       "\n",
       "   Transcript count  length_of_the_longest_tr_coord  longest_tr_len_paper  \n",
       "0                 1                           956.0                 956.0  \n",
       "1                 1                          1042.0                1042.0  \n",
       "2                 1                          1542.0                1542.0  \n",
       "3                 1                           684.0                 684.0  \n",
       "4                 1                           207.0                 207.0  "
      ]
     },
     "execution_count": 95,
     "metadata": {},
     "output_type": "execute_result"
    }
   ],
   "source": [
    "human.head()"
   ]
  },
  {
   "cell_type": "code",
   "execution_count": 388,
   "metadata": {},
   "outputs": [
    {
     "name": "stderr",
     "output_type": "stream",
     "text": [
      "100%|██████████| 22796/22796 [17:05<00:00, 22.24it/s]\n"
     ]
    }
   ],
   "source": [
    "#for i in tqdm(human['Gene stable ID'].unique()):\n",
    "#    human.loc[human['Gene stable ID'] == i, 'longest_tr_len'] = human[human['Gene stable ID'] == i]['Transcript length (including UTRs and CDS)'].max()\n",
    "\n",
    "for i in tqdm(human['Gene stable ID'].unique()):\n",
    "    human.loc[human['Gene stable ID'] == i, 'length_of_the_longest_tr_coord'] = (abs(human.loc[human['Gene stable ID'] == i, 'Transcript end (bp)'] - human.loc[human['Gene stable ID'] == i, 'Transcript start (bp)']) + 1).max()\n",
    "    human.loc[human['Gene stable ID'] == i, 'longest_tr_len_paper'] = human[human['Gene stable ID'] == i]['Transcript length (including UTRs and CDS)'].max()"
   ]
  },
  {
   "cell_type": "code",
   "execution_count": 387,
   "metadata": {},
   "outputs": [
    {
     "name": "stderr",
     "output_type": "stream",
     "text": [
      "100%|██████████| 22796/22796 [10:24<00:00, 36.48it/s]\n"
     ]
    }
   ],
   "source": [
    "for i in tqdm(human['Gene stable ID'].unique()):\n",
    "    tr_df = human[human['Gene stable ID'] == i].copy()\n",
    "    med_start = tr_df['Transcript start (bp)'].median()\n",
    "    med_end = tr_df['Transcript end (bp)'].median()\n",
    "    human.loc[human['Gene stable ID'] == i, 'median_start'] = med_start\n",
    "    human.loc[human['Gene stable ID'] == i, 'median_end'] = med_end"
   ]
  },
  {
   "cell_type": "code",
   "execution_count": 390,
   "metadata": {},
   "outputs": [
    {
     "data": {
      "text/html": [
       "<div>\n",
       "<style scoped>\n",
       "    .dataframe tbody tr th:only-of-type {\n",
       "        vertical-align: middle;\n",
       "    }\n",
       "\n",
       "    .dataframe tbody tr th {\n",
       "        vertical-align: top;\n",
       "    }\n",
       "\n",
       "    .dataframe thead th {\n",
       "        text-align: right;\n",
       "    }\n",
       "</style>\n",
       "<table border=\"1\" class=\"dataframe\">\n",
       "  <thead>\n",
       "    <tr style=\"text-align: right;\">\n",
       "      <th></th>\n",
       "      <th>Gene name</th>\n",
       "      <th>length_of_the_longest_tr_coord</th>\n",
       "      <th>longest_tr_len_paper</th>\n",
       "      <th>Gene start (bp)</th>\n",
       "      <th>Gene end (bp)</th>\n",
       "      <th>median_start</th>\n",
       "      <th>median_end</th>\n",
       "      <th>Gene_length</th>\n",
       "      <th>Adjusted_gene_length</th>\n",
       "    </tr>\n",
       "  </thead>\n",
       "  <tbody>\n",
       "    <tr>\n",
       "      <th>144631</th>\n",
       "      <td>RBFOX1</td>\n",
       "      <td>2471657.0</td>\n",
       "      <td>4884.0</td>\n",
       "      <td>5239802</td>\n",
       "      <td>7713340</td>\n",
       "      <td>7318500.0</td>\n",
       "      <td>7712847.5</td>\n",
       "      <td>2473539</td>\n",
       "      <td>394348.5</td>\n",
       "    </tr>\n",
       "    <tr>\n",
       "      <th>99630</th>\n",
       "      <td>CNTNAP2</td>\n",
       "      <td>2304198.0</td>\n",
       "      <td>9454.0</td>\n",
       "      <td>146116002</td>\n",
       "      <td>148420998</td>\n",
       "      <td>147341415.5</td>\n",
       "      <td>147996240.0</td>\n",
       "      <td>2304997</td>\n",
       "      <td>654825.5</td>\n",
       "    </tr>\n",
       "    <tr>\n",
       "      <th>126979</th>\n",
       "      <td>PTPRD</td>\n",
       "      <td>2298757.0</td>\n",
       "      <td>10389.0</td>\n",
       "      <td>8314246</td>\n",
       "      <td>10613002</td>\n",
       "      <td>8317340.5</td>\n",
       "      <td>8733946.0</td>\n",
       "      <td>2298757</td>\n",
       "      <td>416606.5</td>\n",
       "    </tr>\n",
       "    <tr>\n",
       "      <th>13290</th>\n",
       "      <td>PTPRD</td>\n",
       "      <td>2084572.0</td>\n",
       "      <td>9911.0</td>\n",
       "      <td>8314246</td>\n",
       "      <td>10612723</td>\n",
       "      <td>8317340.5</td>\n",
       "      <td>8733946.0</td>\n",
       "      <td>2298478</td>\n",
       "      <td>416606.5</td>\n",
       "    </tr>\n",
       "    <tr>\n",
       "      <th>92742</th>\n",
       "      <td>DMD</td>\n",
       "      <td>2092328.0</td>\n",
       "      <td>13992.0</td>\n",
       "      <td>31097677</td>\n",
       "      <td>33339609</td>\n",
       "      <td>31129927.0</td>\n",
       "      <td>31875373.0</td>\n",
       "      <td>2241933</td>\n",
       "      <td>745447.0</td>\n",
       "    </tr>\n",
       "  </tbody>\n",
       "</table>\n",
       "</div>"
      ],
      "text/plain": [
       "       Gene name  length_of_the_longest_tr_coord  longest_tr_len_paper  \\\n",
       "144631    RBFOX1                       2471657.0                4884.0   \n",
       "99630    CNTNAP2                       2304198.0                9454.0   \n",
       "126979     PTPRD                       2298757.0               10389.0   \n",
       "13290      PTPRD                       2084572.0                9911.0   \n",
       "92742        DMD                       2092328.0               13992.0   \n",
       "\n",
       "        Gene start (bp)  Gene end (bp)  median_start   median_end  \\\n",
       "144631          5239802        7713340     7318500.0    7712847.5   \n",
       "99630         146116002      148420998   147341415.5  147996240.0   \n",
       "126979          8314246       10613002     8317340.5    8733946.0   \n",
       "13290           8314246       10612723     8317340.5    8733946.0   \n",
       "92742          31097677       33339609    31129927.0   31875373.0   \n",
       "\n",
       "        Gene_length  Adjusted_gene_length  \n",
       "144631      2473539              394348.5  \n",
       "99630       2304997              654825.5  \n",
       "126979      2298757              416606.5  \n",
       "13290       2298478              416606.5  \n",
       "92742       2241933              745447.0  "
      ]
     },
     "execution_count": 390,
     "metadata": {},
     "output_type": "execute_result"
    }
   ],
   "source": [
    "human_genes = human[['Gene name', 'length_of_the_longest_tr_coord', 'longest_tr_len_paper', 'Gene start (bp)', 'Gene end (bp)', 'median_start', 'median_end']].drop_duplicates()\n",
    "human_genes[\"Gene_length\"] = abs(human_genes[\"Gene start (bp)\"] - human_genes[\"Gene end (bp)\"]) + 1\n",
    "human_genes[\"Adjusted_gene_length\"] = abs(human_genes[\"median_start\"] - human_genes[\"median_end\"]) + 1"
   ]
  },
  {
   "cell_type": "code",
   "execution_count": 439,
   "metadata": {},
   "outputs": [],
   "source": [
    "human_df = human_genes[['Gene name', 'Gene_length', 'length_of_the_longest_tr_coord', 'Adjusted_gene_length']]"
   ]
  },
  {
   "cell_type": "code",
   "execution_count": 440,
   "metadata": {},
   "outputs": [
    {
     "data": {
      "text/html": [
       "<div>\n",
       "<style scoped>\n",
       "    .dataframe tbody tr th:only-of-type {\n",
       "        vertical-align: middle;\n",
       "    }\n",
       "\n",
       "    .dataframe tbody tr th {\n",
       "        vertical-align: top;\n",
       "    }\n",
       "\n",
       "    .dataframe thead th {\n",
       "        text-align: right;\n",
       "    }\n",
       "</style>\n",
       "<table border=\"1\" class=\"dataframe\">\n",
       "  <thead>\n",
       "    <tr style=\"text-align: right;\">\n",
       "      <th></th>\n",
       "      <th>Gene name</th>\n",
       "      <th>Gene_length</th>\n",
       "      <th>length_of_the_longest_tr_coord</th>\n",
       "      <th>Adjusted_gene_length</th>\n",
       "    </tr>\n",
       "  </thead>\n",
       "  <tbody>\n",
       "    <tr>\n",
       "      <th>144631</th>\n",
       "      <td>RBFOX1</td>\n",
       "      <td>2473539</td>\n",
       "      <td>2471657.0</td>\n",
       "      <td>394348.5</td>\n",
       "    </tr>\n",
       "    <tr>\n",
       "      <th>99630</th>\n",
       "      <td>CNTNAP2</td>\n",
       "      <td>2304997</td>\n",
       "      <td>2304198.0</td>\n",
       "      <td>654825.5</td>\n",
       "    </tr>\n",
       "    <tr>\n",
       "      <th>126979</th>\n",
       "      <td>PTPRD</td>\n",
       "      <td>2298757</td>\n",
       "      <td>2298757.0</td>\n",
       "      <td>416606.5</td>\n",
       "    </tr>\n",
       "    <tr>\n",
       "      <th>13290</th>\n",
       "      <td>PTPRD</td>\n",
       "      <td>2298478</td>\n",
       "      <td>2084572.0</td>\n",
       "      <td>416606.5</td>\n",
       "    </tr>\n",
       "    <tr>\n",
       "      <th>92742</th>\n",
       "      <td>DMD</td>\n",
       "      <td>2241933</td>\n",
       "      <td>2092328.0</td>\n",
       "      <td>745447.0</td>\n",
       "    </tr>\n",
       "  </tbody>\n",
       "</table>\n",
       "</div>"
      ],
      "text/plain": [
       "       Gene name  Gene_length  length_of_the_longest_tr_coord  \\\n",
       "144631    RBFOX1      2473539                       2471657.0   \n",
       "99630    CNTNAP2      2304997                       2304198.0   \n",
       "126979     PTPRD      2298757                       2298757.0   \n",
       "13290      PTPRD      2298478                       2084572.0   \n",
       "92742        DMD      2241933                       2092328.0   \n",
       "\n",
       "        Adjusted_gene_length  \n",
       "144631              394348.5  \n",
       "99630               654825.5  \n",
       "126979              416606.5  \n",
       "13290               416606.5  \n",
       "92742               745447.0  "
      ]
     },
     "execution_count": 440,
     "metadata": {},
     "output_type": "execute_result"
    }
   ],
   "source": [
    "human_df.sort_values('Gene_length', ascending=False).head()"
   ]
  },
  {
   "cell_type": "code",
   "execution_count": 441,
   "metadata": {},
   "outputs": [
    {
     "data": {
      "text/html": [
       "<div>\n",
       "<style scoped>\n",
       "    .dataframe tbody tr th:only-of-type {\n",
       "        vertical-align: middle;\n",
       "    }\n",
       "\n",
       "    .dataframe tbody tr th {\n",
       "        vertical-align: top;\n",
       "    }\n",
       "\n",
       "    .dataframe thead th {\n",
       "        text-align: right;\n",
       "    }\n",
       "</style>\n",
       "<table border=\"1\" class=\"dataframe\">\n",
       "  <thead>\n",
       "    <tr style=\"text-align: right;\">\n",
       "      <th></th>\n",
       "      <th>Gene name</th>\n",
       "      <th>Gene_length</th>\n",
       "      <th>length_of_the_longest_tr_coord</th>\n",
       "      <th>Adjusted_gene_length</th>\n",
       "    </tr>\n",
       "  </thead>\n",
       "  <tbody>\n",
       "    <tr>\n",
       "      <th>103874</th>\n",
       "      <td>IGF1</td>\n",
       "      <td>85871</td>\n",
       "      <td>84690.0</td>\n",
       "      <td>78236.0</td>\n",
       "    </tr>\n",
       "  </tbody>\n",
       "</table>\n",
       "</div>"
      ],
      "text/plain": [
       "       Gene name  Gene_length  length_of_the_longest_tr_coord  \\\n",
       "103874      IGF1        85871                         84690.0   \n",
       "\n",
       "        Adjusted_gene_length  \n",
       "103874               78236.0  "
      ]
     },
     "execution_count": 441,
     "metadata": {},
     "output_type": "execute_result"
    }
   ],
   "source": [
    "human_df[human_df['Gene name'] == 'IGF1']"
   ]
  },
  {
   "cell_type": "code",
   "execution_count": 443,
   "metadata": {},
   "outputs": [
    {
     "data": {
      "text/plain": [
       "(22526, 4)"
      ]
     },
     "execution_count": 443,
     "metadata": {},
     "output_type": "execute_result"
    }
   ],
   "source": [
    "human_df.shape"
   ]
  },
  {
   "cell_type": "code",
   "execution_count": 444,
   "metadata": {},
   "outputs": [
    {
     "name": "stderr",
     "output_type": "stream",
     "text": [
      "/home/daria/anaconda3/lib/python3.8/site-packages/pandas/core/frame.py:4296: SettingWithCopyWarning: \n",
      "A value is trying to be set on a copy of a slice from a DataFrame\n",
      "\n",
      "See the caveats in the documentation: https://pandas.pydata.org/pandas-docs/stable/user_guide/indexing.html#returning-a-view-versus-a-copy\n",
      "  return super().rename(\n"
     ]
    },
    {
     "data": {
      "text/plain": [
       "Text(0.5, 1.0, 'Correlation Heatmap, GRCh38.p13')"
      ]
     },
     "execution_count": 444,
     "metadata": {},
     "output_type": "execute_result"
    },
    {
     "data": {
      "image/png": "[encoded data removed]",
      "text/plain": [
       "<Figure size 432x288 with 2 Axes>"
      ]
     },
     "metadata": {
      "needs_background": "light"
     },
     "output_type": "display_data"
    }
   ],
   "source": [
    "human_df.rename(columns={\"length_of_the_longest_tr_coord\": \"Longest Transcript\",\n",
    "                   \"Gene_length\": \"Length (from Ensembl)\",\n",
    "                  \"Adjusted_gene_length\": \"Adjusted Gene Length\"}, inplace = True)\n",
    "\n",
    "\n",
    "heatmap = sns.heatmap(human_df.corr(), vmin=0.8, vmax=1, annot=True, cmap='magma', fmt='.3g')\n",
    "heatmap.set_title('Correlation Heatmap, GRCh38.p13', fontdict={'fontsize':18}, pad=16)"
   ]
  },
  {
   "cell_type": "code",
   "execution_count": null,
   "metadata": {},
   "outputs": [],
   "source": []
  },
  {
   "cell_type": "code",
   "execution_count": null,
   "metadata": {},
   "outputs": [],
   "source": []
  },
  {
   "cell_type": "code",
   "execution_count": 126,
   "metadata": {},
   "outputs": [],
   "source": [
    "macaque = pd.read_csv('../ref_genome/macaque_protein_coding_Mmul_10.txt', sep = '\\t')"
   ]
  },
  {
   "cell_type": "code",
   "execution_count": 127,
   "metadata": {},
   "outputs": [
    {
     "data": {
      "text/html": [
       "<div>\n",
       "<style scoped>\n",
       "    .dataframe tbody tr th:only-of-type {\n",
       "        vertical-align: middle;\n",
       "    }\n",
       "\n",
       "    .dataframe tbody tr th {\n",
       "        vertical-align: top;\n",
       "    }\n",
       "\n",
       "    .dataframe thead th {\n",
       "        text-align: right;\n",
       "    }\n",
       "</style>\n",
       "<table border=\"1\" class=\"dataframe\">\n",
       "  <thead>\n",
       "    <tr style=\"text-align: right;\">\n",
       "      <th></th>\n",
       "      <th>Gene stable ID</th>\n",
       "      <th>Transcript stable ID</th>\n",
       "      <th>Transcript start (bp)</th>\n",
       "      <th>Transcript end (bp)</th>\n",
       "      <th>Gene end (bp)</th>\n",
       "      <th>Gene start (bp)</th>\n",
       "      <th>Transcript length (including UTRs and CDS)</th>\n",
       "      <th>Gene name</th>\n",
       "      <th>Transcript count</th>\n",
       "    </tr>\n",
       "  </thead>\n",
       "  <tbody>\n",
       "    <tr>\n",
       "      <th>0</th>\n",
       "      <td>ENSMMUG00000023296</td>\n",
       "      <td>ENSMMUT00000032773</td>\n",
       "      <td>8231</td>\n",
       "      <td>26653</td>\n",
       "      <td>26653</td>\n",
       "      <td>8231</td>\n",
       "      <td>2681</td>\n",
       "      <td>NaN</td>\n",
       "      <td>1</td>\n",
       "    </tr>\n",
       "    <tr>\n",
       "      <th>1</th>\n",
       "      <td>ENSMMUG00000000634</td>\n",
       "      <td>ENSMMUT00000000911</td>\n",
       "      <td>71582</td>\n",
       "      <td>80807</td>\n",
       "      <td>83178</td>\n",
       "      <td>71582</td>\n",
       "      <td>1944</td>\n",
       "      <td>ZNF692</td>\n",
       "      <td>3</td>\n",
       "    </tr>\n",
       "    <tr>\n",
       "      <th>2</th>\n",
       "      <td>ENSMMUG00000000634</td>\n",
       "      <td>ENSMMUT00000094839</td>\n",
       "      <td>72369</td>\n",
       "      <td>83178</td>\n",
       "      <td>83178</td>\n",
       "      <td>71582</td>\n",
       "      <td>4141</td>\n",
       "      <td>ZNF692</td>\n",
       "      <td>3</td>\n",
       "    </tr>\n",
       "    <tr>\n",
       "      <th>3</th>\n",
       "      <td>ENSMMUG00000000634</td>\n",
       "      <td>ENSMMUT00000000912</td>\n",
       "      <td>72380</td>\n",
       "      <td>80608</td>\n",
       "      <td>83178</td>\n",
       "      <td>71582</td>\n",
       "      <td>1554</td>\n",
       "      <td>ZNF692</td>\n",
       "      <td>3</td>\n",
       "    </tr>\n",
       "    <tr>\n",
       "      <th>4</th>\n",
       "      <td>ENSMMUG00000037875</td>\n",
       "      <td>ENSMMUT00000000909</td>\n",
       "      <td>81258</td>\n",
       "      <td>91679</td>\n",
       "      <td>91679</td>\n",
       "      <td>81258</td>\n",
       "      <td>3015</td>\n",
       "      <td>ZNF672</td>\n",
       "      <td>3</td>\n",
       "    </tr>\n",
       "  </tbody>\n",
       "</table>\n",
       "</div>"
      ],
      "text/plain": [
       "       Gene stable ID Transcript stable ID  Transcript start (bp)  \\\n",
       "0  ENSMMUG00000023296   ENSMMUT00000032773                   8231   \n",
       "1  ENSMMUG00000000634   ENSMMUT00000000911                  71582   \n",
       "2  ENSMMUG00000000634   ENSMMUT00000094839                  72369   \n",
       "3  ENSMMUG00000000634   ENSMMUT00000000912                  72380   \n",
       "4  ENSMMUG00000037875   ENSMMUT00000000909                  81258   \n",
       "\n",
       "   Transcript end (bp)  Gene end (bp)  Gene start (bp)  \\\n",
       "0                26653          26653             8231   \n",
       "1                80807          83178            71582   \n",
       "2                83178          83178            71582   \n",
       "3                80608          83178            71582   \n",
       "4                91679          91679            81258   \n",
       "\n",
       "   Transcript length (including UTRs and CDS) Gene name  Transcript count  \n",
       "0                                        2681       NaN                 1  \n",
       "1                                        1944    ZNF692                 3  \n",
       "2                                        4141    ZNF692                 3  \n",
       "3                                        1554    ZNF692                 3  \n",
       "4                                        3015    ZNF672                 3  "
      ]
     },
     "execution_count": 127,
     "metadata": {},
     "output_type": "execute_result"
    }
   ],
   "source": [
    "macaque.head()"
   ]
  },
  {
   "cell_type": "code",
   "execution_count": 394,
   "metadata": {},
   "outputs": [
    {
     "name": "stderr",
     "output_type": "stream",
     "text": [
      "100%|██████████| 21591/21591 [04:43<00:00, 76.14it/s]\n"
     ]
    }
   ],
   "source": [
    "#for i in tqdm(macaque['Gene stable ID'].unique()):\n",
    "#    macaque.loc[macaque['Gene stable ID'] == i, 'longest_tr_len'] = macaque[macaque['Gene stable ID'] == i]['Transcript length (including UTRs and CDS)'].max()\n",
    "\n",
    "for i in tqdm(macaque['Gene stable ID'].unique()):\n",
    "    macaque.loc[macaque['Gene stable ID'] == i, 'length_of_the_longest_tr_coord'] = (abs(macaque.loc[macaque['Gene stable ID'] == i, 'Transcript end (bp)'] - macaque.loc[macaque['Gene stable ID'] == i, 'Transcript start (bp)']) + 1).max()\n",
    "    macaque.loc[macaque['Gene stable ID'] == i, 'longest_tr_len_paper'] = macaque[macaque['Gene stable ID'] == i]['Transcript length (including UTRs and CDS)'].max()"
   ]
  },
  {
   "cell_type": "code",
   "execution_count": 395,
   "metadata": {},
   "outputs": [
    {
     "name": "stderr",
     "output_type": "stream",
     "text": [
      "100%|██████████| 21591/21591 [02:50<00:00, 126.74it/s]\n"
     ]
    }
   ],
   "source": [
    "for i in tqdm(macaque['Gene stable ID'].unique()):\n",
    "    tr_df = macaque[macaque['Gene stable ID'] == i].copy()\n",
    "    med_start = tr_df['Transcript start (bp)'].median()\n",
    "    med_end = tr_df['Transcript end (bp)'].median()\n",
    "    macaque.loc[macaque['Gene stable ID'] == i, 'median_start'] = med_start\n",
    "    macaque.loc[macaque['Gene stable ID'] == i, 'median_end'] = med_end"
   ]
  },
  {
   "cell_type": "code",
   "execution_count": 396,
   "metadata": {},
   "outputs": [
    {
     "data": {
      "text/html": [
       "<div>\n",
       "<style scoped>\n",
       "    .dataframe tbody tr th:only-of-type {\n",
       "        vertical-align: middle;\n",
       "    }\n",
       "\n",
       "    .dataframe tbody tr th {\n",
       "        vertical-align: top;\n",
       "    }\n",
       "\n",
       "    .dataframe thead th {\n",
       "        text-align: right;\n",
       "    }\n",
       "</style>\n",
       "<table border=\"1\" class=\"dataframe\">\n",
       "  <thead>\n",
       "    <tr style=\"text-align: right;\">\n",
       "      <th></th>\n",
       "      <th>Gene stable ID</th>\n",
       "      <th>Transcript count</th>\n",
       "      <th>length_of_the_longest_tr_coord</th>\n",
       "      <th>Gene start (bp)</th>\n",
       "      <th>Gene end (bp)</th>\n",
       "      <th>median_start</th>\n",
       "      <th>median_end</th>\n",
       "      <th>Gene_length</th>\n",
       "      <th>Adj_length</th>\n",
       "    </tr>\n",
       "  </thead>\n",
       "  <tbody>\n",
       "    <tr>\n",
       "      <th>0</th>\n",
       "      <td>ENSMMUG00000023296</td>\n",
       "      <td>1</td>\n",
       "      <td>18423.0</td>\n",
       "      <td>8231</td>\n",
       "      <td>26653</td>\n",
       "      <td>8231.0</td>\n",
       "      <td>26653.0</td>\n",
       "      <td>18423</td>\n",
       "      <td>18423.0</td>\n",
       "    </tr>\n",
       "    <tr>\n",
       "      <th>1</th>\n",
       "      <td>ENSMMUG00000000634</td>\n",
       "      <td>3</td>\n",
       "      <td>10810.0</td>\n",
       "      <td>71582</td>\n",
       "      <td>83178</td>\n",
       "      <td>72369.0</td>\n",
       "      <td>80807.0</td>\n",
       "      <td>11597</td>\n",
       "      <td>8439.0</td>\n",
       "    </tr>\n",
       "    <tr>\n",
       "      <th>4</th>\n",
       "      <td>ENSMMUG00000037875</td>\n",
       "      <td>3</td>\n",
       "      <td>10422.0</td>\n",
       "      <td>81258</td>\n",
       "      <td>91679</td>\n",
       "      <td>81259.0</td>\n",
       "      <td>91632.0</td>\n",
       "      <td>10422</td>\n",
       "      <td>10374.0</td>\n",
       "    </tr>\n",
       "    <tr>\n",
       "      <th>7</th>\n",
       "      <td>ENSMMUG00000000632</td>\n",
       "      <td>3</td>\n",
       "      <td>15174.0</td>\n",
       "      <td>102662</td>\n",
       "      <td>117835</td>\n",
       "      <td>102688.0</td>\n",
       "      <td>117833.0</td>\n",
       "      <td>15174</td>\n",
       "      <td>15146.0</td>\n",
       "    </tr>\n",
       "    <tr>\n",
       "      <th>10</th>\n",
       "      <td>ENSMMUG00000064799</td>\n",
       "      <td>1</td>\n",
       "      <td>1207.0</td>\n",
       "      <td>122996</td>\n",
       "      <td>124202</td>\n",
       "      <td>122996.0</td>\n",
       "      <td>124202.0</td>\n",
       "      <td>1207</td>\n",
       "      <td>1207.0</td>\n",
       "    </tr>\n",
       "  </tbody>\n",
       "</table>\n",
       "</div>"
      ],
      "text/plain": [
       "        Gene stable ID  Transcript count  length_of_the_longest_tr_coord  \\\n",
       "0   ENSMMUG00000023296                 1                         18423.0   \n",
       "1   ENSMMUG00000000634                 3                         10810.0   \n",
       "4   ENSMMUG00000037875                 3                         10422.0   \n",
       "7   ENSMMUG00000000632                 3                         15174.0   \n",
       "10  ENSMMUG00000064799                 1                          1207.0   \n",
       "\n",
       "    Gene start (bp)  Gene end (bp)  median_start  median_end  Gene_length  \\\n",
       "0              8231          26653        8231.0     26653.0        18423   \n",
       "1             71582          83178       72369.0     80807.0        11597   \n",
       "4             81258          91679       81259.0     91632.0        10422   \n",
       "7            102662         117835      102688.0    117833.0        15174   \n",
       "10           122996         124202      122996.0    124202.0         1207   \n",
       "\n",
       "    Adj_length  \n",
       "0      18423.0  \n",
       "1       8439.0  \n",
       "4      10374.0  \n",
       "7      15146.0  \n",
       "10      1207.0  "
      ]
     },
     "execution_count": 396,
     "metadata": {},
     "output_type": "execute_result"
    }
   ],
   "source": [
    "macaque_genes = macaque[['Gene stable ID', 'Transcript count', 'length_of_the_longest_tr_coord', \n",
    "                         'Gene start (bp)', 'Gene end (bp)',\n",
    "                        'median_start', 'median_end']].drop_duplicates()\n",
    "macaque_genes[\"Gene_length\"] = abs(macaque_genes[\"Gene start (bp)\"] - macaque_genes[\"Gene end (bp)\"]) + 1\n",
    "macaque_genes[\"Adj_length\"] = abs(macaque_genes[\"median_start\"] - macaque_genes[\"median_end\"]) + 1\n",
    "macaque_genes.head()"
   ]
  },
  {
   "cell_type": "code",
   "execution_count": 397,
   "metadata": {},
   "outputs": [
    {
     "data": {
      "text/html": [
       "<div>\n",
       "<style scoped>\n",
       "    .dataframe tbody tr th:only-of-type {\n",
       "        vertical-align: middle;\n",
       "    }\n",
       "\n",
       "    .dataframe tbody tr th {\n",
       "        vertical-align: top;\n",
       "    }\n",
       "\n",
       "    .dataframe thead th {\n",
       "        text-align: right;\n",
       "    }\n",
       "</style>\n",
       "<table border=\"1\" class=\"dataframe\">\n",
       "  <thead>\n",
       "    <tr style=\"text-align: right;\">\n",
       "      <th></th>\n",
       "      <th>length_of_the_longest_tr_coord</th>\n",
       "      <th>Gene_length</th>\n",
       "    </tr>\n",
       "  </thead>\n",
       "  <tbody>\n",
       "    <tr>\n",
       "      <th>length_of_the_longest_tr_coord</th>\n",
       "      <td>1.000000</td>\n",
       "      <td>0.998801</td>\n",
       "    </tr>\n",
       "    <tr>\n",
       "      <th>Gene_length</th>\n",
       "      <td>0.998801</td>\n",
       "      <td>1.000000</td>\n",
       "    </tr>\n",
       "  </tbody>\n",
       "</table>\n",
       "</div>"
      ],
      "text/plain": [
       "                                length_of_the_longest_tr_coord  Gene_length\n",
       "length_of_the_longest_tr_coord                        1.000000     0.998801\n",
       "Gene_length                                           0.998801     1.000000"
      ]
     },
     "execution_count": 397,
     "metadata": {},
     "output_type": "execute_result"
    }
   ],
   "source": [
    "macaque_genes[['Gene stable ID', 'length_of_the_longest_tr_coord', 'Gene_length']].corr()"
   ]
  },
  {
   "cell_type": "code",
   "execution_count": null,
   "metadata": {},
   "outputs": [],
   "source": []
  },
  {
   "cell_type": "code",
   "execution_count": 131,
   "metadata": {},
   "outputs": [],
   "source": [
    "chimp = pd.read_csv('../ref_genome/chimp_protein_coding_Pan_tro_3.0.txt', sep = '\\t')"
   ]
  },
  {
   "cell_type": "code",
   "execution_count": 132,
   "metadata": {},
   "outputs": [
    {
     "data": {
      "text/html": [
       "<div>\n",
       "<style scoped>\n",
       "    .dataframe tbody tr th:only-of-type {\n",
       "        vertical-align: middle;\n",
       "    }\n",
       "\n",
       "    .dataframe tbody tr th {\n",
       "        vertical-align: top;\n",
       "    }\n",
       "\n",
       "    .dataframe thead th {\n",
       "        text-align: right;\n",
       "    }\n",
       "</style>\n",
       "<table border=\"1\" class=\"dataframe\">\n",
       "  <thead>\n",
       "    <tr style=\"text-align: right;\">\n",
       "      <th></th>\n",
       "      <th>Gene stable ID</th>\n",
       "      <th>Transcript stable ID</th>\n",
       "      <th>Gene start (bp)</th>\n",
       "      <th>Gene end (bp)</th>\n",
       "      <th>Transcript start (bp)</th>\n",
       "      <th>Transcript end (bp)</th>\n",
       "      <th>Transcript length (including UTRs and CDS)</th>\n",
       "      <th>Gene name</th>\n",
       "      <th>Transcript count</th>\n",
       "    </tr>\n",
       "  </thead>\n",
       "  <tbody>\n",
       "    <tr>\n",
       "      <th>0</th>\n",
       "      <td>ENSPTRG00000042641</td>\n",
       "      <td>ENSPTRT00000076390</td>\n",
       "      <td>2725</td>\n",
       "      <td>3681</td>\n",
       "      <td>2725</td>\n",
       "      <td>3681</td>\n",
       "      <td>957</td>\n",
       "      <td>MT-ND1</td>\n",
       "      <td>1</td>\n",
       "    </tr>\n",
       "    <tr>\n",
       "      <th>1</th>\n",
       "      <td>ENSPTRG00000042626</td>\n",
       "      <td>ENSPTRT00000076387</td>\n",
       "      <td>3888</td>\n",
       "      <td>4931</td>\n",
       "      <td>3888</td>\n",
       "      <td>4931</td>\n",
       "      <td>1044</td>\n",
       "      <td>MT-ND2</td>\n",
       "      <td>1</td>\n",
       "    </tr>\n",
       "    <tr>\n",
       "      <th>2</th>\n",
       "      <td>ENSPTRG00000042657</td>\n",
       "      <td>ENSPTRT00000076402</td>\n",
       "      <td>5321</td>\n",
       "      <td>6862</td>\n",
       "      <td>5321</td>\n",
       "      <td>6862</td>\n",
       "      <td>1542</td>\n",
       "      <td>MT-CO1</td>\n",
       "      <td>1</td>\n",
       "    </tr>\n",
       "    <tr>\n",
       "      <th>3</th>\n",
       "      <td>ENSPTRG00000042660</td>\n",
       "      <td>ENSPTRT00000076397</td>\n",
       "      <td>7003</td>\n",
       "      <td>7686</td>\n",
       "      <td>7003</td>\n",
       "      <td>7686</td>\n",
       "      <td>684</td>\n",
       "      <td>MT-CO2</td>\n",
       "      <td>1</td>\n",
       "    </tr>\n",
       "    <tr>\n",
       "      <th>4</th>\n",
       "      <td>ENSPTRG00000042653</td>\n",
       "      <td>ENSPTRT00000076398</td>\n",
       "      <td>7784</td>\n",
       "      <td>7990</td>\n",
       "      <td>7784</td>\n",
       "      <td>7990</td>\n",
       "      <td>207</td>\n",
       "      <td>MT-ATP8</td>\n",
       "      <td>1</td>\n",
       "    </tr>\n",
       "  </tbody>\n",
       "</table>\n",
       "</div>"
      ],
      "text/plain": [
       "       Gene stable ID Transcript stable ID  Gene start (bp)  Gene end (bp)  \\\n",
       "0  ENSPTRG00000042641   ENSPTRT00000076390             2725           3681   \n",
       "1  ENSPTRG00000042626   ENSPTRT00000076387             3888           4931   \n",
       "2  ENSPTRG00000042657   ENSPTRT00000076402             5321           6862   \n",
       "3  ENSPTRG00000042660   ENSPTRT00000076397             7003           7686   \n",
       "4  ENSPTRG00000042653   ENSPTRT00000076398             7784           7990   \n",
       "\n",
       "   Transcript start (bp)  Transcript end (bp)  \\\n",
       "0                   2725                 3681   \n",
       "1                   3888                 4931   \n",
       "2                   5321                 6862   \n",
       "3                   7003                 7686   \n",
       "4                   7784                 7990   \n",
       "\n",
       "   Transcript length (including UTRs and CDS) Gene name  Transcript count  \n",
       "0                                         957    MT-ND1                 1  \n",
       "1                                        1044    MT-ND2                 1  \n",
       "2                                        1542    MT-CO1                 1  \n",
       "3                                         684    MT-CO2                 1  \n",
       "4                                         207   MT-ATP8                 1  "
      ]
     },
     "execution_count": 132,
     "metadata": {},
     "output_type": "execute_result"
    }
   ],
   "source": [
    "chimp.head()"
   ]
  },
  {
   "cell_type": "code",
   "execution_count": 398,
   "metadata": {},
   "outputs": [
    {
     "name": "stderr",
     "output_type": "stream",
     "text": [
      "100%|██████████| 23302/23302 [05:05<00:00, 76.17it/s]\n"
     ]
    }
   ],
   "source": [
    "#for i in tqdm(chimp['Gene stable ID'].unique()):\n",
    "#    chimp.loc[chimp['Gene stable ID'] == i, 'longest_tr_len'] = chimp[chimp['Gene stable ID'] == i]['Transcript length (including UTRs and CDS)'].max()\n",
    "\n",
    "for i in tqdm(chimp['Gene stable ID'].unique()):\n",
    "    chimp.loc[chimp['Gene stable ID'] == i, 'length_of_the_longest_tr_coord'] = (abs(chimp.loc[chimp['Gene stable ID'] == i, 'Transcript end (bp)'] - chimp.loc[chimp['Gene stable ID'] == i, 'Transcript start (bp)']) + 1).max()\n",
    "    chimp.loc[chimp['Gene stable ID'] == i, 'longest_tr_len_paper'] = chimp[chimp['Gene stable ID'] == i]['Transcript length (including UTRs and CDS)'].max()"
   ]
  },
  {
   "cell_type": "code",
   "execution_count": 399,
   "metadata": {},
   "outputs": [
    {
     "name": "stderr",
     "output_type": "stream",
     "text": [
      "100%|██████████| 23302/23302 [03:12<00:00, 120.76it/s]\n"
     ]
    }
   ],
   "source": [
    "for i in tqdm(chimp['Gene stable ID'].unique()):\n",
    "    tr_df = chimp[chimp['Gene stable ID'] == i].copy()\n",
    "    med_start = tr_df['Transcript start (bp)'].median()\n",
    "    med_end = tr_df['Transcript end (bp)'].median()\n",
    "    chimp.loc[chimp['Gene stable ID'] == i, 'median_start'] = med_start\n",
    "    chimp.loc[chimp['Gene stable ID'] == i, 'median_end'] = med_end"
   ]
  },
  {
   "cell_type": "code",
   "execution_count": 400,
   "metadata": {},
   "outputs": [
    {
     "data": {
      "text/html": [
       "<div>\n",
       "<style scoped>\n",
       "    .dataframe tbody tr th:only-of-type {\n",
       "        vertical-align: middle;\n",
       "    }\n",
       "\n",
       "    .dataframe tbody tr th {\n",
       "        vertical-align: top;\n",
       "    }\n",
       "\n",
       "    .dataframe thead th {\n",
       "        text-align: right;\n",
       "    }\n",
       "</style>\n",
       "<table border=\"1\" class=\"dataframe\">\n",
       "  <thead>\n",
       "    <tr style=\"text-align: right;\">\n",
       "      <th></th>\n",
       "      <th>Gene stable ID</th>\n",
       "      <th>Transcript count</th>\n",
       "      <th>length_of_the_longest_tr_coord</th>\n",
       "      <th>longest_tr_len_paper</th>\n",
       "      <th>Gene start (bp)</th>\n",
       "      <th>Gene end (bp)</th>\n",
       "      <th>median_start</th>\n",
       "      <th>median_end</th>\n",
       "      <th>Gene_length</th>\n",
       "      <th>Adj_length</th>\n",
       "    </tr>\n",
       "  </thead>\n",
       "  <tbody>\n",
       "    <tr>\n",
       "      <th>0</th>\n",
       "      <td>ENSPTRG00000042641</td>\n",
       "      <td>1</td>\n",
       "      <td>957.0</td>\n",
       "      <td>957.0</td>\n",
       "      <td>2725</td>\n",
       "      <td>3681</td>\n",
       "      <td>2725.0</td>\n",
       "      <td>3681.0</td>\n",
       "      <td>957</td>\n",
       "      <td>957.0</td>\n",
       "    </tr>\n",
       "    <tr>\n",
       "      <th>1</th>\n",
       "      <td>ENSPTRG00000042626</td>\n",
       "      <td>1</td>\n",
       "      <td>1044.0</td>\n",
       "      <td>1044.0</td>\n",
       "      <td>3888</td>\n",
       "      <td>4931</td>\n",
       "      <td>3888.0</td>\n",
       "      <td>4931.0</td>\n",
       "      <td>1044</td>\n",
       "      <td>1044.0</td>\n",
       "    </tr>\n",
       "    <tr>\n",
       "      <th>2</th>\n",
       "      <td>ENSPTRG00000042657</td>\n",
       "      <td>1</td>\n",
       "      <td>1542.0</td>\n",
       "      <td>1542.0</td>\n",
       "      <td>5321</td>\n",
       "      <td>6862</td>\n",
       "      <td>5321.0</td>\n",
       "      <td>6862.0</td>\n",
       "      <td>1542</td>\n",
       "      <td>1542.0</td>\n",
       "    </tr>\n",
       "    <tr>\n",
       "      <th>3</th>\n",
       "      <td>ENSPTRG00000042660</td>\n",
       "      <td>1</td>\n",
       "      <td>684.0</td>\n",
       "      <td>684.0</td>\n",
       "      <td>7003</td>\n",
       "      <td>7686</td>\n",
       "      <td>7003.0</td>\n",
       "      <td>7686.0</td>\n",
       "      <td>684</td>\n",
       "      <td>684.0</td>\n",
       "    </tr>\n",
       "    <tr>\n",
       "      <th>4</th>\n",
       "      <td>ENSPTRG00000042653</td>\n",
       "      <td>1</td>\n",
       "      <td>207.0</td>\n",
       "      <td>207.0</td>\n",
       "      <td>7784</td>\n",
       "      <td>7990</td>\n",
       "      <td>7784.0</td>\n",
       "      <td>7990.0</td>\n",
       "      <td>207</td>\n",
       "      <td>207.0</td>\n",
       "    </tr>\n",
       "  </tbody>\n",
       "</table>\n",
       "</div>"
      ],
      "text/plain": [
       "       Gene stable ID  Transcript count  length_of_the_longest_tr_coord  \\\n",
       "0  ENSPTRG00000042641                 1                           957.0   \n",
       "1  ENSPTRG00000042626                 1                          1044.0   \n",
       "2  ENSPTRG00000042657                 1                          1542.0   \n",
       "3  ENSPTRG00000042660                 1                           684.0   \n",
       "4  ENSPTRG00000042653                 1                           207.0   \n",
       "\n",
       "   longest_tr_len_paper  Gene start (bp)  Gene end (bp)  median_start  \\\n",
       "0                 957.0             2725           3681        2725.0   \n",
       "1                1044.0             3888           4931        3888.0   \n",
       "2                1542.0             5321           6862        5321.0   \n",
       "3                 684.0             7003           7686        7003.0   \n",
       "4                 207.0             7784           7990        7784.0   \n",
       "\n",
       "   median_end  Gene_length  Adj_length  \n",
       "0      3681.0          957       957.0  \n",
       "1      4931.0         1044      1044.0  \n",
       "2      6862.0         1542      1542.0  \n",
       "3      7686.0          684       684.0  \n",
       "4      7990.0          207       207.0  "
      ]
     },
     "execution_count": 400,
     "metadata": {},
     "output_type": "execute_result"
    }
   ],
   "source": [
    "chimp_genes = chimp[['Gene stable ID', 'Transcript count', 'length_of_the_longest_tr_coord', \n",
    "                     'longest_tr_len_paper', 'Gene start (bp)', 'Gene end (bp)',\n",
    "                    'median_start', 'median_end']].drop_duplicates()\n",
    "chimp_genes[\"Gene_length\"] = abs(chimp_genes[\"Gene start (bp)\"] - chimp_genes[\"Gene end (bp)\"]) + 1\n",
    "chimp_genes[\"Adj_length\"] = abs(chimp_genes[\"median_start\"] - chimp_genes[\"median_end\"]) + 1\n",
    "chimp_genes.head()"
   ]
  },
  {
   "cell_type": "code",
   "execution_count": 401,
   "metadata": {},
   "outputs": [
    {
     "data": {
      "text/html": [
       "<div>\n",
       "<style scoped>\n",
       "    .dataframe tbody tr th:only-of-type {\n",
       "        vertical-align: middle;\n",
       "    }\n",
       "\n",
       "    .dataframe tbody tr th {\n",
       "        vertical-align: top;\n",
       "    }\n",
       "\n",
       "    .dataframe thead th {\n",
       "        text-align: right;\n",
       "    }\n",
       "</style>\n",
       "<table border=\"1\" class=\"dataframe\">\n",
       "  <thead>\n",
       "    <tr style=\"text-align: right;\">\n",
       "      <th></th>\n",
       "      <th>length_of_the_longest_tr_coord</th>\n",
       "      <th>Gene_length</th>\n",
       "    </tr>\n",
       "  </thead>\n",
       "  <tbody>\n",
       "    <tr>\n",
       "      <th>length_of_the_longest_tr_coord</th>\n",
       "      <td>1.000000</td>\n",
       "      <td>0.999467</td>\n",
       "    </tr>\n",
       "    <tr>\n",
       "      <th>Gene_length</th>\n",
       "      <td>0.999467</td>\n",
       "      <td>1.000000</td>\n",
       "    </tr>\n",
       "  </tbody>\n",
       "</table>\n",
       "</div>"
      ],
      "text/plain": [
       "                                length_of_the_longest_tr_coord  Gene_length\n",
       "length_of_the_longest_tr_coord                        1.000000     0.999467\n",
       "Gene_length                                           0.999467     1.000000"
      ]
     },
     "execution_count": 401,
     "metadata": {},
     "output_type": "execute_result"
    }
   ],
   "source": [
    "chimp_genes[['Gene stable ID', 'length_of_the_longest_tr_coord', 'Gene_length']].corr()"
   ]
  },
  {
   "cell_type": "code",
   "execution_count": 139,
   "metadata": {
    "scrolled": true
   },
   "outputs": [
    {
     "data": {
      "image/png": "[encoded data removed]",
      "text/plain": [
       "<Figure size 432x288 with 1 Axes>"
      ]
     },
     "metadata": {
      "needs_background": "light"
     },
     "output_type": "display_data"
    }
   ],
   "source": [
    "bp = plt.boxplot([mouse_39_genes['longest_tr_len_paper'] ,\n",
    "                  human_genes['longest_tr_len_paper'],\n",
    "                  chimp_genes['longest_tr_len_paper'],\n",
    "                  macaque_genes['longest_tr_len_paper']], showfliers=False, showmeans=True)\n",
    "plt.xticks([1, 2, 3, 4], ['mouse 39', 'human', 'chimp', 'macaque'])\n",
    "plt.title('Length of the longest transcripts per gene (paper definition)')\n",
    "plt.show()"
   ]
  },
  {
   "cell_type": "code",
   "execution_count": 418,
   "metadata": {},
   "outputs": [
    {
     "data": {
      "image/png": "[encoded data removed]",
      "text/plain": [
       "<Figure size 432x288 with 1 Axes>"
      ]
     },
     "metadata": {
      "needs_background": "light"
     },
     "output_type": "display_data"
    }
   ],
   "source": [
    "bp = plt.boxplot([mouse_38_genes['length_of_the_longest_tr_coord'],\n",
    "                  mouse_39_genes['length_of_the_longest_tr_coord'] ,\n",
    "                  human_genes['length_of_the_longest_tr_coord'],\n",
    "                  chimp_genes['length_of_the_longest_tr_coord'],\n",
    "                  macaque_genes['length_of_the_longest_tr_coord']], showfliers=False, showmeans=True)\n",
    "plt.xticks([1, 2, 3, 4, 5], ['GRCm38 \\n mouse', 'GRCm39 \\n mouse',\n",
    "                             'GRCh38.p13 \\n human', 'Pan_tro_3.0 \\n chimp', 'Mmul_10 \\n macaque'])\n",
    "plt.title('Length of the longest transcripts per gene')\n",
    "plt.show()"
   ]
  },
  {
   "cell_type": "code",
   "execution_count": 448,
   "metadata": {},
   "outputs": [
    {
     "name": "stdout",
     "output_type": "stream",
     "text": [
      "(22159, 18)\n",
      "(21885, 9)\n",
      "(22526, 9)\n",
      "(23302, 10)\n",
      "(21591, 9)\n"
     ]
    }
   ],
   "source": [
    "print(mouse_38_genes.shape)\n",
    "print(mouse_39_genes.shape)\n",
    "print(human_genes.shape)\n",
    "print(chimp_genes.shape)\n",
    "print(macaque_genes.shape)"
   ]
  },
  {
   "cell_type": "code",
   "execution_count": 450,
   "metadata": {},
   "outputs": [
    {
     "name": "stdout",
     "output_type": "stream",
     "text": [
      "46127.296358138905\n",
      "48388.12826136623\n",
      "61544.91290064814\n",
      "48592.364518067116\n",
      "55939.816868139504\n"
     ]
    }
   ],
   "source": [
    "print(mouse_38_genes['length_of_the_longest_tr_coord'].mean())\n",
    "print(mouse_39_genes['length_of_the_longest_tr_coord'].mean())\n",
    "print(human_genes['length_of_the_longest_tr_coord'].mean())\n",
    "print(chimp_genes['length_of_the_longest_tr_coord'].mean())\n",
    "print(macaque_genes['length_of_the_longest_tr_coord'].mean())"
   ]
  },
  {
   "cell_type": "code",
   "execution_count": 451,
   "metadata": {},
   "outputs": [
    {
     "name": "stdout",
     "output_type": "stream",
     "text": [
      "16140.0\n",
      "17288.0\n",
      "23033.5\n",
      "15436.5\n",
      "19116.0\n"
     ]
    }
   ],
   "source": [
    "print(mouse_38_genes['length_of_the_longest_tr_coord'].median())\n",
    "print(mouse_39_genes['length_of_the_longest_tr_coord'].median())\n",
    "print(human_genes['length_of_the_longest_tr_coord'].median())\n",
    "print(chimp_genes['length_of_the_longest_tr_coord'].median())\n",
    "print(macaque_genes['length_of_the_longest_tr_coord'].median())"
   ]
  },
  {
   "cell_type": "code",
   "execution_count": null,
   "metadata": {},
   "outputs": [],
   "source": []
  },
  {
   "cell_type": "code",
   "execution_count": 419,
   "metadata": {},
   "outputs": [
    {
     "data": {
      "image/png": "[encoded data removed]",
      "text/plain": [
       "<Figure size 432x288 with 1 Axes>"
      ]
     },
     "metadata": {
      "needs_background": "light"
     },
     "output_type": "display_data"
    }
   ],
   "source": [
    "bp = plt.boxplot([mouse_38_genes['adj_length'],\n",
    "                  mouse_39_genes['Adjusted_gene_length'] ,\n",
    "                  human_genes['Adjusted_gene_length'],\n",
    "                  chimp_genes['Adj_length'],\n",
    "                  macaque_genes['Adj_length']], showfliers=False, showmeans=True)\n",
    "plt.xticks([1, 2, 3, 4, 5], ['GRCm38 \\n mouse', 'GRCm39 \\n mouse',\n",
    "                             'GRCh38.p13 \\n human', 'Pan_tro_3.0 \\n chimp', 'Mmul_10 \\n macaque'])\n",
    "plt.title('Adjusted gene length')\n",
    "plt.show()"
   ]
  },
  {
   "cell_type": "code",
   "execution_count": 452,
   "metadata": {},
   "outputs": [
    {
     "name": "stdout",
     "output_type": "stream",
     "text": [
      "34443.90157498082\n",
      "33373.41836874572\n",
      "39256.38382313771\n",
      "40397.63805681916\n",
      "48342.68780973554\n"
     ]
    }
   ],
   "source": [
    "print(mouse_38_genes['adj_length'].mean())\n",
    "print(mouse_39_genes['Adjusted_gene_length'].mean())\n",
    "print(human_genes['Adjusted_gene_length'].mean())\n",
    "print(chimp_genes['Adj_length'].mean())\n",
    "print(macaque_genes['Adj_length'].mean())"
   ]
  },
  {
   "cell_type": "code",
   "execution_count": 453,
   "metadata": {},
   "outputs": [
    {
     "name": "stdout",
     "output_type": "stream",
     "text": [
      "12218.5\n",
      "12265.0\n",
      "15051.0\n",
      "13603.5\n",
      "17042.5\n"
     ]
    }
   ],
   "source": [
    "print(mouse_38_genes['adj_length'].median())\n",
    "print(mouse_39_genes['Adjusted_gene_length'].median())\n",
    "print(human_genes['Adjusted_gene_length'].median())\n",
    "print(chimp_genes['Adj_length'].median())\n",
    "print(macaque_genes['Adj_length'].median())"
   ]
  },
  {
   "cell_type": "code",
   "execution_count": 69,
   "metadata": {},
   "outputs": [
    {
     "name": "stdout",
     "output_type": "stream",
     "text": [
      "9.309902843202235e-100\n"
     ]
    }
   ],
   "source": [
    "stat, p = scipy.stats.mannwhitneyu(macaque[['Gene stable ID', 'longest_tr_len']].drop_duplicates()['longest_tr_len'].values, \n",
    "                                   chimp[['Gene stable ID', 'longest_tr_len']].drop_duplicates()['longest_tr_len'].values, \n",
    "                                   alternative='two-sided')\n",
    "print(p)"
   ]
  },
  {
   "cell_type": "code",
   "execution_count": null,
   "metadata": {},
   "outputs": [],
   "source": [
    "bp = plt.boxplot([mouse_39[['Gene stable ID', 'longest_tr_len']].drop_duplicates()['longest_tr_len'] ,\n",
    "                  human[['Gene stable ID', 'longest_tr_len']].drop_duplicates()['longest_tr_len'],\n",
    "                  chimp[['Gene stable ID', 'longest_tr_len']].drop_duplicates()['longest_tr_len'],\n",
    "                  macaque[['Gene stable ID', 'longest_tr_len']].drop_duplicates()['longest_tr_len']], showfliers=False, showmeans=True)\n",
    "plt.xticks([1, 2, 3, 4], ['mouse 39', 'human', 'chimp', 'macaque'])\n",
    "plt.title('Length of the longest transcripts per gene')\n",
    "plt.show()"
   ]
  },
  {
   "cell_type": "code",
   "execution_count": 456,
   "metadata": {},
   "outputs": [],
   "source": [
    "mouse_39_genes.to_csv('../ref_genome/m39_gene_lengths_protein_coding.csv', index = None)"
   ]
  },
  {
   "cell_type": "code",
   "execution_count": null,
   "metadata": {},
   "outputs": [],
   "source": []
  }
 ],
 "metadata": {
  "kernelspec": {
   "display_name": "Python 3",
   "language": "python",
   "name": "python3"
  },
  "language_info": {
   "codemirror_mode": {
    "name": "ipython",
    "version": 3
   },
   "file_extension": ".py",
   "mimetype": "text/x-python",
   "name": "python",
   "nbconvert_exporter": "python",
   "pygments_lexer": "ipython3",
   "version": "3.8.5"
  }
 },
 "nbformat": 4,
 "nbformat_minor": 4
}
